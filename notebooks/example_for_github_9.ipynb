{
 "cells": [
  {
   "cell_type": "code",
   "execution_count": 1,
   "metadata": {},
   "outputs": [],
   "source": [
    "from stark_qa import load_qa, load_skb\n",
    "from stark_qa.tools.process_text import normalize_answer"
   ]
  },
  {
   "cell_type": "code",
   "execution_count": 2,
   "metadata": {},
   "outputs": [
    {
     "name": "stdout",
     "output_type": "stream",
     "text": [
      "Use file from /Users/louislacombe/.cache/huggingface/hub/datasets--snap-stanford--stark/snapshots/7b0352c7dcefbf254478c203bcfdf284a08866ac/qa/prime/stark_qa/stark_qa_human_generated_eval.csv.\n",
      "Loading from /Users/louislacombe/CODE/quantmetry/stark/prime/processed!\n"
     ]
    }
   ],
   "source": [
    "dataset_name = 'prime'\n",
    "\n",
    "# Load the retrieval dataset\n",
    "qa_dataset = load_qa(dataset_name, human_generated_eval=True)\n",
    "\n",
    "# Load the semi-structured knowledge base\n",
    "skb = load_skb(dataset_name, download_processed=False, root='../')"
   ]
  },
  {
   "cell_type": "code",
   "execution_count": 8,
   "metadata": {},
   "outputs": [],
   "source": [
    "def check_word_in_text(word, text):\n",
    "    return word in text\n",
    "\n",
    "def check_similarity_question_answer(question, list_answers, show=False):\n",
    "    question_ = normalize_answer(question)\n",
    "    for answer in list_answers:\n",
    "        answer_ = normalize_answer(answer)\n",
    "        if check_word_in_text(answer_, question_):\n",
    "            if show:\n",
    "                print('Answer:', answer)\n",
    "                print('Question:', question)\n",
    "                print(\"-\"*10)\n",
    "            return True\n",
    "    return False\n",
    "\n",
    "\n",
    "def check_questions(qa_dataset, max_number_answers=5, show=False):\n",
    "    exclude_questions = []\n",
    "    for item in qa_dataset:\n",
    "        question_ = item[0]\n",
    "        list_answer_ = item[2]\n",
    "\n",
    "        list_answer_names_ = []\n",
    "        for answer_ in list_answer_:\n",
    "            list_answer_names_.append(skb.__getitem__(int(answer_)).name)\n",
    "\n",
    "        # Check if one of the answers is in the questions using regex\n",
    "        if check_similarity_question_answer(question_, list_answer_names_, show=show):\n",
    "            print('Question index:', item[1])\n",
    "            exclude_questions.append(item[1])\n",
    "\n",
    "    exclude_questions = list(set(exclude_questions))\n",
    "    if show:\n",
    "        print('Number of questions to exclude:', len(exclude_questions))\n",
    "\n",
    "    qa_dataset_filtered = []\n",
    "    for item in qa_dataset:\n",
    "        if item[1] not in exclude_questions:\n",
    "            qa_dataset_filtered.append(item)\n",
    "    return qa_dataset_filtered\n",
    "\n"
   ]
  },
  {
   "cell_type": "code",
   "execution_count": 9,
   "metadata": {},
   "outputs": [
    {
     "name": "stdout",
     "output_type": "stream",
     "text": [
      "Answer: mixed mucinous and nonmucinous bronchioloalveolar adenocarcinoma\n",
      "Question: mixed mucinous and nonmucinous bronchioloalveolar adenocarcinoma is a subtype of what disease?\n",
      "----------\n",
      "Question index: 1\n",
      "Answer: MTND5P11\n",
      "Question: Is MTND5P11 expressed in any part of the brain?\n",
      "----------\n",
      "Question index: 27\n",
      "Answer: 2,3',4,4',5-pentachlorobiphenyl\n",
      "Question: What diseases is exposure to 2,3',4,4',5-pentachlorobiphenyl associated with?\n",
      "----------\n",
      "Question index: 47\n",
      "Answer: HIF3A\n",
      "Question: The protein encoded by HIF3A is associated with negative regulation of what?\n",
      "----------\n",
      "Question index: 62\n",
      "Answer: Protein repair\n",
      "Question: Complex machine learning methods like alpha fold could help scientists study protein repair and which other pathways?\n",
      "----------\n",
      "Question index: 82\n",
      "Number of questions to exclude: 5\n"
     ]
    }
   ],
   "source": [
    "filtered_questions = check_questions(qa_dataset, show=True)"
   ]
  },
  {
   "cell_type": "code",
   "execution_count": null,
   "metadata": {},
   "outputs": [],
   "source": []
  }
 ],
 "metadata": {
  "kernelspec": {
   "display_name": "env-ibkh",
   "language": "python",
   "name": "python3"
  },
  "language_info": {
   "codemirror_mode": {
    "name": "ipython",
    "version": 3
   },
   "file_extension": ".py",
   "mimetype": "text/x-python",
   "name": "python",
   "nbconvert_exporter": "python",
   "pygments_lexer": "ipython3",
   "version": "3.11.9"
  }
 },
 "nbformat": 4,
 "nbformat_minor": 2
}
