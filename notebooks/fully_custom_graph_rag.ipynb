{
  "cells": [
    {
      "cell_type": "code",
      "execution_count": null,
      "id": "1f4aa40b",
      "metadata": {},
      "outputs": [],
      "source": [
        "%load_ext autoreload\n",
        "%autoreload 2"
      ]
    },
    {
      "cell_type": "code",
      "execution_count": null,
      "id": "ef2b29fc",
      "metadata": {},
      "outputs": [],
      "source": [
        "from utils_neo4j import Neo4jApp\n",
        "from utils_llm import GraphRAG"
      ]
    },
    {
      "cell_type": "code",
      "execution_count": null,
      "id": "041e3fa1",
      "metadata": {},
      "outputs": [],
      "source": [
        "scheme = \"bolt\"  # Connecting to Aura, use the \"neo4j+s\" URI scheme\n",
        "host_name = \"localhost\"\n",
        "port = 7687\n",
        "uri = f\"{scheme}://{host_name}:{port}\"\n",
        "user = \"neo4j\"\n",
        "password = \"12345678\"\n",
        "database = \"neo4j\""
      ]
    },
    {
      "cell_type": "code",
      "execution_count": null,
      "id": "c71653e5",
      "metadata": {},
      "outputs": [],
      "source": [
        "app = Neo4jApp(uri, user, password, database)\n",
        "app.verify_connection()"
      ]
    },
    {
      "cell_type": "code",
      "execution_count": null,
      "id": "bc458f12",
      "metadata": {},
      "outputs": [],
      "source": [
        "graph_rag = GraphRAG(graph=app, relation_score=True, pydantic=True, show=False)"
      ]
    },
    {
      "cell_type": "markdown",
      "id": "3f7e5bda-b11d-4544-adb9-ebed298fe070",
      "metadata": {
        "id": "3f7e5bda-b11d-4544-adb9-ebed298fe070"
      },
      "source": [
        "### Try out some Queries"
      ]
    },
    {
      "cell_type": "code",
      "execution_count": null,
      "id": "a950e8b7-91db-4153-8528-47a8b91d77f6",
      "metadata": {
        "colab": {
          "base_uri": "https://localhost:8080/"
        },
        "id": "a950e8b7-91db-4153-8528-47a8b91d77f6",
        "outputId": "86c13853-298a-4e54-c45d-910781ecbab4"
      },
      "outputs": [],
      "source": [
        "question2 = \"I remember I heard of a drug whos name sounds like 'depression' and is used to treat nocturia. What is it?\"\n",
        "question3 = \"Which HIV drug targets CCR5 and has side effects like Alopecia, Syncope, Chronic sinusitis?\"\n",
        "question4 = \"I have visual loss and abnormal electroretinogram, what I got?\"\n",
        "question5 = \"Why do prostate cancer cases rise in agriculturally intensive areas in California?\"\n",
        "question6 = \"My friend has been prescribed Tasonermin, what diseases might they have?\"\n",
        "question7 = \"Which protein is involved in regulation of keratinocyte differentiation and transcription by RNA polymerase II and is in chromosome 17?\"\n",
        "question8 = \"The production of interleukin 10 (IL-10) contributes to the development of which disease?\"\n",
        "question9 = \"Which gene involve in the process of action potentials in vertebrate neurons after AHP, and is present in numerous cellular contexts such as amygdala, epithelium, cerebral cortex, etc\"\n",
        "question10 = \"What is a gene target of Cyanocobalamin that encodes for GTPase activity and protein homodimerization activity in the Propionyl-CoA catabolism pathway?\"\n",
        "question11 = \"I'm on prednisolone for juvenile arthritis. What's a possible protein that my drug is targeting based on its relation to this disease?\"\n",
        "question12 = \"Which drug can treat migraine by blocking CGRP binding and targets CALCRL, CALCB?\"\n",
        "question13 = \"I was diagnosed with RA and i want to avoid elevated hepatic transaminase, which drug should I avoid?\"\n",
        "\n",
        "response = graph_rag.query_engine(question2)\n",
        "print(str(response))"
      ]
    },
    {
      "cell_type": "code",
      "execution_count": null,
      "id": "acf97255",
      "metadata": {},
      "outputs": [],
      "source": []
    }
  ],
  "metadata": {
    "colab": {
      "include_colab_link": true,
      "provenance": []
    },
    "kernelspec": {
      "display_name": "llama-index-bXUwlEfH-py3.11",
      "language": "python",
      "name": "python3"
    },
    "language_info": {
      "codemirror_mode": {
        "name": "ipython",
        "version": 3
      },
      "file_extension": ".py",
      "mimetype": "text/x-python",
      "name": "python",
      "nbconvert_exporter": "python",
      "pygments_lexer": "ipython3",
      "version": "3.11.9"
    },
    "widgets": {
      "application/vnd.jupyter.widget-state+json": {
        "01757b1e68f04ce3a53b0b4278014e52": {
          "model_module": "@jupyter-widgets/controls",
          "model_module_version": "1.5.0",
          "model_name": "HTMLModel",
          "state": {
            "_dom_classes": [],
            "_model_module": "@jupyter-widgets/controls",
            "_model_module_version": "1.5.0",
            "_model_name": "HTMLModel",
            "_view_count": null,
            "_view_module": "@jupyter-widgets/controls",
            "_view_module_version": "1.5.0",
            "_view_name": "HTMLView",
            "description": "",
            "description_tooltip": null,
            "layout": "IPY_MODEL_427d5a719f80457b837dc7e4eb6a500c",
            "placeholder": "​",
            "style": "IPY_MODEL_0ecd0e538f45413aae55b2dfc15f637e",
            "value": "Parsing nodes: 100%"
          }
        },
        "0ecd0e538f45413aae55b2dfc15f637e": {
          "model_module": "@jupyter-widgets/controls",
          "model_module_version": "1.5.0",
          "model_name": "DescriptionStyleModel",
          "state": {
            "_model_module": "@jupyter-widgets/controls",
            "_model_module_version": "1.5.0",
            "_model_name": "DescriptionStyleModel",
            "_view_count": null,
            "_view_module": "@jupyter-widgets/base",
            "_view_module_version": "1.2.0",
            "_view_name": "StyleView",
            "description_width": ""
          }
        },
        "122a1cbf990345109e6f90d3859f9de8": {
          "model_module": "@jupyter-widgets/base",
          "model_module_version": "1.2.0",
          "model_name": "LayoutModel",
          "state": {
            "_model_module": "@jupyter-widgets/base",
            "_model_module_version": "1.2.0",
            "_model_name": "LayoutModel",
            "_view_count": null,
            "_view_module": "@jupyter-widgets/base",
            "_view_module_version": "1.2.0",
            "_view_name": "LayoutView",
            "align_content": null,
            "align_items": null,
            "align_self": null,
            "border": null,
            "bottom": null,
            "display": null,
            "flex": null,
            "flex_flow": null,
            "grid_area": null,
            "grid_auto_columns": null,
            "grid_auto_flow": null,
            "grid_auto_rows": null,
            "grid_column": null,
            "grid_gap": null,
            "grid_row": null,
            "grid_template_areas": null,
            "grid_template_columns": null,
            "grid_template_rows": null,
            "height": null,
            "justify_content": null,
            "justify_items": null,
            "left": null,
            "margin": null,
            "max_height": null,
            "max_width": null,
            "min_height": null,
            "min_width": null,
            "object_fit": null,
            "object_position": null,
            "order": null,
            "overflow": null,
            "overflow_x": null,
            "overflow_y": null,
            "padding": null,
            "right": null,
            "top": null,
            "visibility": null,
            "width": null
          }
        },
        "427d5a719f80457b837dc7e4eb6a500c": {
          "model_module": "@jupyter-widgets/base",
          "model_module_version": "1.2.0",
          "model_name": "LayoutModel",
          "state": {
            "_model_module": "@jupyter-widgets/base",
            "_model_module_version": "1.2.0",
            "_model_name": "LayoutModel",
            "_view_count": null,
            "_view_module": "@jupyter-widgets/base",
            "_view_module_version": "1.2.0",
            "_view_name": "LayoutView",
            "align_content": null,
            "align_items": null,
            "align_self": null,
            "border": null,
            "bottom": null,
            "display": null,
            "flex": null,
            "flex_flow": null,
            "grid_area": null,
            "grid_auto_columns": null,
            "grid_auto_flow": null,
            "grid_auto_rows": null,
            "grid_column": null,
            "grid_gap": null,
            "grid_row": null,
            "grid_template_areas": null,
            "grid_template_columns": null,
            "grid_template_rows": null,
            "height": null,
            "justify_content": null,
            "justify_items": null,
            "left": null,
            "margin": null,
            "max_height": null,
            "max_width": null,
            "min_height": null,
            "min_width": null,
            "object_fit": null,
            "object_position": null,
            "order": null,
            "overflow": null,
            "overflow_x": null,
            "overflow_y": null,
            "padding": null,
            "right": null,
            "top": null,
            "visibility": null,
            "width": null
          }
        },
        "470dca3e1c534edb92b883174b461e6e": {
          "model_module": "@jupyter-widgets/controls",
          "model_module_version": "1.5.0",
          "model_name": "HBoxModel",
          "state": {
            "_dom_classes": [],
            "_model_module": "@jupyter-widgets/controls",
            "_model_module_version": "1.5.0",
            "_model_name": "HBoxModel",
            "_view_count": null,
            "_view_module": "@jupyter-widgets/controls",
            "_view_module_version": "1.5.0",
            "_view_name": "HBoxView",
            "box_style": "",
            "children": [
              "IPY_MODEL_01757b1e68f04ce3a53b0b4278014e52",
              "IPY_MODEL_9455c43e95c342dbb985b931c2abb9c8",
              "IPY_MODEL_6b29a7f6957b408796ad409765b8d55a"
            ],
            "layout": "IPY_MODEL_67842121c9b542c885ae2c3dfe669f5e"
          }
        },
        "67842121c9b542c885ae2c3dfe669f5e": {
          "model_module": "@jupyter-widgets/base",
          "model_module_version": "1.2.0",
          "model_name": "LayoutModel",
          "state": {
            "_model_module": "@jupyter-widgets/base",
            "_model_module_version": "1.2.0",
            "_model_name": "LayoutModel",
            "_view_count": null,
            "_view_module": "@jupyter-widgets/base",
            "_view_module_version": "1.2.0",
            "_view_name": "LayoutView",
            "align_content": null,
            "align_items": null,
            "align_self": null,
            "border": null,
            "bottom": null,
            "display": null,
            "flex": null,
            "flex_flow": null,
            "grid_area": null,
            "grid_auto_columns": null,
            "grid_auto_flow": null,
            "grid_auto_rows": null,
            "grid_column": null,
            "grid_gap": null,
            "grid_row": null,
            "grid_template_areas": null,
            "grid_template_columns": null,
            "grid_template_rows": null,
            "height": null,
            "justify_content": null,
            "justify_items": null,
            "left": null,
            "margin": null,
            "max_height": null,
            "max_width": null,
            "min_height": null,
            "min_width": null,
            "object_fit": null,
            "object_position": null,
            "order": null,
            "overflow": null,
            "overflow_x": null,
            "overflow_y": null,
            "padding": null,
            "right": null,
            "top": null,
            "visibility": null,
            "width": null
          }
        },
        "6b29a7f6957b408796ad409765b8d55a": {
          "model_module": "@jupyter-widgets/controls",
          "model_module_version": "1.5.0",
          "model_name": "HTMLModel",
          "state": {
            "_dom_classes": [],
            "_model_module": "@jupyter-widgets/controls",
            "_model_module_version": "1.5.0",
            "_model_name": "HTMLModel",
            "_view_count": null,
            "_view_module": "@jupyter-widgets/controls",
            "_view_module_version": "1.5.0",
            "_view_name": "HTMLView",
            "description": "",
            "description_tooltip": null,
            "layout": "IPY_MODEL_122a1cbf990345109e6f90d3859f9de8",
            "placeholder": "​",
            "style": "IPY_MODEL_d30d956a20ca45d0ad8edc1f93f981ff",
            "value": " 250/250 [00:00&lt;00:00, 1185.23it/s]"
          }
        },
        "9455c43e95c342dbb985b931c2abb9c8": {
          "model_module": "@jupyter-widgets/controls",
          "model_module_version": "1.5.0",
          "model_name": "FloatProgressModel",
          "state": {
            "_dom_classes": [],
            "_model_module": "@jupyter-widgets/controls",
            "_model_module_version": "1.5.0",
            "_model_name": "FloatProgressModel",
            "_view_count": null,
            "_view_module": "@jupyter-widgets/controls",
            "_view_module_version": "1.5.0",
            "_view_name": "ProgressView",
            "bar_style": "success",
            "description": "",
            "description_tooltip": null,
            "layout": "IPY_MODEL_cf7de45cf1ce4f05a979b1c09279d87d",
            "max": 250,
            "min": 0,
            "orientation": "horizontal",
            "style": "IPY_MODEL_f5b2d2efd9874704bd8c888c257259db",
            "value": 250
          }
        },
        "cf7de45cf1ce4f05a979b1c09279d87d": {
          "model_module": "@jupyter-widgets/base",
          "model_module_version": "1.2.0",
          "model_name": "LayoutModel",
          "state": {
            "_model_module": "@jupyter-widgets/base",
            "_model_module_version": "1.2.0",
            "_model_name": "LayoutModel",
            "_view_count": null,
            "_view_module": "@jupyter-widgets/base",
            "_view_module_version": "1.2.0",
            "_view_name": "LayoutView",
            "align_content": null,
            "align_items": null,
            "align_self": null,
            "border": null,
            "bottom": null,
            "display": null,
            "flex": null,
            "flex_flow": null,
            "grid_area": null,
            "grid_auto_columns": null,
            "grid_auto_flow": null,
            "grid_auto_rows": null,
            "grid_column": null,
            "grid_gap": null,
            "grid_row": null,
            "grid_template_areas": null,
            "grid_template_columns": null,
            "grid_template_rows": null,
            "height": null,
            "justify_content": null,
            "justify_items": null,
            "left": null,
            "margin": null,
            "max_height": null,
            "max_width": null,
            "min_height": null,
            "min_width": null,
            "object_fit": null,
            "object_position": null,
            "order": null,
            "overflow": null,
            "overflow_x": null,
            "overflow_y": null,
            "padding": null,
            "right": null,
            "top": null,
            "visibility": null,
            "width": null
          }
        },
        "d30d956a20ca45d0ad8edc1f93f981ff": {
          "model_module": "@jupyter-widgets/controls",
          "model_module_version": "1.5.0",
          "model_name": "DescriptionStyleModel",
          "state": {
            "_model_module": "@jupyter-widgets/controls",
            "_model_module_version": "1.5.0",
            "_model_name": "DescriptionStyleModel",
            "_view_count": null,
            "_view_module": "@jupyter-widgets/base",
            "_view_module_version": "1.2.0",
            "_view_name": "StyleView",
            "description_width": ""
          }
        },
        "f5b2d2efd9874704bd8c888c257259db": {
          "model_module": "@jupyter-widgets/controls",
          "model_module_version": "1.5.0",
          "model_name": "ProgressStyleModel",
          "state": {
            "_model_module": "@jupyter-widgets/controls",
            "_model_module_version": "1.5.0",
            "_model_name": "ProgressStyleModel",
            "_view_count": null,
            "_view_module": "@jupyter-widgets/base",
            "_view_module_version": "1.2.0",
            "_view_name": "StyleView",
            "bar_color": null,
            "description_width": ""
          }
        }
      }
    }
  },
  "nbformat": 4,
  "nbformat_minor": 5
}
