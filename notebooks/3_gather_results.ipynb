{
 "cells": [
  {
   "cell_type": "code",
   "execution_count": 1,
   "metadata": {},
   "outputs": [],
   "source": [
    "%load_ext autoreload\n",
    "%autoreload 2"
   ]
  },
  {
   "cell_type": "code",
   "execution_count": 2,
   "metadata": {},
   "outputs": [
    {
     "name": "stderr",
     "output_type": "stream",
     "text": [
      "/Users/louislacombe/miniconda3/envs/stark-qa/lib/python3.11/site-packages/tqdm/auto.py:21: TqdmWarning: IProgress not found. Please update jupyter and ipywidgets. See https://ipywidgets.readthedocs.io/en/stable/user_install.html\n",
      "  from .autonotebook import tqdm as notebook_tqdm\n"
     ]
    },
    {
     "name": "stdout",
     "output_type": "stream",
     "text": [
      "Loading from /Users/louislacombe/CODE/quantmetry/stark/prime/processed!\n"
     ]
    }
   ],
   "source": [
    "import os\n",
    "\n",
    "from utils_neo4j import Neo4jApp\n",
    "from utils_llm import GraphRAG\n",
    "from stark_qa import load_qa\n",
    "from utils import save_dict_to_file, load_dict_from_file, change_qa_dataset_to_tuple\n",
    "from utils_evaluation import collect_responses\n",
    "\n",
    "from dotenv import load_dotenv\n",
    "\n",
    "load_dotenv()\n",
    "\n",
    "dataset_name = os.getenv(\"dataset_name\")\n",
    "data_path = os.getenv(\"data_path\")\n",
    "\n",
    "# Load params for Graph\n",
    "scheme = os.getenv(\"scheme\")\n",
    "host_name = os.getenv(\"host_name\")\n",
    "port = os.getenv(\"port\")\n",
    "user = os.getenv(\"user\")\n",
    "password = os.getenv(\"password\")\n",
    "database = os.getenv(\"database\")\n"
   ]
  },
  {
   "cell_type": "code",
   "execution_count": 3,
   "metadata": {},
   "outputs": [
    {
     "name": "stdout",
     "output_type": "stream",
     "text": [
      "Use file from /Users/louislacombe/.cache/huggingface/hub/datasets--snap-stanford--stark/snapshots/7b0352c7dcefbf254478c203bcfdf284a08866ac/qa/prime/stark_qa/stark_qa_human_generated_eval.csv.\n"
     ]
    }
   ],
   "source": [
    "# Load the retrieval dataset\n",
    "qa_dataset = load_qa(dataset_name, human_generated_eval=True)\n",
    "qa_dataset = change_qa_dataset_to_tuple(qa_dataset)"
   ]
  },
  {
   "cell_type": "code",
   "execution_count": 4,
   "metadata": {},
   "outputs": [],
   "source": [
    "uri = f\"{scheme}://{host_name}:{port}\"\n",
    "graph = Neo4jApp(uri, user, password, database)\n",
    "graph.verify_connection()"
   ]
  },
  {
   "cell_type": "code",
   "execution_count": 5,
   "metadata": {},
   "outputs": [],
   "source": [
    "graph_rag = GraphRAG(graph=graph)"
   ]
  },
  {
   "cell_type": "code",
   "execution_count": 6,
   "metadata": {},
   "outputs": [],
   "source": [
    "name_dict = \"16_10_sp_low_top_k_no_text_tf_no_type_token7k_2.json\""
   ]
  },
  {
   "cell_type": "code",
   "execution_count": 7,
   "metadata": {},
   "outputs": [
    {
     "name": "stderr",
     "output_type": "stream",
     "text": [
      "  0%|          | 0/109 [00:00<?, ?it/s]"
     ]
    },
    {
     "name": "stdout",
     "output_type": "stream",
     "text": [
      "I have pharyngitis and chemosis. What skin disease might I have?\n",
      "len of after question:  [3, 1, 4, 25]\n",
      "Using path:  False\n",
      "sum of tokens:  5344\n",
      "sum of tokens after:  5344\n"
     ]
    },
    {
     "name": "stderr",
     "output_type": "stream",
     "text": [
      "  1%|          | 1/109 [00:06<11:53,  6.61s/it]"
     ]
    },
    {
     "name": "stdout",
     "output_type": "stream",
     "text": [
      "mixed mucinous and nonmucinous bronchioloalveolar adenocarcinoma is a subtype of what disease?\n",
      "len of after question:  [5, 3, 5, 25]\n",
      "Using path:  True\n",
      "sum of tokens:  12456\n",
      "sum of tokens after:  6952\n"
     ]
    },
    {
     "name": "stderr",
     "output_type": "stream",
     "text": [
      "  2%|▏         | 2/109 [00:11<10:04,  5.65s/it]"
     ]
    },
    {
     "name": "stdout",
     "output_type": "stream",
     "text": [
      "Which pathway is a promising therapeutic target in breast cancer that renders the protein insensitive to inhibition by the WNT antagonist DKK1 and interacts with KREMEN, DKK family genes?\n",
      "len of after question:  [2, 2, 4, 2, 2, 4, 0, 2, 18]\n",
      "Using path:  True\n",
      "sum of tokens:  14098\n",
      "sum of tokens after:  6980\n"
     ]
    },
    {
     "name": "stderr",
     "output_type": "stream",
     "text": [
      "  3%|▎         | 3/109 [00:22<14:26,  8.18s/it]"
     ]
    },
    {
     "name": "stdout",
     "output_type": "stream",
     "text": [
      "Which gene is involved in vesicle transport and locate in kinetochore, and in the pathway of antigen processing?\n",
      "len of after question:  [2, 5, 3, 2, 4, 25]\n",
      "Using path:  True\n",
      "sum of tokens:  15170\n",
      "sum of tokens after:  6979\n"
     ]
    },
    {
     "name": "stderr",
     "output_type": "stream",
     "text": [
      "  4%|▎         | 4/109 [00:27<11:55,  6.81s/it]"
     ]
    },
    {
     "name": "stdout",
     "output_type": "stream",
     "text": [
      "What drug with ~300 Da weight that stimulates the immune system has synergy with a few different acids?\n",
      "len of after question:  [2, 4, 0, 2, 19]\n",
      "Using path:  False\n",
      "sum of tokens:  80658\n",
      "sum of tokens after:  6998\n"
     ]
    },
    {
     "name": "stderr",
     "output_type": "stream",
     "text": [
      "  5%|▍         | 5/109 [00:32<10:53,  6.28s/it]"
     ]
    },
    {
     "name": "stdout",
     "output_type": "stream",
     "text": [
      "Which gene is present in endometrium, adipose tissue, colon and is a pseudogene on chromosome 9?\n",
      "len of after question:  [2, 5, 4, 2, 3, 4, 22]\n",
      "Using path:  True\n",
      "sum of tokens:  22855\n",
      "sum of tokens after:  6970\n"
     ]
    },
    {
     "name": "stderr",
     "output_type": "stream",
     "text": [
      "  6%|▌         | 6/109 [00:49<16:38,  9.69s/it]"
     ]
    },
    {
     "name": "stdout",
     "output_type": "stream",
     "text": [
      "What variant of sugar (yum!) hits a protein involved in carbohydrate binding?\n",
      "len of after question:  [2, 2, 2, 3, 25]\n",
      "Using path:  False\n",
      "sum of tokens:  14977\n",
      "sum of tokens after:  6989\n"
     ]
    },
    {
     "name": "stderr",
     "output_type": "stream",
     "text": [
      "  6%|▋         | 7/109 [00:53<13:26,  7.90s/it]"
     ]
    },
    {
     "name": "stdout",
     "output_type": "stream",
     "text": [
      "My friend has been prescribed Tasonermin, what diseases might they have?\n",
      "len of after question:  [1, 3, 21]\n",
      "Using path:  False\n",
      "sum of tokens:  221221\n",
      "sum of tokens after:  6996\n"
     ]
    },
    {
     "name": "stderr",
     "output_type": "stream",
     "text": [
      "  7%|▋         | 8/109 [00:57<11:06,  6.60s/it]"
     ]
    },
    {
     "name": "stdout",
     "output_type": "stream",
     "text": [
      "Why do prostate cancer cases rise in agriculturally intensive areas in California?\n",
      "len of after question:  [4, 24]\n",
      "Using path:  False\n",
      "sum of tokens:  8898\n",
      "sum of tokens after:  7000\n"
     ]
    },
    {
     "name": "stderr",
     "output_type": "stream",
     "text": [
      "  8%|▊         | 9/109 [01:01<09:43,  5.83s/it]"
     ]
    },
    {
     "name": "stdout",
     "output_type": "stream",
     "text": [
      "What is the gene that causes significant bleeding if defected and interact with cellular response to manganese ion and ATP binding?\n",
      "len of after question:  [2, 2, 5, 4, 4, 22]\n",
      "Using path:  True\n",
      "sum of tokens:  14787\n",
      "sum of tokens after:  6996\n"
     ]
    },
    {
     "name": "stderr",
     "output_type": "stream",
     "text": [
      "  9%|▉         | 10/109 [01:06<09:31,  5.78s/it]"
     ]
    },
    {
     "name": "stdout",
     "output_type": "stream",
     "text": [
      "I remember I heard of a drug whos name sounds like \"depression\" and is used to treat nocturia. What is it?\n",
      "len of after question:  [2, 2, 22]\n",
      "Using path:  False\n",
      "sum of tokens:  357825\n",
      "sum of tokens after:  6990\n"
     ]
    },
    {
     "name": "stderr",
     "output_type": "stream",
     "text": [
      " 10%|█         | 11/109 [01:12<09:15,  5.67s/it]"
     ]
    },
    {
     "name": "stdout",
     "output_type": "stream",
     "text": [
      "Which HIV drug targets CCR5 and has side effects like Alopecia, Syncope, Chronic sinusitis?\n",
      "len of after question:  [5, 2, 3, 2, 4, 2, 4, 23]\n",
      "Using path:  True\n",
      "sum of tokens:  15965\n",
      "sum of tokens after:  6981\n"
     ]
    },
    {
     "name": "stderr",
     "output_type": "stream",
     "text": [
      " 11%|█         | 12/109 [01:17<08:55,  5.52s/it]"
     ]
    },
    {
     "name": "stdout",
     "output_type": "stream",
     "text": [
      "I have visual loss and abnormal electroretinogram, what I got?\n",
      "len of after question:  [3, 3, 25]\n",
      "Using path:  False\n",
      "sum of tokens:  5495\n",
      "sum of tokens after:  5495\n"
     ]
    },
    {
     "name": "stderr",
     "output_type": "stream",
     "text": [
      " 12%|█▏        | 13/109 [01:29<11:46,  7.35s/it]"
     ]
    },
    {
     "name": "stdout",
     "output_type": "stream",
     "text": [
      "I was diagnosed with RA and i want to avoid elevated hepatic transaminase, which drug should I avoid?\n",
      "len of after question:  [2, 4, 2, 24]\n",
      "Using path:  False\n",
      "sum of tokens:  165552\n",
      "sum of tokens after:  6998\n"
     ]
    },
    {
     "name": "stderr",
     "output_type": "stream",
     "text": [
      " 13%|█▎        | 14/109 [01:32<09:57,  6.29s/it]"
     ]
    },
    {
     "name": "stdout",
     "output_type": "stream",
     "text": [
      "Is there a new formulation of ciprofloxacin to be used as radioimaging agent for diagnosis?\n",
      "len of after question:  [4, 3, 0, 25]\n",
      "Using path:  False\n",
      "sum of tokens:  249504\n",
      "sum of tokens after:  6991\n"
     ]
    },
    {
     "name": "stderr",
     "output_type": "stream",
     "text": [
      " 14%|█▍        | 15/109 [01:38<09:23,  5.99s/it]"
     ]
    },
    {
     "name": "stdout",
     "output_type": "stream",
     "text": [
      "A coding mutation in an oligomer that interacts with a lysomsomal transport pathways would disrupt which pathway?\n",
      "len of after question:  [2, 0, 5, 2, 25]\n",
      "Using path:  False\n",
      "sum of tokens:  10076\n",
      "sum of tokens after:  6997\n"
     ]
    },
    {
     "name": "stderr",
     "output_type": "stream",
     "text": [
      " 15%|█▍        | 16/109 [01:42<08:22,  5.40s/it]"
     ]
    },
    {
     "name": "stdout",
     "output_type": "stream",
     "text": [
      "What type of disease is a paraphilic disorder?\n",
      "len of after question:  [4, 5, 23]\n",
      "Using path:  False\n",
      "sum of tokens:  10492\n",
      "sum of tokens after:  6996\n"
     ]
    },
    {
     "name": "stderr",
     "output_type": "stream",
     "text": [
      " 16%|█▌        | 17/109 [01:45<07:17,  4.76s/it]"
     ]
    },
    {
     "name": "stdout",
     "output_type": "stream",
     "text": [
      "This protein interacts with HBQ1 and SIRT5\n",
      "len of after question:  [2, 1, 3, 25]\n",
      "Using path:  False\n",
      "sum of tokens:  143379\n",
      "sum of tokens after:  7000\n"
     ]
    },
    {
     "name": "stderr",
     "output_type": "stream",
     "text": [
      " 17%|█▋        | 18/109 [01:52<08:14,  5.44s/it]"
     ]
    },
    {
     "name": "stdout",
     "output_type": "stream",
     "text": [
      "My dad said his head hurts and his muscles have been feeling really weak. He also told me he saw stars yesterday. What might be wrong with him?\n",
      "len of after question:  [2, 2, 23]\n",
      "Using path:  False\n",
      "sum of tokens:  3315\n",
      "sum of tokens after:  3315\n"
     ]
    },
    {
     "name": "stderr",
     "output_type": "stream",
     "text": [
      " 17%|█▋        | 19/109 [01:56<07:39,  5.10s/it]"
     ]
    },
    {
     "name": "stdout",
     "output_type": "stream",
     "text": [
      "What is a drug to treat sclerosing cholangitis\n",
      "len of after question:  [2, 3, 25]\n",
      "Using path:  False\n",
      "sum of tokens:  142177\n",
      "sum of tokens after:  6997\n"
     ]
    },
    {
     "name": "stderr",
     "output_type": "stream",
     "text": [
      " 18%|█▊        | 20/109 [02:00<07:03,  4.76s/it]"
     ]
    },
    {
     "name": "stdout",
     "output_type": "stream",
     "text": [
      "Which gene involve in the process of action potentials in vertebrate neurons after AHP, and is present in numerous cellular contexts such as amygdala, epithelium,  cerebral cortex, etc\n",
      "len of after question:  [2, 5, 2, 0, 5, 4, 5, 19]\n",
      "Using path:  True\n",
      "sum of tokens:  22584\n",
      "sum of tokens after:  7000\n"
     ]
    },
    {
     "name": "stderr",
     "output_type": "stream",
     "text": [
      " 19%|█▉        | 21/109 [02:06<07:13,  4.93s/it]"
     ]
    },
    {
     "name": "stdout",
     "output_type": "stream",
     "text": [
      "I have inflammation in my gums, and it turns sollwne and puffy. Which disease could potentially be the issue?\n",
      "len of after question:  [2, 1, 5, 25]\n",
      "Using path:  False\n",
      "sum of tokens:  2549\n",
      "sum of tokens after:  2549\n"
     ]
    },
    {
     "name": "stderr",
     "output_type": "stream",
     "text": [
      " 20%|██        | 22/109 [02:09<06:34,  4.53s/it]"
     ]
    },
    {
     "name": "stdout",
     "output_type": "stream",
     "text": [
      "What drug would you give to a patient whose grandmother suffered from glutathione reductase deficiency?\n",
      "len of after question:  [2, 0, 0, 5, 25]\n",
      "Using path:  False\n",
      "sum of tokens:  19632\n",
      "sum of tokens after:  6994\n"
     ]
    },
    {
     "name": "stderr",
     "output_type": "stream",
     "text": [
      " 21%|██        | 23/109 [02:13<06:09,  4.30s/it]"
     ]
    },
    {
     "name": "stdout",
     "output_type": "stream",
     "text": [
      "Is there an Fe-containing compound that works with an antibiotic that is contraindicated for gout?\n",
      "len of after question:  [2, 3, 2, 24]\n",
      "Using path:  False\n",
      "sum of tokens:  135187\n",
      "sum of tokens after:  6997\n"
     ]
    },
    {
     "name": "stderr",
     "output_type": "stream",
     "text": [
      " 22%|██▏       | 24/109 [02:18<06:17,  4.44s/it]"
     ]
    },
    {
     "name": "stdout",
     "output_type": "stream",
     "text": [
      "I am a doctor, and I have this patient with the following symptoms: a lack of T lymphocytes, lack of immunodeficiency, severe respiratory infections. The patient has the following biomarkers enriched: JAK3, RAG2, CTLA4. What disease is this?\n",
      "len of after question:  [2, 5, 5, 0, 2, 3, 2, 5, 25]\n",
      "Using path:  True\n",
      "sum of tokens:  23155\n",
      "sum of tokens after:  6980\n"
     ]
    },
    {
     "name": "stderr",
     "output_type": "stream",
     "text": [
      " 23%|██▎       | 25/109 [02:24<07:06,  5.08s/it]"
     ]
    },
    {
     "name": "stdout",
     "output_type": "stream",
     "text": [
      "Which drug has a synergistic interaction with Cloranolol, Hydrolyzed Cephalothin, Vorapaxar, Guanethidine, Ertapenem, Lomerizine, Cadralazine, and Pentobarbital?\n",
      "len of after question:  [3, 3, 3, 3, 2, 3, 3, 3, 24]\n",
      "Using path:  True\n",
      "sum of tokens:  13136\n",
      "sum of tokens after:  6993\n"
     ]
    },
    {
     "name": "stderr",
     "output_type": "stream",
     "text": [
      " 24%|██▍       | 26/109 [02:31<07:36,  5.50s/it]"
     ]
    },
    {
     "name": "stdout",
     "output_type": "stream",
     "text": [
      "This protein is found in the vastus lateralis and cingulate cortex and intestine\n",
      "len of after question:  [2, 2, 5, 2, 18]\n",
      "Using path:  True\n",
      "sum of tokens:  7407\n",
      "sum of tokens after:  6964\n"
     ]
    },
    {
     "name": "stderr",
     "output_type": "stream",
     "text": [
      " 25%|██▍       | 27/109 [02:36<07:14,  5.30s/it]"
     ]
    },
    {
     "name": "stdout",
     "output_type": "stream",
     "text": [
      "Is MTND5P11 expressed in any part of the brain?\n",
      "len of after question:  [1, 2, 15]\n",
      "Using path:  False\n",
      "sum of tokens:  128913\n",
      "sum of tokens after:  6999\n"
     ]
    },
    {
     "name": "stderr",
     "output_type": "stream",
     "text": [
      " 26%|██▌       | 28/109 [02:40<06:38,  4.92s/it]"
     ]
    },
    {
     "name": "stdout",
     "output_type": "stream",
     "text": [
      "I have GJB2, GJA1, GJB1 enriched, which pathway is this?\n",
      "len of after question:  [1, 1, 1, 2, 20]\n",
      "Using path:  False\n",
      "sum of tokens:  16088\n",
      "sum of tokens after:  6979\n"
     ]
    },
    {
     "name": "stderr",
     "output_type": "stream",
     "text": [
      " 27%|██▋       | 29/109 [02:45<06:32,  4.90s/it]"
     ]
    },
    {
     "name": "stdout",
     "output_type": "stream",
     "text": [
      "Which gene is involved in chromosome positioning, and interact with MTUS1, SLC25A2, and PDE3A?\n",
      "len of after question:  [2, 2, 1, 4, 3, 25]\n",
      "Using path:  True\n",
      "sum of tokens:  7252\n",
      "sum of tokens after:  6957\n"
     ]
    },
    {
     "name": "stderr",
     "output_type": "stream",
     "text": [
      " 28%|██▊       | 30/109 [02:52<07:32,  5.73s/it]"
     ]
    },
    {
     "name": "stdout",
     "output_type": "stream",
     "text": [
      "What's an amino acid variant that can target a protein in rod cells in my patient's eyes?\n",
      "len of after question:  [5, 2, 2, 0, 23]\n",
      "Using path:  False\n",
      "sum of tokens:  48614\n",
      "sum of tokens after:  6999\n"
     ]
    },
    {
     "name": "stderr",
     "output_type": "stream",
     "text": [
      " 28%|██▊       | 31/109 [02:56<06:46,  5.21s/it]"
     ]
    },
    {
     "name": "stdout",
     "output_type": "stream",
     "text": [
      "I think I have the flu but it's not flu season. Also I'm really tired and my temperature is over 100. I was recently in France and drank a lot of tap water there. Any idea why I might be sick?\n",
      "len of after question:  [0, 2, 2, 22]\n",
      "Using path:  False\n",
      "sum of tokens:  3056\n",
      "sum of tokens after:  3056\n"
     ]
    },
    {
     "name": "stderr",
     "output_type": "stream",
     "text": [
      " 29%|██▉       | 32/109 [02:59<05:55,  4.62s/it]"
     ]
    },
    {
     "name": "stdout",
     "output_type": "stream",
     "text": [
      "TBXAS1 can be affected by what drug?\n",
      "len of after question:  [4, 2, 22]\n",
      "Using path:  False\n",
      "sum of tokens:  132902\n",
      "sum of tokens after:  6996\n"
     ]
    },
    {
     "name": "stderr",
     "output_type": "stream",
     "text": [
      " 30%|███       | 33/109 [03:05<06:06,  4.82s/it]"
     ]
    },
    {
     "name": "stdout",
     "output_type": "stream",
     "text": [
      "The production of interleukin 10 (IL-10) contributes to the development of which disease?\n",
      "len of after question:  [4, 5, 5, 25]\n",
      "Using path:  True\n",
      "sum of tokens:  7752\n",
      "sum of tokens after:  6986\n"
     ]
    },
    {
     "name": "stderr",
     "output_type": "stream",
     "text": [
      " 31%|███       | 34/109 [03:09<05:44,  4.59s/it]"
     ]
    },
    {
     "name": "stdout",
     "output_type": "stream",
     "text": [
      "I am a doctor and I ran NICU and I have a baby with severe infections in pneumonia, diiarrhea and skin rashes, deafness. The blood test shows increased marker of IL7R, CD3D. Which disease is this?\n",
      "len of after question:  [0, 2, 4, 3, 4, 3, 2, 2, 1, 1, 5, 25]\n",
      "Using path:  True\n",
      "sum of tokens:  35050\n",
      "sum of tokens after:  6979\n"
     ]
    },
    {
     "name": "stderr",
     "output_type": "stream",
     "text": [
      " 32%|███▏      | 35/109 [03:16<06:27,  5.23s/it]"
     ]
    },
    {
     "name": "stdout",
     "output_type": "stream",
     "text": [
      "Which gene is intronless, and is associated with Hermansky-Pudlak syndrome when disrupted?\n",
      "len of after question:  [2, 2, 3, 21]\n",
      "Using path:  False\n",
      "sum of tokens:  32866\n",
      "sum of tokens after:  6995\n"
     ]
    },
    {
     "name": "stderr",
     "output_type": "stream",
     "text": [
      " 33%|███▎      | 36/109 [03:19<05:45,  4.73s/it]"
     ]
    },
    {
     "name": "stdout",
     "output_type": "stream",
     "text": [
      "Which gene is evolved to respond to gram-negative bacterial infections and interact with CD14, PSMA3, TSC22D4?\n",
      "len of after question:  [2, 3, 2, 4, 1, 24]\n",
      "Using path:  True\n",
      "sum of tokens:  7114\n",
      "sum of tokens after:  6991\n"
     ]
    },
    {
     "name": "stderr",
     "output_type": "stream",
     "text": [
      " 34%|███▍      | 37/109 [03:24<05:49,  4.86s/it]"
     ]
    },
    {
     "name": "stdout",
     "output_type": "stream",
     "text": [
      "A ROS1 tumor mutation might lead to which carcinomas?\n",
      "len of after question:  [1, 3, 2, 3, 25]\n",
      "Using path:  False\n",
      "sum of tokens:  12548\n",
      "sum of tokens after:  6993\n"
     ]
    },
    {
     "name": "stderr",
     "output_type": "stream",
     "text": [
      " 35%|███▍      | 38/109 [03:29<05:40,  4.80s/it]"
     ]
    },
    {
     "name": "stdout",
     "output_type": "stream",
     "text": [
      "What is a gene target of Cyanocobalamin that encodes for GTPase activity and protein homodimerization activity in the Propionyl-CoA catabolism pathway?\n",
      "len of after question:  [4, 2, 4, 3, 4, 23]\n",
      "Using path:  True\n",
      "sum of tokens:  18985\n",
      "sum of tokens after:  6995\n"
     ]
    },
    {
     "name": "stderr",
     "output_type": "stream",
     "text": [
      " 36%|███▌      | 39/109 [03:35<05:54,  5.07s/it]"
     ]
    },
    {
     "name": "stdout",
     "output_type": "stream",
     "text": [
      "What's an example of a gene that is part of the RNA recognition motif family and is involved in transcription coactivator activity?\n",
      "len of after question:  [2, 3, 3, 25]\n",
      "Using path:  False\n",
      "sum of tokens:  11641\n",
      "sum of tokens after:  6996\n"
     ]
    },
    {
     "name": "stderr",
     "output_type": "stream",
     "text": [
      " 37%|███▋      | 40/109 [03:39<05:39,  4.92s/it]"
     ]
    },
    {
     "name": "stdout",
     "output_type": "stream",
     "text": [
      "Which pathway involves APEX1, POLB and locates in nucleoplasm and is part of the resolution of AP sites?\n",
      "len of after question:  [3, 2, 4, 2, 24]\n",
      "Using path:  True\n",
      "sum of tokens:  6674\n",
      "sum of tokens after:  6674\n"
     ]
    },
    {
     "name": "stderr",
     "output_type": "stream",
     "text": [
      " 38%|███▊      | 41/109 [03:43<05:14,  4.63s/it]"
     ]
    },
    {
     "name": "stdout",
     "output_type": "stream",
     "text": [
      "Which protein is involved in regulation of keratinocyte differentiation and transcription by RNA polymerase II and is in chromosome 17?\n",
      "len of after question:  [2, 2, 3, 5, 4, 4, 20]\n",
      "Using path:  True\n",
      "sum of tokens:  17062\n",
      "sum of tokens after:  7000\n"
     ]
    },
    {
     "name": "stderr",
     "output_type": "stream",
     "text": [
      " 39%|███▊      | 42/109 [03:50<05:50,  5.23s/it]"
     ]
    },
    {
     "name": "stdout",
     "output_type": "stream",
     "text": [
      "I'm currently taking tremelimumab for HIV. Do you know of any antibody-like molecules that would work well with my current treatment?\n",
      "len of after question:  [3, 5, 2, 1, 25]\n",
      "Using path:  True\n",
      "sum of tokens:  7472\n",
      "sum of tokens after:  6985\n"
     ]
    },
    {
     "name": "stderr",
     "output_type": "stream",
     "text": [
      " 39%|███▉      | 43/109 [03:55<05:46,  5.26s/it]"
     ]
    },
    {
     "name": "stdout",
     "output_type": "stream",
     "text": [
      "What is a membrane-crossing protein that interacts with RETREG3?\n",
      "len of after question:  [2, 1, 17]\n",
      "Using path:  False\n",
      "sum of tokens:  19526\n",
      "sum of tokens after:  6999\n"
     ]
    },
    {
     "name": "stderr",
     "output_type": "stream",
     "text": [
      " 40%|████      | 44/109 [03:58<05:02,  4.65s/it]"
     ]
    },
    {
     "name": "stdout",
     "output_type": "stream",
     "text": [
      "Hermansky-Pudlak syndrome is associated with what protein?\n",
      "len of after question:  [3, 2, 25]\n",
      "Using path:  False\n",
      "sum of tokens:  137204\n",
      "sum of tokens after:  6994\n"
     ]
    },
    {
     "name": "stderr",
     "output_type": "stream",
     "text": [
      " 41%|████▏     | 45/109 [04:03<04:56,  4.63s/it]"
     ]
    },
    {
     "name": "stdout",
     "output_type": "stream",
     "text": [
      "An expecting couple performed genotyping on their unborn child and discovered SNPs on chromosome 16. The fetus displays some abnormal bone developement. What can the obstetrician report to the parents?\n",
      "len of after question:  [0, 0, 4, 3, 4, 0, 25]\n",
      "Using path:  True\n",
      "sum of tokens:  13538\n",
      "sum of tokens after:  6975\n"
     ]
    },
    {
     "name": "stderr",
     "output_type": "stream",
     "text": [
      " 42%|████▏     | 46/109 [04:08<04:58,  4.74s/it]"
     ]
    },
    {
     "name": "stdout",
     "output_type": "stream",
     "text": [
      "CSNK1A1 interacts with what other protein?\n",
      "len of after question:  [3, 2, 25]\n",
      "Using path:  False\n",
      "sum of tokens:  39561\n",
      "sum of tokens after:  6999\n"
     ]
    },
    {
     "name": "stderr",
     "output_type": "stream",
     "text": [
      " 43%|████▎     | 47/109 [04:19<06:47,  6.57s/it]"
     ]
    },
    {
     "name": "stdout",
     "output_type": "stream",
     "text": [
      "What diseases is exposure to 2,3',4,4',5-pentachlorobiphenyl associated with?\n",
      "len of after question:  [3, 2, 4, 25]\n",
      "Using path:  False\n",
      "sum of tokens:  6477\n",
      "sum of tokens after:  6477\n"
     ]
    },
    {
     "name": "stderr",
     "output_type": "stream",
     "text": [
      " 44%|████▍     | 48/109 [04:24<06:12,  6.10s/it]"
     ]
    },
    {
     "name": "stdout",
     "output_type": "stream",
     "text": [
      "Where in the cell will I find immunoglobulin lambda variable 2-18?\n",
      "len of after question:  [5, 15]\n",
      "Using path:  False\n",
      "sum of tokens:  5259\n",
      "sum of tokens after:  5259\n"
     ]
    },
    {
     "name": "stderr",
     "output_type": "stream",
     "text": [
      " 45%|████▍     | 49/109 [04:27<05:14,  5.24s/it]"
     ]
    },
    {
     "name": "stdout",
     "output_type": "stream",
     "text": [
      "PAN2 and various CNOTs are all involved in what biological process?\n",
      "len of after question:  [1, 0, 4, 25]\n",
      "Using path:  False\n",
      "sum of tokens:  33613\n",
      "sum of tokens after:  6995\n"
     ]
    },
    {
     "name": "stderr",
     "output_type": "stream",
     "text": [
      " 46%|████▌     | 50/109 [04:31<04:44,  4.82s/it]"
     ]
    },
    {
     "name": "stdout",
     "output_type": "stream",
     "text": [
      "Which skin disease is caused by a mutation in AAGAB or COL14A1 gene, and super rare, with  epidermal hyperkeratosis in palms and soles?\n",
      "len of after question:  [4, 2, 1, 1, 2, 4, 2, 2, 25]\n",
      "Using path:  True\n",
      "sum of tokens:  15759\n",
      "sum of tokens after:  6982\n"
     ]
    },
    {
     "name": "stderr",
     "output_type": "stream",
     "text": [
      " 47%|████▋     | 51/109 [04:38<05:14,  5.42s/it]"
     ]
    },
    {
     "name": "stdout",
     "output_type": "stream",
     "text": [
      "A doctor might prescribe what drug in addition to Atosiban?\n",
      "len of after question:  [1, 2, 24]\n",
      "Using path:  False\n",
      "sum of tokens:  245465\n",
      "sum of tokens after:  6994\n"
     ]
    },
    {
     "name": "stderr",
     "output_type": "stream",
     "text": [
      " 48%|████▊     | 52/109 [04:44<05:17,  5.58s/it]"
     ]
    },
    {
     "name": "stdout",
     "output_type": "stream",
     "text": [
      "Which gene is part of a post-splicing multiprotein complex, exhibit RNA helicase and hydrolase, present only in the cytoplasm?\n",
      "len of after question:  [2, 4, 4, 5, 3, 25]\n",
      "Using path:  True\n",
      "sum of tokens:  16445\n",
      "sum of tokens after:  6996\n"
     ]
    },
    {
     "name": "stderr",
     "output_type": "stream",
     "text": [
      " 49%|████▊     | 53/109 [04:49<05:00,  5.37s/it]"
     ]
    },
    {
     "name": "stdout",
     "output_type": "stream",
     "text": [
      "Which drug can treat migraine by blocking CGRP binding and targets CALCRL, CALCB?\n",
      "len of after question:  [2, 4, 3, 1, 1, 21]\n",
      "Using path:  True\n",
      "sum of tokens:  5563\n",
      "sum of tokens after:  5563\n"
     ]
    },
    {
     "name": "stderr",
     "output_type": "stream",
     "text": [
      " 50%|████▉     | 54/109 [04:54<04:51,  5.30s/it]"
     ]
    },
    {
     "name": "stdout",
     "output_type": "stream",
     "text": [
      "GTF2F2 initiates transcription with what polymerase?\n",
      "len of after question:  [3, 5, 5, 25]\n",
      "Using path:  True\n",
      "sum of tokens:  9418\n",
      "sum of tokens after:  6966\n"
     ]
    },
    {
     "name": "stderr",
     "output_type": "stream",
     "text": [
      " 50%|█████     | 55/109 [04:58<04:38,  5.16s/it]"
     ]
    },
    {
     "name": "stdout",
     "output_type": "stream",
     "text": [
      "RPS6KA4, TUBA1A, KIF4A, CLTC, SHTN1, ACTB, SH3GL2, RPS6KA6, and TUBB8 are part of which pathway?\n",
      "len of after question:  [3, 4, 3, 1, 1, 1, 3, 3, 1, 2, 25]\n",
      "Using path:  True\n",
      "sum of tokens:  15539\n",
      "sum of tokens after:  6991\n"
     ]
    },
    {
     "name": "stderr",
     "output_type": "stream",
     "text": [
      " 51%|█████▏    | 56/109 [05:05<04:54,  5.56s/it]"
     ]
    },
    {
     "name": "stdout",
     "output_type": "stream",
     "text": [
      "My mom got into ICU unfortunately and had ventilator on. The doctor said she got COPD and pneumonia, which drug should the doctor give my mom?\n",
      "len of after question:  [0, 1, 2, 4, 2, 25]\n",
      "Using path:  False\n",
      "sum of tokens:  12274\n",
      "sum of tokens after:  6996\n"
     ]
    },
    {
     "name": "stderr",
     "output_type": "stream",
     "text": [
      " 52%|█████▏    | 57/109 [05:11<05:03,  5.83s/it]"
     ]
    },
    {
     "name": "stdout",
     "output_type": "stream",
     "text": [
      "I'm on prednisolone for juvenile arthritis. What's a possible protein that my drug is targeting based on its relation to this disease?\n",
      "len of after question:  [4, 4, 2, 2, 5, 25]\n",
      "Using path:  True\n",
      "sum of tokens:  13059\n",
      "sum of tokens after:  6969\n"
     ]
    },
    {
     "name": "stderr",
     "output_type": "stream",
     "text": [
      " 53%|█████▎    | 58/109 [05:16<04:45,  5.59s/it]"
     ]
    },
    {
     "name": "stdout",
     "output_type": "stream",
     "text": [
      "Are there genes on chromosome 12 involved in gene transcription?\n",
      "len of after question:  [2, 4, 5, 21]\n",
      "Using path:  True\n",
      "sum of tokens:  8292\n",
      "sum of tokens after:  6942\n"
     ]
    },
    {
     "name": "stderr",
     "output_type": "stream",
     "text": [
      " 54%|█████▍    | 59/109 [05:22<04:43,  5.67s/it]"
     ]
    },
    {
     "name": "stdout",
     "output_type": "stream",
     "text": [
      "I have severe insomnia and I have pyoureter, what insomnia drugs that I CANNOT have?\n",
      "len of after question:  [2, 1, 3, 25]\n",
      "Using path:  False\n",
      "sum of tokens:  285521\n",
      "sum of tokens after:  6992\n"
     ]
    },
    {
     "name": "stderr",
     "output_type": "stream",
     "text": [
      " 55%|█████▌    | 60/109 [05:28<04:31,  5.55s/it]"
     ]
    },
    {
     "name": "stdout",
     "output_type": "stream",
     "text": [
      "Which gene is present in spinal cord, nasal cavity mucosa, intestine, biceps brachii, tendon and involved in cell migration?\n",
      "len of after question:  [2, 5, 5, 2, 4, 5, 4, 25]\n",
      "Using path:  True\n",
      "sum of tokens:  26665\n",
      "sum of tokens after:  6996\n"
     ]
    },
    {
     "name": "stderr",
     "output_type": "stream",
     "text": [
      " 56%|█████▌    | 61/109 [05:36<05:10,  6.46s/it]"
     ]
    },
    {
     "name": "stdout",
     "output_type": "stream",
     "text": [
      "BTNL8 is part of which pathway of the adaptive Immune System?\n",
      "len of after question:  [1, 2, 3, 23]\n",
      "Using path:  False\n",
      "sum of tokens:  13244\n",
      "sum of tokens after:  7000\n"
     ]
    },
    {
     "name": "stderr",
     "output_type": "stream",
     "text": [
      " 57%|█████▋    | 62/109 [05:40<04:28,  5.71s/it]"
     ]
    },
    {
     "name": "stdout",
     "output_type": "stream",
     "text": [
      "The protein encoded by HIF3A is associated with negative regulation of what?\n",
      "len of after question:  [3, 2, 5, 24]\n",
      "Using path:  False\n",
      "sum of tokens:  18549\n",
      "sum of tokens after:  6988\n"
     ]
    },
    {
     "name": "stderr",
     "output_type": "stream",
     "text": [
      " 58%|█████▊    | 63/109 [05:45<04:08,  5.40s/it]"
     ]
    },
    {
     "name": "stdout",
     "output_type": "stream",
     "text": [
      "I have a patient with the following symptoms: young, tropical regions, resttrctive cardimyopathy, hypertesnion,  Prolonged QRS complex, Left atrial enlargement. What disease should I diagnose?\n",
      "len of after question:  [0, 2, 2, 2, 2, 0, 3, 3, 5, 0, 25]\n",
      "Using path:  True\n",
      "sum of tokens:  20319\n",
      "sum of tokens after:  6970\n"
     ]
    },
    {
     "name": "stderr",
     "output_type": "stream",
     "text": [
      " 59%|█████▊    | 64/109 [05:52<04:31,  6.04s/it]"
     ]
    },
    {
     "name": "stdout",
     "output_type": "stream",
     "text": [
      "I have a cardiovascular disease and my WGS result tells me that I have a mutation in TBXAS1 gene. Which drug should I have?\n",
      "len of after question:  [4, 0, 2, 4, 2, 2, 22]\n",
      "Using path:  True\n",
      "sum of tokens:  11680\n",
      "sum of tokens after:  6974\n"
     ]
    },
    {
     "name": "stderr",
     "output_type": "stream",
     "text": [
      " 60%|█████▉    | 65/109 [05:59<04:33,  6.21s/it]"
     ]
    },
    {
     "name": "stdout",
     "output_type": "stream",
     "text": [
      "Are there any rare diseases related to ERF?\n",
      "len of after question:  [1, 3, 20]\n",
      "Using path:  False\n",
      "sum of tokens:  7813\n",
      "sum of tokens after:  6998\n"
     ]
    },
    {
     "name": "stderr",
     "output_type": "stream",
     "text": [
      " 61%|██████    | 66/109 [06:04<04:07,  5.75s/it]"
     ]
    },
    {
     "name": "stdout",
     "output_type": "stream",
     "text": [
      "Which gene is related to platelet function and is involved in rRNA catabolic process and if disrupted, can cause excessive blooding?\n",
      "len of after question:  [2, 2, 3, 3, 23]\n",
      "Using path:  False\n",
      "sum of tokens:  27291\n",
      "sum of tokens after:  6997\n"
     ]
    },
    {
     "name": "stderr",
     "output_type": "stream",
     "text": [
      " 61%|██████▏   | 67/109 [06:08<03:46,  5.40s/it]"
     ]
    },
    {
     "name": "stdout",
     "output_type": "stream",
     "text": [
      "bronchogenic carcinoma is a subtype of what disease?\n",
      "len of after question:  [4, 5, 25]\n",
      "Using path:  False\n",
      "sum of tokens:  8012\n",
      "sum of tokens after:  6995\n"
     ]
    },
    {
     "name": "stderr",
     "output_type": "stream",
     "text": [
      " 62%|██████▏   | 68/109 [06:12<03:15,  4.78s/it]"
     ]
    },
    {
     "name": "stdout",
     "output_type": "stream",
     "text": [
      "My doctor told me that I have a disease whose cause is unknown but that can lead to heart failure. She also told me that I have unusual brain lactate levels, whatever that means. Can you guess what I'm sick with?\n",
      "len of after question:  [5, 4, 3, 25]\n",
      "Using path:  True\n",
      "sum of tokens:  9008\n",
      "sum of tokens after:  6999\n"
     ]
    },
    {
     "name": "stderr",
     "output_type": "stream",
     "text": [
      " 63%|██████▎   | 69/109 [06:16<03:03,  4.58s/it]"
     ]
    },
    {
     "name": "stdout",
     "output_type": "stream",
     "text": [
      "Chlorhexidine can treat what gum disease?\n",
      "len of after question:  [3, 5, 25]\n",
      "Using path:  False\n",
      "sum of tokens:  12926\n",
      "sum of tokens after:  6989\n"
     ]
    },
    {
     "name": "stderr",
     "output_type": "stream",
     "text": [
      " 64%|██████▍   | 70/109 [06:20<02:59,  4.61s/it]"
     ]
    },
    {
     "name": "stdout",
     "output_type": "stream",
     "text": [
      "Which gene locates in chomorosme 4, and is part of the complex that initiates GPI in the brain and is associated with hypercoagulability syndrome?\n",
      "len of after question:  [2, 4, 2, 2, 2, 2, 20]\n",
      "Using path:  True\n",
      "sum of tokens:  11127\n",
      "sum of tokens after:  6965\n"
     ]
    },
    {
     "name": "stderr",
     "output_type": "stream",
     "text": [
      " 65%|██████▌   | 71/109 [06:28<03:28,  5.50s/it]"
     ]
    },
    {
     "name": "stdout",
     "output_type": "stream",
     "text": [
      "I have a patient with WGS result showing mutaiton in KRT85 gene, and has Atrichia, Photophobia, and Sparse hair, which does he got?\n",
      "len of after question:  [0, 1, 2, 1, 4, 24]\n",
      "Using path:  False\n",
      "sum of tokens:  21126\n",
      "sum of tokens after:  6999\n"
     ]
    },
    {
     "name": "stderr",
     "output_type": "stream",
     "text": [
      " 66%|██████▌   | 72/109 [06:35<03:38,  5.91s/it]"
     ]
    },
    {
     "name": "stdout",
     "output_type": "stream",
     "text": [
      "I am interested in genes implicated in visual disorders such as myopia that relate to retinoid processing\n",
      "len of after question:  [2, 5, 4, 4, 25]\n",
      "Using path:  True\n",
      "sum of tokens:  12693\n",
      "sum of tokens after:  6980\n"
     ]
    },
    {
     "name": "stderr",
     "output_type": "stream",
     "text": [
      " 67%|██████▋   | 73/109 [06:39<03:15,  5.42s/it]"
     ]
    },
    {
     "name": "stdout",
     "output_type": "stream",
     "text": [
      "Which gene encodes the GIP-GnT complex and is present in temporal lobe and prefrontal cortex and associated with hyperphosphatasia?\n",
      "len of after question:  [4, 4, 4, 4, 22]\n",
      "Using path:  True\n",
      "sum of tokens:  10255\n",
      "sum of tokens after:  6985\n"
     ]
    },
    {
     "name": "stderr",
     "output_type": "stream",
     "text": [
      " 68%|██████▊   | 74/109 [06:47<03:36,  6.19s/it]"
     ]
    },
    {
     "name": "stdout",
     "output_type": "stream",
     "text": [
      "Acute Lymphocytic Leukemia is associated with what gene?\n",
      "len of after question:  [4, 2, 25]\n",
      "Using path:  False\n",
      "sum of tokens:  33688\n",
      "sum of tokens after:  6996\n"
     ]
    },
    {
     "name": "stderr",
     "output_type": "stream",
     "text": [
      " 69%|██████▉   | 75/109 [06:58<04:23,  7.74s/it]"
     ]
    },
    {
     "name": "stdout",
     "output_type": "stream",
     "text": [
      "My breast cancer is expressing too much MAP3K1. What drug can I take to help?\n",
      "len of after question:  [4, 4, 2, 24]\n",
      "Using path:  False\n",
      "sum of tokens:  50669\n",
      "sum of tokens after:  6994\n"
     ]
    },
    {
     "name": "stderr",
     "output_type": "stream",
     "text": [
      " 70%|██████▉   | 76/109 [07:02<03:39,  6.65s/it]"
     ]
    },
    {
     "name": "stdout",
     "output_type": "stream",
     "text": [
      "Amoxicillin is often used to treat what disease?\n",
      "len of after question:  [3, 5, 25]\n",
      "Using path:  False\n",
      "sum of tokens:  90041\n",
      "sum of tokens after:  6992\n"
     ]
    },
    {
     "name": "stderr",
     "output_type": "stream",
     "text": [
      " 71%|███████   | 77/109 [07:07<03:16,  6.14s/it]"
     ]
    },
    {
     "name": "stdout",
     "output_type": "stream",
     "text": [
      "Are there any investigational drugs targeting the same gene fumagillin?\n",
      "len of after question:  [2, 2, 4, 21]\n",
      "Using path:  False\n",
      "sum of tokens:  103874\n",
      "sum of tokens after:  6996\n"
     ]
    },
    {
     "name": "stderr",
     "output_type": "stream",
     "text": [
      " 72%|███████▏  | 78/109 [07:12<02:56,  5.68s/it]"
     ]
    },
    {
     "name": "stdout",
     "output_type": "stream",
     "text": [
      "What environmental factors might impact microrna 222?\n",
      "len of after question:  [5, 22]\n",
      "Using path:  False\n",
      "sum of tokens:  12654\n",
      "sum of tokens after:  6987\n"
     ]
    },
    {
     "name": "stderr",
     "output_type": "stream",
     "text": [
      " 72%|███████▏  | 79/109 [07:16<02:32,  5.09s/it]"
     ]
    },
    {
     "name": "stdout",
     "output_type": "stream",
     "text": [
      "What are the challenges of treating a FLT3 mutation in Acute Myeloid Leukemia\n",
      "len of after question:  [4, 4, 25]\n",
      "Using path:  False\n",
      "sum of tokens:  36248\n",
      "sum of tokens after:  6989\n"
     ]
    },
    {
     "name": "stderr",
     "output_type": "stream",
     "text": [
      " 73%|███████▎  | 80/109 [07:26<03:09,  6.55s/it]"
     ]
    },
    {
     "name": "stdout",
     "output_type": "stream",
     "text": [
      "What is a gene involved in transcription by RNA polymerase II\n",
      "len of after question:  [2, 5, 4, 25]\n",
      "Using path:  True\n",
      "sum of tokens:  6802\n",
      "sum of tokens after:  6802\n"
     ]
    },
    {
     "name": "stderr",
     "output_type": "stream",
     "text": [
      " 74%|███████▍  | 81/109 [07:36<03:32,  7.58s/it]"
     ]
    },
    {
     "name": "stdout",
     "output_type": "stream",
     "text": [
      "If a patient can't metabolize vitamins and cofactors, what's an example of a more specific pathway that might be interrupted?\n",
      "len of after question:  [0, 0, 2, 2, 2, 25]\n",
      "Using path:  False\n",
      "sum of tokens:  4197\n",
      "sum of tokens after:  4197\n"
     ]
    },
    {
     "name": "stderr",
     "output_type": "stream",
     "text": [
      " 75%|███████▌  | 82/109 [07:40<03:00,  6.67s/it]"
     ]
    },
    {
     "name": "stdout",
     "output_type": "stream",
     "text": [
      "Complex machine learning methods like alpha fold could help scientists study protein repair and which other pathways?\n",
      "len of after question:  [2, 2, 2, 25]\n",
      "Using path:  False\n",
      "sum of tokens:  8791\n",
      "sum of tokens after:  6997\n"
     ]
    },
    {
     "name": "stderr",
     "output_type": "stream",
     "text": [
      " 76%|███████▌  | 83/109 [07:44<02:29,  5.74s/it]"
     ]
    },
    {
     "name": "stdout",
     "output_type": "stream",
     "text": [
      "Which gene in chromosme 11 and is iinvolved in heart left ventricle, liver and is a pseudogene?\n",
      "len of after question:  [2, 4, 4, 2, 3, 24]\n",
      "Using path:  True\n",
      "sum of tokens:  13710\n",
      "sum of tokens after:  6990\n"
     ]
    },
    {
     "name": "stderr",
     "output_type": "stream",
     "text": [
      " 77%|███████▋  | 84/109 [07:54<02:59,  7.20s/it]"
     ]
    },
    {
     "name": "stdout",
     "output_type": "stream",
     "text": [
      "What complex of antibiotics is Lactulose and Warfarin both examples of?\n",
      "len of after question:  [1, 3, 24]\n",
      "Using path:  False\n",
      "sum of tokens:  157471\n",
      "sum of tokens after:  6990\n"
     ]
    },
    {
     "name": "stderr",
     "output_type": "stream",
     "text": [
      " 78%|███████▊  | 85/109 [07:59<02:34,  6.46s/it]"
     ]
    },
    {
     "name": "stdout",
     "output_type": "stream",
     "text": [
      "What is the name of the drug that both (1) has synergistic interaction with Tenoxicam, and (2) has molecular weight 120.36?\n",
      "len of after question:  [3, 2, 2, 2, 23]\n",
      "Using path:  False\n",
      "sum of tokens:  325813\n",
      "sum of tokens after:  6997\n"
     ]
    },
    {
     "name": "stderr",
     "output_type": "stream",
     "text": [
      " 79%|███████▉  | 86/109 [08:04<02:16,  5.94s/it]"
     ]
    },
    {
     "name": "stdout",
     "output_type": "stream",
     "text": [
      "Which biological pathway, identified with a stable identifier \"R-HSA-8853333\" in REACTOME, specifically focuses on the signaling mechanisms of FGFR2 fusions associated with various types of cancers and includes events like dimerization and autophosphorylation of these fusions?\n",
      "len of after question:  [4, 2, 2, 0, 2, 4, 2, 2, 4, 25]\n",
      "Using path:  True\n",
      "sum of tokens:  24989\n",
      "sum of tokens after:  6959\n"
     ]
    },
    {
     "name": "stderr",
     "output_type": "stream",
     "text": [
      " 80%|███████▉  | 87/109 [08:11<02:17,  6.25s/it]"
     ]
    },
    {
     "name": "stdout",
     "output_type": "stream",
     "text": [
      "What is a human pathway that involves defective translocation of RB1 mutants, is associated with cancer, and has been externally reviewed?\n",
      "len of after question:  [2, 2, 2, 4, 25]\n",
      "Using path:  False\n",
      "sum of tokens:  11162\n",
      "sum of tokens after:  6993\n"
     ]
    },
    {
     "name": "stderr",
     "output_type": "stream",
     "text": [
      " 81%|████████  | 88/109 [08:15<01:56,  5.53s/it]"
     ]
    },
    {
     "name": "stdout",
     "output_type": "stream",
     "text": [
      "What is a rare type of cancer that can develop in the small intestine, causing symptoms like abdominal pain and weight loss?\n",
      "len of after question:  [4, 3, 5, 2, 25]\n",
      "Using path:  True\n",
      "sum of tokens:  11190\n",
      "sum of tokens after:  6971\n"
     ]
    },
    {
     "name": "stderr",
     "output_type": "stream",
     "text": [
      " 82%|████████▏ | 89/109 [08:21<01:54,  5.71s/it]"
     ]
    },
    {
     "name": "stdout",
     "output_type": "stream",
     "text": [
      "What signaling pathway is abnormally activated by FLT3 ITD mutations in cancer cells, leading to increased expression of genes that promote cell survival and proliferation?\n",
      "len of after question:  [5, 3, 2, 2, 2, 5, 25]\n",
      "Using path:  True\n",
      "sum of tokens:  16919\n",
      "sum of tokens after:  6973\n"
     ]
    },
    {
     "name": "stderr",
     "output_type": "stream",
     "text": [
      " 83%|████████▎ | 90/109 [08:26<01:45,  5.53s/it]"
     ]
    },
    {
     "name": "stdout",
     "output_type": "stream",
     "text": [
      "Which drug targets a protein that is associated with acute promyelocytic leukemia\n",
      "len of after question:  [2, 2, 4, 23]\n",
      "Using path:  False\n",
      "sum of tokens:  191837\n",
      "sum of tokens after:  6995\n"
     ]
    },
    {
     "name": "stderr",
     "output_type": "stream",
     "text": [
      " 83%|████████▎ | 91/109 [08:30<01:30,  5.04s/it]"
     ]
    },
    {
     "name": "stdout",
     "output_type": "stream",
     "text": [
      "What is a group of rare genetic disorders characterized by a distinctive \"molar tooth sign\" on brain imaging, along with neurological symptoms like developmental delay, intellectual disability, and abnormal eye movements, sometimes accompanied by additional organ system abnormalities?\n",
      "len of after question:  [5, 2, 2, 3, 5, 4, 5, 3, 25]\n",
      "Using path:  True\n",
      "sum of tokens:  32353\n",
      "sum of tokens after:  6986\n"
     ]
    },
    {
     "name": "stderr",
     "output_type": "stream",
     "text": [
      " 84%|████████▍ | 92/109 [08:38<01:42,  6.03s/it]"
     ]
    },
    {
     "name": "stdout",
     "output_type": "stream",
     "text": [
      "What is the signaling pathway that regulates the development of the testes in the male embryo, and interacts with both protein WT1 and GATA4?\n",
      "len of after question:  [5, 2, 2, 4, 2, 2, 3, 25]\n",
      "Using path:  True\n",
      "sum of tokens:  17579\n",
      "sum of tokens after:  6988\n"
     ]
    },
    {
     "name": "stderr",
     "output_type": "stream",
     "text": [
      " 85%|████████▌ | 93/109 [08:44<01:36,  6.06s/it]"
     ]
    },
    {
     "name": "stdout",
     "output_type": "stream",
     "text": [
      "What is the name of the gene whose expression is related to intestine, but is not CHD7?\n",
      "len of after question:  [2, 2, 2, 3, 22]\n",
      "Using path:  False\n",
      "sum of tokens:  680415\n",
      "sum of tokens after:  7000\n"
     ]
    },
    {
     "name": "stderr",
     "output_type": "stream",
     "text": [
      " 86%|████████▌ | 94/109 [10:42<09:51, 39.42s/it]"
     ]
    },
    {
     "name": "stdout",
     "output_type": "stream",
     "text": [
      "Which biological process interacts with GCNT2, STK39, FOXC1 and CHMP4B?\n",
      "len of after question:  [3, 3, 3, 3, 4, 25]\n",
      "Using path:  True\n",
      "sum of tokens:  12691\n",
      "sum of tokens after:  6979\n"
     ]
    },
    {
     "name": "stderr",
     "output_type": "stream",
     "text": [
      " 87%|████████▋ | 95/109 [10:47<06:49, 29.24s/it]"
     ]
    },
    {
     "name": "stdout",
     "output_type": "stream",
     "text": [
      "What is an investigational small molecule drug that aims to treat multiple sclerosis by blocking the interaction between VCAM-1 and alpha4-integrins to prevent immune cell migration into the central nervous system?\n",
      "len of after question:  [5, 4, 2, 3, 5, 5, 18]\n",
      "Using path:  True\n",
      "sum of tokens:  23281\n",
      "sum of tokens after:  6991\n"
     ]
    },
    {
     "name": "stderr",
     "output_type": "stream",
     "text": [
      " 88%|████████▊ | 96/109 [10:52<04:45, 21.97s/it]"
     ]
    },
    {
     "name": "stdout",
     "output_type": "stream",
     "text": [
      "What is a gene that hosts a cluster of at least six microRNAs involved in processes like cell survival and proliferation, and is often amplified in some cancers?\n",
      "len of after question:  [2, 3, 2, 5, 2, 21]\n",
      "Using path:  True\n",
      "sum of tokens:  11608\n",
      "sum of tokens after:  6969\n"
     ]
    },
    {
     "name": "stderr",
     "output_type": "stream",
     "text": [
      " 89%|████████▉ | 97/109 [10:59<03:31, 17.59s/it]"
     ]
    },
    {
     "name": "stdout",
     "output_type": "stream",
     "text": [
      "What signaling pathway is triggered when the innate immune system detects viral RNA in the cytoplasm, leading to the activation of transcription factor IRF7 by the TRAF6 protein complex to induce the production of type I interferons? This pathway helps defend against RNA viruses like influenza, measles, and hepatitis C.\n",
      "len of after question:  [5, 3, 4, 3, 4, 4, 5, 2, 4, 4, 3, 25]\n",
      "Using path:  True\n",
      "sum of tokens:  52702\n",
      "sum of tokens after:  6990\n"
     ]
    },
    {
     "name": "stderr",
     "output_type": "stream",
     "text": [
      " 90%|████████▉ | 98/109 [11:07<02:40, 14.63s/it]"
     ]
    },
    {
     "name": "stdout",
     "output_type": "stream",
     "text": [
      "What are the initial steps in the assembly of the RNA polymerase II preinitiation complex at a gene promoter? This involves the sequential binding of general transcription factors and ultimately enables transcription to begin.\n",
      "len of after question:  [4, 4, 4, 5, 5, 25]\n",
      "Using path:  True\n",
      "sum of tokens:  18823\n",
      "sum of tokens after:  6968\n"
     ]
    },
    {
     "name": "stderr",
     "output_type": "stream",
     "text": [
      " 91%|█████████ | 99/109 [11:12<01:56, 11.61s/it]"
     ]
    },
    {
     "name": "stdout",
     "output_type": "stream",
     "text": [
      "Which disease relates to the Neoplasm of the inner ear phenotype?\n",
      "len of after question:  [5, 4, 5, 25]\n",
      "Using path:  True\n",
      "sum of tokens:  13543\n",
      "sum of tokens after:  6970\n"
     ]
    },
    {
     "name": "stderr",
     "output_type": "stream",
     "text": [
      " 92%|█████████▏| 100/109 [11:17<01:26,  9.63s/it]"
     ]
    },
    {
     "name": "stdout",
     "output_type": "stream",
     "text": [
      "Let's study the genetics of limb development and wonder how mutations in certain genes can lead to limb abnormalities. What is an example of a gene belonging to the homeobox family of transcription factors that, when deleted along with other nearby HOXD genes, is associated with severe limb defects?\n",
      "len of after question:  [0, 3, 2, 2, 5, 2, 5, 5, 0, 5, 4, 25]\n",
      "Using path:  True\n",
      "sum of tokens:  30119\n",
      "sum of tokens after:  6974\n"
     ]
    },
    {
     "name": "stderr",
     "output_type": "stream",
     "text": [
      " 93%|█████████▎| 101/109 [11:28<01:20, 10.01s/it]"
     ]
    },
    {
     "name": "stdout",
     "output_type": "stream",
     "text": [
      "I am wondering how connective tissues like skin, bone and tendons get their strength and structure. What biochemical pathway involves the synthesis of collagen and its modification by enzymes like hydroxylases to enable the formation of strong collagen fibrils?\n",
      "len of after question:  [5, 3, 2, 2, 5, 4, 2, 3, 4, 25]\n",
      "Using path:  True\n",
      "sum of tokens:  43027\n",
      "sum of tokens after:  6983\n"
     ]
    },
    {
     "name": "stderr",
     "output_type": "stream",
     "text": [
      " 94%|█████████▎| 102/109 [11:36<01:06,  9.56s/it]"
     ]
    },
    {
     "name": "stdout",
     "output_type": "stream",
     "text": [
      "Imagine you're a detective trying to diagnose a very rare genetic disorder based on a unique combination of symptoms. What syndrome is characterized by the triad of Klippel-Feil anomaly (cervical vertebral fusion), Duane syndrome (bilateral abducens nerve palsy with eye retraction), and congenital deafness?\n",
      "len of after question:  [4, 4, 4, 3, 2, 5, 25]\n",
      "Using path:  True\n",
      "sum of tokens:  22069\n",
      "sum of tokens after:  6993\n"
     ]
    },
    {
     "name": "stderr",
     "output_type": "stream",
     "text": [
      " 94%|█████████▍| 103/109 [11:42<00:49,  8.32s/it]"
     ]
    },
    {
     "name": "stdout",
     "output_type": "stream",
     "text": [
      "Imagine you're a pharmacologist on a quest to find an experimental drug to treat high blood pressure. What is an investigational adrenergic alpha-1 receptor antagonist that has been studied for the treatment of hypertension?\n",
      "len of after question:  [0, 2, 5, 5, 1, 4, 24]\n",
      "Using path:  True\n",
      "sum of tokens:  9818\n",
      "sum of tokens after:  6982\n"
     ]
    },
    {
     "name": "stderr",
     "output_type": "stream",
     "text": [
      " 95%|█████████▌| 104/109 [11:46<00:35,  7.16s/it]"
     ]
    },
    {
     "name": "stdout",
     "output_type": "stream",
     "text": [
      "What's the name of the cellular pathway that takes place in the nucleolus, where RNA polymerase I transcribes ribosomal DNA into the 45S precursor RNA that's processed into mature ribosomal RNAs?\n",
      "len of after question:  [4, 3, 4, 3, 5, 5, 25]\n",
      "Using path:  True\n",
      "sum of tokens:  23628\n",
      "sum of tokens after:  6949\n"
     ]
    },
    {
     "name": "stderr",
     "output_type": "stream",
     "text": [
      " 96%|█████████▋| 105/109 [11:51<00:26,  6.54s/it]"
     ]
    },
    {
     "name": "stdout",
     "output_type": "stream",
     "text": [
      "What cellular pathway involves the repression of E2F target genes like Cyclin A, CDK1, and E2F1 by RBL1 (p107) and RBL2 (p130) in complex with the histone deacetylase HDAC1 during G0 and early G1 phases of the cell cycle?\n",
      "len of after question:  [4, 2, 5, 5, 4, 4, 3, 1, 2, 1, 4, 4, 4, 3, 4, 25]\n",
      "Using path:  True\n",
      "sum of tokens:  52864\n",
      "sum of tokens after:  6981\n"
     ]
    },
    {
     "name": "stderr",
     "output_type": "stream",
     "text": [
      " 97%|█████████▋| 106/109 [12:00<00:21,  7.11s/it]"
     ]
    },
    {
     "name": "stdout",
     "output_type": "stream",
     "text": [
      "Help me. I am trying to diagnose a patient with persistent joint pain, and I suspect a condition where the bone is dying due to compromised blood supply, often linked to factors like steroid use, alcohol abuse, or underlying diseases - what's the name of this sneaky bone-killing culprit?\n",
      "len of after question:  [2, 2, 4, 2, 4, 2, 24]\n",
      "Using path:  True\n",
      "sum of tokens:  17830\n",
      "sum of tokens after:  6977\n"
     ]
    },
    {
     "name": "stderr",
     "output_type": "stream",
     "text": [
      " 98%|█████████▊| 107/109 [12:06<00:13,  6.80s/it]"
     ]
    },
    {
     "name": "stdout",
     "output_type": "stream",
     "text": [
      "Which drug targets PDEIVB?\n",
      "len of after question:  [2, 0, 23]\n",
      "Using path:  False\n",
      "sum of tokens:  129163\n",
      "sum of tokens after:  6995\n"
     ]
    },
    {
     "name": "stderr",
     "output_type": "stream",
     "text": [
      " 99%|█████████▉| 108/109 [12:10<00:06,  6.03s/it]"
     ]
    },
    {
     "name": "stdout",
     "output_type": "stream",
     "text": [
      "What host defense pathway involves proteins like S100A7, S100A8/A9, lactoferrin, and lipocalin-2 sequestering metal ions such as zinc, manganese, and iron to limit their availability to invading microbes?\n",
      "len of after question:  [3, 3, 4, 3, 2, 3, 2, 2, 2, 23]\n",
      "Using path:  True\n",
      "sum of tokens:  29304\n",
      "sum of tokens after:  6970\n"
     ]
    },
    {
     "name": "stderr",
     "output_type": "stream",
     "text": [
      "100%|██████████| 109/109 [12:18<00:00,  6.77s/it]\n"
     ]
    }
   ],
   "source": [
    "more_results = collect_responses(qa_dataset, graph_rag)"
   ]
  },
  {
   "cell_type": "code",
   "execution_count": 8,
   "metadata": {},
   "outputs": [
    {
     "name": "stdout",
     "output_type": "stream",
     "text": [
      "Dictionary saved to ../data/results/mini/16_10_sp_low_top_k_no_text_tf_no_type_token7k_2.json\n"
     ]
    }
   ],
   "source": [
    "save_dict_to_file(more_results, data_path + name_dict)"
   ]
  },
  {
   "cell_type": "code",
   "execution_count": null,
   "metadata": {},
   "outputs": [],
   "source": []
  },
  {
   "cell_type": "code",
   "execution_count": null,
   "metadata": {},
   "outputs": [],
   "source": []
  },
  {
   "cell_type": "code",
   "execution_count": null,
   "metadata": {},
   "outputs": [],
   "source": []
  },
  {
   "cell_type": "code",
   "execution_count": 9,
   "metadata": {},
   "outputs": [],
   "source": [
    "# # for item in np.arange(4):\n",
    "# #     more_results = collect_responses(qa_dataset, graph_rag, dict_=more_results)"
   ]
  },
  {
   "cell_type": "code",
   "execution_count": 10,
   "metadata": {},
   "outputs": [],
   "source": [
    "# results_dict = load_dict_from_file(data_path + name_dict)\n",
    "# more_results = collect_responses(qa_dataset, graph_rag, dict_=results_dict)"
   ]
  },
  {
   "cell_type": "code",
   "execution_count": null,
   "metadata": {},
   "outputs": [],
   "source": []
  }
 ],
 "metadata": {
  "kernelspec": {
   "display_name": "stark-qa",
   "language": "python",
   "name": "python3"
  },
  "language_info": {
   "codemirror_mode": {
    "name": "ipython",
    "version": 3
   },
   "file_extension": ".py",
   "mimetype": "text/x-python",
   "name": "python",
   "nbconvert_exporter": "python",
   "pygments_lexer": "ipython3",
   "version": "3.11.9"
  }
 },
 "nbformat": 4,
 "nbformat_minor": 2
}
