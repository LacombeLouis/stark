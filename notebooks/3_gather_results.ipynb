{
 "cells": [
  {
   "cell_type": "code",
   "execution_count": null,
   "metadata": {},
   "outputs": [],
   "source": [
    "from tqdm import tqdm\n",
    "\n",
    "import numpy as np\n",
    "import os\n",
    "\n",
    "from utils_neo4j import Neo4jApp\n",
    "from utils_llm import GraphRAG\n",
    "from stark_qa import load_qa, load_skb\n",
    "from utils import save_dict_to_file, load_dict_from_file, change_qa_dataset_to_tuple\n",
    "from utils_evaluation import collect_responses\n",
    "\n",
    "from dotenv import load_dotenv\n",
    "\n",
    "load_dotenv()\n",
    "\n",
    "dataset_name = os.getenv(\"dataset_name\")\n",
    "data_path = os.getenv(\"data_path\")\n",
    "\n",
    "# Load params for Graph\n",
    "scheme = os.getenv(\"scheme\")\n",
    "host_name = os.getenv(\"host_name\")\n",
    "port = os.getenv(\"port\")\n",
    "user = os.getenv(\"user\")\n",
    "password = os.getenv(\"password\")\n",
    "database = os.getenv(\"database\")\n"
   ]
  },
  {
   "cell_type": "code",
   "execution_count": null,
   "metadata": {},
   "outputs": [],
   "source": [
    "# Load the retrieval dataset\n",
    "qa_dataset = load_qa(dataset_name, human_generated_eval=True)\n",
    "qa_dataset = change_qa_dataset_to_tuple(qa_dataset)"
   ]
  },
  {
   "cell_type": "code",
   "execution_count": null,
   "metadata": {},
   "outputs": [],
   "source": [
    "uri = f\"{scheme}://{host_name}:{port}\"\n",
    "graph = Neo4jApp(uri, user, password, database)\n",
    "graph.verify_connection()"
   ]
  },
  {
   "cell_type": "code",
   "execution_count": null,
   "metadata": {},
   "outputs": [],
   "source": [
    "graph_rag = GraphRAG(graph=graph, add_similarity=True)"
   ]
  },
  {
   "cell_type": "code",
   "execution_count": null,
   "metadata": {},
   "outputs": [],
   "source": [
    "name_dict = \"06_09_tfidf.json\""
   ]
  },
  {
   "cell_type": "code",
   "execution_count": 6,
   "metadata": {},
   "outputs": [],
   "source": [
    "more_results = collect_responses(qa_dataset, graph_rag)\n"
   ]
  },
  {
   "cell_type": "code",
   "execution_count": null,
   "metadata": {},
   "outputs": [],
   "source": [
    "# # for item in np.arange(4):\n",
    "# #     more_results = collect_responses(qa_dataset, graph_rag, dict_=more_results)"
   ]
  },
  {
   "cell_type": "code",
   "execution_count": null,
   "metadata": {},
   "outputs": [],
   "source": [
    "# results_dict = load_dict_from_file(data_path + name_dict)\n",
    "# more_results = collect_responses(qa_dataset, graph_rag, dict_=results_dict)"
   ]
  },
  {
   "cell_type": "code",
   "execution_count": null,
   "metadata": {},
   "outputs": [],
   "source": [
    "save_dict_to_file(more_results, data_path + name_dict)"
   ]
  },
  {
   "cell_type": "code",
   "execution_count": null,
   "metadata": {},
   "outputs": [],
   "source": []
  }
 ],
 "metadata": {
  "kernelspec": {
   "display_name": "stark-qa",
   "language": "python",
   "name": "python3"
  },
  "language_info": {
   "codemirror_mode": {
    "name": "ipython",
    "version": 3
   },
   "file_extension": ".py",
   "mimetype": "text/x-python",
   "name": "python",
   "nbconvert_exporter": "python",
   "pygments_lexer": "ipython3",
   "version": "3.11.9"
  }
 },
 "nbformat": 4,
 "nbformat_minor": 2
}
