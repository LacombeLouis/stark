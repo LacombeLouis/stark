{
 "cells": [
  {
   "cell_type": "code",
   "execution_count": 1,
   "metadata": {},
   "outputs": [
    {
     "name": "stderr",
     "output_type": "stream",
     "text": [
      "/Users/louislacombe/miniconda3/envs/stark-qa/lib/python3.11/site-packages/tqdm/auto.py:21: TqdmWarning: IProgress not found. Please update jupyter and ipywidgets. See https://ipywidgets.readthedocs.io/en/stable/user_install.html\n",
      "  from .autonotebook import tqdm as notebook_tqdm\n"
     ]
    },
    {
     "name": "stdout",
     "output_type": "stream",
     "text": [
      "Loading from /Users/louislacombe/CODE/quantmetry/stark/prime/processed!\n"
     ]
    }
   ],
   "source": [
    "from tqdm import tqdm\n",
    "\n",
    "import numpy as np\n",
    "import os\n",
    "\n",
    "from utils_neo4j import Neo4jApp\n",
    "from utils_llm import GraphRAG\n",
    "from stark_qa import load_qa, load_skb\n",
    "from utils import save_dict_to_file, load_dict_from_file, change_qa_dataset_to_tuple\n",
    "from utils_evaluation import collect_responses\n",
    "\n",
    "from dotenv import load_dotenv\n",
    "\n",
    "load_dotenv()\n",
    "\n",
    "dataset_name = os.getenv(\"dataset_name\")\n",
    "data_path = os.getenv(\"data_path\")\n",
    "\n",
    "# Load params for Graph\n",
    "scheme = os.getenv(\"scheme\")\n",
    "host_name = os.getenv(\"host_name\")\n",
    "port = os.getenv(\"port\")\n",
    "user = os.getenv(\"user\")\n",
    "password = os.getenv(\"password\")\n",
    "database = os.getenv(\"database\")\n"
   ]
  },
  {
   "cell_type": "code",
   "execution_count": 2,
   "metadata": {},
   "outputs": [
    {
     "name": "stdout",
     "output_type": "stream",
     "text": [
      "Use file from /Users/louislacombe/.cache/huggingface/hub/datasets--snap-stanford--stark/snapshots/7b0352c7dcefbf254478c203bcfdf284a08866ac/qa/prime/stark_qa/stark_qa_human_generated_eval.csv.\n"
     ]
    }
   ],
   "source": [
    "# Load the retrieval dataset\n",
    "qa_dataset = load_qa(dataset_name, human_generated_eval=True)\n",
    "qa_dataset = change_qa_dataset_to_tuple(qa_dataset)"
   ]
  },
  {
   "cell_type": "code",
   "execution_count": 3,
   "metadata": {},
   "outputs": [],
   "source": [
    "uri = f\"{scheme}://{host_name}:{port}\"\n",
    "graph = Neo4jApp(uri, user, password, database)\n",
    "graph.verify_connection()"
   ]
  },
  {
   "cell_type": "code",
   "execution_count": 4,
   "metadata": {},
   "outputs": [],
   "source": [
    "graph_rag = GraphRAG(graph=graph, add_similarity=True, relation_score=True)"
   ]
  },
  {
   "cell_type": "code",
   "execution_count": 5,
   "metadata": {},
   "outputs": [],
   "source": [
    "name_dict = \"07_08_SP_SIM_entity_finder_exact_match_more_sim_60k.json\""
   ]
  },
  {
   "cell_type": "code",
   "execution_count": 6,
   "metadata": {},
   "outputs": [
    {
     "name": "stderr",
     "output_type": "stream",
     "text": [
      "  0%|          | 0/109 [00:00<?, ?it/s]"
     ]
    },
    {
     "name": "stdout",
     "output_type": "stream",
     "text": [
      "len of before limit and question similarity:  [9, 7, 7]\n",
      "question:  I have pharyngitis and chemosis. What skin disease might I have?\n",
      "number of tokens:  19421\n"
     ]
    },
    {
     "name": "stderr",
     "output_type": "stream",
     "text": [
      "  1%|          | 1/109 [00:12<22:00, 12.23s/it]"
     ]
    },
    {
     "name": "stdout",
     "output_type": "stream",
     "text": [
      "len of before limit and question similarity:  [5, 7, 7]\n",
      "question:  mixed mucinous and nonmucinous bronchioloalveolar adenocarcinoma is a subtype of what disease?\n",
      "number of tokens:  23017\n"
     ]
    },
    {
     "name": "stderr",
     "output_type": "stream",
     "text": [
      "  2%|▏         | 2/109 [00:25<22:50, 12.81s/it]"
     ]
    },
    {
     "name": "stdout",
     "output_type": "stream",
     "text": [
      "len of before limit and question similarity:  [5, 5, 7, 5, 5, 5, 5, 5]\n",
      "question:  Which pathway is a promising therapeutic target in breast cancer that renders the protein insensitive to inhibition by the WNT antagonist DKK1 and interacts with KREMEN, DKK family genes?\n",
      "number of tokens:  57891\n"
     ]
    },
    {
     "name": "stderr",
     "output_type": "stream",
     "text": [
      "  3%|▎         | 3/109 [00:50<32:38, 18.47s/it]"
     ]
    },
    {
     "name": "stdout",
     "output_type": "stream",
     "text": [
      "len of before limit and question similarity:  [5, 5, 7, 5, 5]\n",
      "question:  Which gene is involved in vesicle transport and locate in kinetochore, and in the pathway of antigen processing?\n",
      "number of tokens:  28264\n"
     ]
    },
    {
     "name": "stderr",
     "output_type": "stream",
     "text": [
      "  4%|▎         | 4/109 [01:06<30:35, 17.48s/it]"
     ]
    },
    {
     "name": "stdout",
     "output_type": "stream",
     "text": [
      "len of before limit and question similarity:  [5, 5, 5, 9, 5, 5]\n",
      "question:  What drug with ~300 Da weight that stimulates the immune system has synergy with a few different acids?\n",
      "number of tokens:  42305\n"
     ]
    },
    {
     "name": "stderr",
     "output_type": "stream",
     "text": [
      "  5%|▍         | 5/109 [01:23<29:54, 17.25s/it]"
     ]
    },
    {
     "name": "stdout",
     "output_type": "stream",
     "text": [
      "len of before limit and question similarity:  [5, 7, 7, 7, 5, 5]\n",
      "question:  Which gene is present in endometrium, adipose tissue, colon and is a pseudogene on chromosome 9?\n",
      "number of tokens:  42020\n"
     ]
    },
    {
     "name": "stderr",
     "output_type": "stream",
     "text": [
      "  6%|▌         | 6/109 [02:05<44:04, 25.68s/it]"
     ]
    },
    {
     "name": "stdout",
     "output_type": "stream",
     "text": [
      "len of before limit and question similarity:  [5, 5, 7]\n",
      "question:  What variant of sugar (yum!) hits a protein involved in carbohydrate binding?\n",
      "number of tokens:  17597\n"
     ]
    },
    {
     "name": "stderr",
     "output_type": "stream",
     "text": [
      "  6%|▋         | 7/109 [02:12<33:28, 19.69s/it]"
     ]
    },
    {
     "name": "stdout",
     "output_type": "stream",
     "text": [
      "len of before limit and question similarity:  [7, 5]\n",
      "question:  My friend has been prescribed Tasonermin, what diseases might they have?\n",
      "number of tokens:  8247\n"
     ]
    },
    {
     "name": "stderr",
     "output_type": "stream",
     "text": [
      "  7%|▋         | 8/109 [02:19<25:55, 15.40s/it]"
     ]
    },
    {
     "name": "stdout",
     "output_type": "stream",
     "text": [
      "len of before limit and question similarity:  [9]\n",
      "question:  Why do prostate cancer cases rise in agriculturally intensive areas in California?\n",
      "number of tokens:  5067\n"
     ]
    },
    {
     "name": "stderr",
     "output_type": "stream",
     "text": [
      "  8%|▊         | 9/109 [02:25<20:47, 12.48s/it]"
     ]
    },
    {
     "name": "stdout",
     "output_type": "stream",
     "text": [
      "len of before limit and question similarity:  [5, 5, 5, 5, 7]\n",
      "question:  What is the gene that causes significant bleeding if defected and interact with cellular response to manganese ion and ATP binding?\n",
      "number of tokens:  26613\n"
     ]
    },
    {
     "name": "stderr",
     "output_type": "stream",
     "text": [
      "  9%|▉         | 10/109 [02:38<20:57, 12.70s/it]"
     ]
    },
    {
     "name": "stdout",
     "output_type": "stream",
     "text": [
      "len of before limit and question similarity:  [5, 5, 7]\n",
      "question:  I remember I heard of a drug whos name sounds like \"depression\" and is used to treat nocturia. What is it?\n",
      "number of tokens:  8104\n"
     ]
    },
    {
     "name": "stderr",
     "output_type": "stream",
     "text": [
      " 10%|█         | 11/109 [02:48<19:19, 11.83s/it]"
     ]
    },
    {
     "name": "stdout",
     "output_type": "stream",
     "text": [
      "len of before limit and question similarity:  [5, 7, 5, 9, 7, 7]\n",
      "question:  Which HIV drug targets CCR5 and has side effects like Alopecia, Syncope, Chronic sinusitis?\n",
      "number of tokens:  33737\n"
     ]
    },
    {
     "name": "stderr",
     "output_type": "stream",
     "text": [
      " 11%|█         | 12/109 [03:01<19:59, 12.36s/it]"
     ]
    },
    {
     "name": "stdout",
     "output_type": "stream",
     "text": [
      "len of before limit and question similarity:  [7, 7]\n",
      "question:  I have visual loss and abnormal electroretinogram, what I got?\n",
      "number of tokens:  12285\n"
     ]
    },
    {
     "name": "stderr",
     "output_type": "stream",
     "text": [
      " 12%|█▏        | 13/109 [03:08<17:09, 10.73s/it]"
     ]
    },
    {
     "name": "stdout",
     "output_type": "stream",
     "text": [
      "len of before limit and question similarity:  [5, 7, 5]\n",
      "question:  I was diagnosed with RA and i want to avoid elevated hepatic transaminase, which drug should I avoid?\n",
      "number of tokens:  10081\n"
     ]
    },
    {
     "name": "stderr",
     "output_type": "stream",
     "text": [
      " 13%|█▎        | 14/109 [03:15<15:06,  9.55s/it]"
     ]
    },
    {
     "name": "stdout",
     "output_type": "stream",
     "text": [
      "len of before limit and question similarity:  [9, 5, 5]\n",
      "question:  Is there a new formulation of ciprofloxacin to be used as radioimaging agent for diagnosis?\n",
      "number of tokens:  13153\n"
     ]
    },
    {
     "name": "stderr",
     "output_type": "stream",
     "text": [
      " 14%|█▍        | 15/109 [03:24<14:42,  9.39s/it]"
     ]
    },
    {
     "name": "stdout",
     "output_type": "stream",
     "text": [
      "len of before limit and question similarity:  [5, 5, 5, 5]\n",
      "question:  A coding mutation in an oligomer that interacts with a lysomsomal transport pathways would disrupt which pathway?\n",
      "number of tokens:  22325\n"
     ]
    },
    {
     "name": "stderr",
     "output_type": "stream",
     "text": [
      " 15%|█▍        | 16/109 [03:34<14:59,  9.67s/it]"
     ]
    },
    {
     "name": "stdout",
     "output_type": "stream",
     "text": [
      "len of before limit and question similarity:  [7, 7]\n",
      "question:  What type of disease is a paraphilic disorder?\n",
      "number of tokens:  10136\n"
     ]
    },
    {
     "name": "stderr",
     "output_type": "stream",
     "text": [
      " 16%|█▌        | 17/109 [03:40<13:03,  8.52s/it]"
     ]
    },
    {
     "name": "stdout",
     "output_type": "stream",
     "text": [
      "len of before limit and question similarity:  [5, 7, 7]\n",
      "question:  This protein interacts with HBQ1 and SIRT5\n",
      "number of tokens:  14625\n"
     ]
    },
    {
     "name": "stderr",
     "output_type": "stream",
     "text": [
      " 17%|█▋        | 18/109 [03:46<11:53,  7.84s/it]"
     ]
    },
    {
     "name": "stdout",
     "output_type": "stream",
     "text": [
      "len of before limit and question similarity:  [7, 5, 5, 5]\n",
      "question:  My dad said his head hurts and his muscles have been feeling really weak. He also told me he saw stars yesterday. What might be wrong with him?\n",
      "number of tokens:  29620\n"
     ]
    },
    {
     "name": "stderr",
     "output_type": "stream",
     "text": [
      " 17%|█▋        | 19/109 [03:59<13:58,  9.31s/it]"
     ]
    },
    {
     "name": "stdout",
     "output_type": "stream",
     "text": [
      "len of before limit and question similarity:  [5, 7]\n",
      "question:  What is a drug to treat sclerosing cholangitis\n",
      "number of tokens:  6055\n"
     ]
    },
    {
     "name": "stderr",
     "output_type": "stream",
     "text": [
      " 18%|█▊        | 20/109 [04:05<12:16,  8.28s/it]"
     ]
    },
    {
     "name": "stdout",
     "output_type": "stream",
     "text": [
      "len of before limit and question similarity:  [5, 5, 5, 5, 7, 7, 7]\n",
      "question:  Which gene involve in the process of action potentials in vertebrate neurons after AHP, and is present in numerous cellular contexts such as amygdala, epithelium,  cerebral cortex, etc\n",
      "number of tokens:  53313\n"
     ]
    },
    {
     "name": "stderr",
     "output_type": "stream",
     "text": [
      " 19%|█▉        | 21/109 [04:24<16:59, 11.58s/it]"
     ]
    },
    {
     "name": "stdout",
     "output_type": "stream",
     "text": [
      "len of before limit and question similarity:  [5, 5, 5, 5, 7]\n",
      "question:  I have inflammation in my gums, and it turns sollwne and puffy. Which disease could potentially be the issue?\n",
      "number of tokens:  32319\n"
     ]
    },
    {
     "name": "stderr",
     "output_type": "stream",
     "text": [
      " 20%|██        | 22/109 [04:39<17:59, 12.40s/it]"
     ]
    },
    {
     "name": "stdout",
     "output_type": "stream",
     "text": [
      "len of before limit and question similarity:  [5, 5, 5, 5]\n",
      "question:  What drug would you give to a patient whose grandmother suffered from glutathione reductase deficiency?\n",
      "number of tokens:  19110\n"
     ]
    },
    {
     "name": "stderr",
     "output_type": "stream",
     "text": [
      " 21%|██        | 23/109 [04:49<16:57, 11.84s/it]"
     ]
    },
    {
     "name": "stdout",
     "output_type": "stream",
     "text": [
      "len of before limit and question similarity:  [5, 5, 5, 9]\n",
      "question:  Is there an Fe-containing compound that works with an antibiotic that is contraindicated for gout?\n",
      "number of tokens:  18575\n"
     ]
    },
    {
     "name": "stderr",
     "output_type": "stream",
     "text": [
      " 22%|██▏       | 24/109 [05:01<16:41, 11.78s/it]"
     ]
    },
    {
     "name": "stdout",
     "output_type": "stream",
     "text": [
      "len of before limit and question similarity:  [5, 5, 5, 5, 9, 5, 5, 7, 7, 7, 7]\n",
      "question:  I am a doctor, and I have this patient with the following symptoms: a lack of T lymphocytes, lack of immunodeficiency, severe respiratory infections. The patient has the following biomarkers enriched: JAK3, RAG2, CTLA4. What disease is this?\n",
      "number of tokens:  61370\n"
     ]
    },
    {
     "name": "stderr",
     "output_type": "stream",
     "text": [
      " 23%|██▎       | 25/109 [05:31<24:01, 17.16s/it]"
     ]
    },
    {
     "name": "stdout",
     "output_type": "stream",
     "text": [
      "len of before limit and question similarity:  [7, 7, 7, 7, 7, 7, 7, 7]\n",
      "question:  Which drug has a synergistic interaction with Cloranolol, Hydrolyzed Cephalothin, Vorapaxar, Guanethidine, Ertapenem, Lomerizine, Cadralazine, and Pentobarbital?\n",
      "number of tokens:  44960\n"
     ]
    },
    {
     "name": "stderr",
     "output_type": "stream",
     "text": [
      " 24%|██▍       | 26/109 [05:48<24:00, 17.35s/it]"
     ]
    },
    {
     "name": "stdout",
     "output_type": "stream",
     "text": [
      "len of before limit and question similarity:  [5, 7, 7, 7]\n",
      "question:  This protein is found in the vastus lateralis and cingulate cortex and intestine\n",
      "number of tokens:  32745\n"
     ]
    },
    {
     "name": "stderr",
     "output_type": "stream",
     "text": [
      " 25%|██▍       | 27/109 [06:00<21:27, 15.70s/it]"
     ]
    },
    {
     "name": "stdout",
     "output_type": "stream",
     "text": [
      "len of before limit and question similarity:  [7, 7]\n",
      "question:  Is MTND5P11 expressed in any part of the brain?\n",
      "number of tokens:  8023\n"
     ]
    },
    {
     "name": "stderr",
     "output_type": "stream",
     "text": [
      " 26%|██▌       | 28/109 [06:10<18:44, 13.89s/it]"
     ]
    },
    {
     "name": "stdout",
     "output_type": "stream",
     "text": [
      "len of before limit and question similarity:  [7, 7, 7, 5]\n",
      "question:  I have GJB2, GJA1, GJB1 enriched, which pathway is this?\n",
      "number of tokens:  15236\n"
     ]
    },
    {
     "name": "stderr",
     "output_type": "stream",
     "text": [
      " 27%|██▋       | 29/109 [06:17<15:58, 11.99s/it]"
     ]
    },
    {
     "name": "stdout",
     "output_type": "stream",
     "text": [
      "len of before limit and question similarity:  [5, 5, 7, 7, 7]\n",
      "question:  Which gene is involved in chromosome positioning, and interact with MTUS1, SLC25A2, and PDE3A?\n",
      "number of tokens:  24057\n"
     ]
    },
    {
     "name": "stderr",
     "output_type": "stream",
     "text": [
      " 28%|██▊       | 30/109 [06:30<15:57, 12.12s/it]"
     ]
    },
    {
     "name": "stdout",
     "output_type": "stream",
     "text": [
      "len of before limit and question similarity:  [5, 5, 5, 5]\n",
      "question:  What's an amino acid variant that can target a protein in rod cells in my patient's eyes?\n",
      "number of tokens:  25349\n"
     ]
    },
    {
     "name": "stderr",
     "output_type": "stream",
     "text": [
      " 28%|██▊       | 31/109 [06:40<14:49, 11.40s/it]"
     ]
    },
    {
     "name": "stdout",
     "output_type": "stream",
     "text": [
      "len of before limit and question similarity:  [5, 5, 5, 5, 5, 5, 5]\n",
      "question:  I think I have the flu but it's not flu season. Also I'm really tired and my temperature is over 100. I was recently in France and drank a lot of tap water there. Any idea why I might be sick?\n",
      "number of tokens:  47446\n"
     ]
    },
    {
     "name": "stderr",
     "output_type": "stream",
     "text": [
      " 29%|██▉       | 32/109 [06:58<17:22, 13.54s/it]"
     ]
    },
    {
     "name": "stdout",
     "output_type": "stream",
     "text": [
      "len of before limit and question similarity:  [7, 5]\n",
      "question:  TBXAS1 can be affected by what drug?\n",
      "number of tokens:  5482\n"
     ]
    },
    {
     "name": "stderr",
     "output_type": "stream",
     "text": [
      " 30%|███       | 33/109 [07:05<14:46, 11.67s/it]"
     ]
    },
    {
     "name": "stdout",
     "output_type": "stream",
     "text": [
      "len of before limit and question similarity:  [5, 5, 7]\n",
      "question:  The production of interleukin 10 (IL-10) contributes to the development of which disease?\n",
      "number of tokens:  13097\n"
     ]
    },
    {
     "name": "stderr",
     "output_type": "stream",
     "text": [
      " 31%|███       | 34/109 [07:14<13:21, 10.69s/it]"
     ]
    },
    {
     "name": "stdout",
     "output_type": "stream",
     "text": [
      "len of before limit and question similarity:  [5, 5, 5, 5, 9, 5, 5, 5, 5, 5, 7, 7, 7]\n",
      "question:  I am a doctor and I ran NICU and I have a baby with severe infections in pneumonia, diiarrhea and skin rashes, deafness. The blood test shows increased marker of IL7R, CD3D. Which disease is this?\n",
      "number of tokens:  61404\n"
     ]
    },
    {
     "name": "stderr",
     "output_type": "stream",
     "text": [
      " 32%|███▏      | 35/109 [07:52<23:26, 19.00s/it]"
     ]
    },
    {
     "name": "stdout",
     "output_type": "stream",
     "text": [
      "len of before limit and question similarity:  [5, 5, 7]\n",
      "question:  Which gene is intronless, and is associated with Hermansky-Pudlak syndrome when disrupted?\n",
      "number of tokens:  12598\n"
     ]
    },
    {
     "name": "stderr",
     "output_type": "stream",
     "text": [
      " 33%|███▎      | 36/109 [08:02<19:37, 16.13s/it]"
     ]
    },
    {
     "name": "stdout",
     "output_type": "stream",
     "text": [
      "len of before limit and question similarity:  [5, 7, 7, 7, 7]\n",
      "question:  Which gene is evolved to respond to gram-negative bacterial infections and interact with CD14, PSMA3, TSC22D4?\n",
      "number of tokens:  26915\n"
     ]
    },
    {
     "name": "stderr",
     "output_type": "stream",
     "text": [
      " 34%|███▍      | 37/109 [08:19<19:41, 16.40s/it]"
     ]
    },
    {
     "name": "stdout",
     "output_type": "stream",
     "text": [
      "len of before limit and question similarity:  [7, 5, 5, 5]\n",
      "question:  A ROS1 tumor mutation might lead to which carcinomas?\n",
      "number of tokens:  19164\n"
     ]
    },
    {
     "name": "stderr",
     "output_type": "stream",
     "text": [
      " 35%|███▍      | 38/109 [08:31<17:52, 15.10s/it]"
     ]
    },
    {
     "name": "stdout",
     "output_type": "stream",
     "text": [
      "len of before limit and question similarity:  [5, 7, 7, 7, 5]\n",
      "question:  What is a gene target of Cyanocobalamin that encodes for GTPase activity and protein homodimerization activity in the Propionyl-CoA catabolism pathway?\n",
      "number of tokens:  32839\n"
     ]
    },
    {
     "name": "stderr",
     "output_type": "stream",
     "text": [
      " 36%|███▌      | 39/109 [08:42<16:09, 13.85s/it]"
     ]
    },
    {
     "name": "stdout",
     "output_type": "stream",
     "text": [
      "len of before limit and question similarity:  [5, 5, 7]\n",
      "question:  What's an example of a gene that is part of the RNA recognition motif family and is involved in transcription coactivator activity?\n",
      "number of tokens:  11062\n"
     ]
    },
    {
     "name": "stderr",
     "output_type": "stream",
     "text": [
      " 37%|███▋      | 40/109 [08:50<13:53, 12.09s/it]"
     ]
    },
    {
     "name": "stdout",
     "output_type": "stream",
     "text": [
      "len of before limit and question similarity:  [7, 7, 7, 5]\n",
      "question:  Which pathway involves APEX1, POLB and locates in nucleoplasm and is part of the resolution of AP sites?\n",
      "number of tokens:  21745\n"
     ]
    },
    {
     "name": "stderr",
     "output_type": "stream",
     "text": [
      " 38%|███▊      | 41/109 [09:01<13:24, 11.83s/it]"
     ]
    },
    {
     "name": "stdout",
     "output_type": "stream",
     "text": [
      "len of before limit and question similarity:  [5, 5, 7, 5, 5, 5]\n",
      "question:  Which protein is involved in regulation of keratinocyte differentiation and transcription by RNA polymerase II and is in chromosome 17?\n",
      "number of tokens:  39978\n"
     ]
    },
    {
     "name": "stderr",
     "output_type": "stream",
     "text": [
      " 39%|███▊      | 42/109 [09:16<14:16, 12.78s/it]"
     ]
    },
    {
     "name": "stdout",
     "output_type": "stream",
     "text": [
      "len of before limit and question similarity:  [7, 5, 5, 5]\n",
      "question:  I'm currently taking tremelimumab for HIV. Do you know of any antibody-like molecules that would work well with my current treatment?\n",
      "number of tokens:  14398\n"
     ]
    },
    {
     "name": "stderr",
     "output_type": "stream",
     "text": [
      " 39%|███▉      | 43/109 [09:27<13:22, 12.15s/it]"
     ]
    },
    {
     "name": "stdout",
     "output_type": "stream",
     "text": [
      "len of before limit and question similarity:  [5, 7]\n",
      "question:  What is a membrane-crossing protein that interacts with RETREG3?\n",
      "number of tokens:  5018\n"
     ]
    },
    {
     "name": "stderr",
     "output_type": "stream",
     "text": [
      " 40%|████      | 44/109 [09:32<10:55, 10.09s/it]"
     ]
    },
    {
     "name": "stdout",
     "output_type": "stream",
     "text": [
      "len of before limit and question similarity:  [7, 5]\n",
      "question:  Hermansky-Pudlak syndrome is associated with what protein?\n",
      "number of tokens:  11696\n"
     ]
    },
    {
     "name": "stderr",
     "output_type": "stream",
     "text": [
      " 41%|████▏     | 45/109 [09:38<09:26,  8.86s/it]"
     ]
    },
    {
     "name": "stdout",
     "output_type": "stream",
     "text": [
      "len of before limit and question similarity:  [5, 5, 5, 5, 5, 5]\n",
      "question:  An expecting couple performed genotyping on their unborn child and discovered SNPs on chromosome 16. The fetus displays some abnormal bone developement. What can the obstetrician report to the parents?\n",
      "number of tokens:  43064\n"
     ]
    },
    {
     "name": "stderr",
     "output_type": "stream",
     "text": [
      " 42%|████▏     | 46/109 [09:53<11:16, 10.74s/it]"
     ]
    },
    {
     "name": "stdout",
     "output_type": "stream",
     "text": [
      "len of before limit and question similarity:  [7, 5]\n",
      "question:  CSNK1A1 interacts with what other protein?\n",
      "number of tokens:  9693\n"
     ]
    },
    {
     "name": "stderr",
     "output_type": "stream",
     "text": [
      " 43%|████▎     | 47/109 [09:59<09:33,  9.25s/it]"
     ]
    },
    {
     "name": "stdout",
     "output_type": "stream",
     "text": [
      "len of before limit and question similarity:  [5, 5, 7]\n",
      "question:  What diseases is exposure to 2,3',4,4',5-pentachlorobiphenyl associated with?\n",
      "number of tokens:  16197\n"
     ]
    },
    {
     "name": "stderr",
     "output_type": "stream",
     "text": [
      " 44%|████▍     | 48/109 [10:06<08:39,  8.52s/it]"
     ]
    },
    {
     "name": "stdout",
     "output_type": "stream",
     "text": [
      "len of before limit and question similarity:  [5, 5]\n",
      "question:  Where in the cell will I find immunoglobulin lambda variable 2-18?\n",
      "number of tokens:  5158\n"
     ]
    },
    {
     "name": "stderr",
     "output_type": "stream",
     "text": [
      " 45%|████▍     | 49/109 [10:11<07:39,  7.65s/it]"
     ]
    },
    {
     "name": "stdout",
     "output_type": "stream",
     "text": [
      "len of before limit and question similarity:  [7, 5, 5]\n",
      "question:  PAN2 and various CNOTs are all involved in what biological process?\n",
      "number of tokens:  12211\n"
     ]
    },
    {
     "name": "stderr",
     "output_type": "stream",
     "text": [
      " 46%|████▌     | 50/109 [10:21<08:03,  8.20s/it]"
     ]
    },
    {
     "name": "stdout",
     "output_type": "stream",
     "text": [
      "len of before limit and question similarity:  [7, 5, 7, 5, 7, 5, 5]\n",
      "question:  Which skin disease is caused by a mutation in AAGAB or COL14A1 gene, and super rare, with  epidermal hyperkeratosis in palms and soles?\n",
      "number of tokens:  61311\n"
     ]
    },
    {
     "name": "stderr",
     "output_type": "stream",
     "text": [
      " 47%|████▋     | 51/109 [10:46<12:46, 13.22s/it]"
     ]
    },
    {
     "name": "stdout",
     "output_type": "stream",
     "text": [
      "len of before limit and question similarity:  [5, 5, 7]\n",
      "question:  A doctor might prescribe what drug in addition to Atosiban?\n",
      "number of tokens:  9275\n"
     ]
    },
    {
     "name": "stderr",
     "output_type": "stream",
     "text": [
      " 48%|████▊     | 52/109 [10:53<10:48, 11.37s/it]"
     ]
    },
    {
     "name": "stdout",
     "output_type": "stream",
     "text": [
      "len of before limit and question similarity:  [5, 5, 5, 5, 7]\n",
      "question:  Which gene is part of a post-splicing multiprotein complex, exhibit RNA helicase and hydrolase, present only in the cytoplasm?\n",
      "number of tokens:  26035\n"
     ]
    },
    {
     "name": "stderr",
     "output_type": "stream",
     "text": [
      " 49%|████▊     | 53/109 [11:03<10:27, 11.21s/it]"
     ]
    },
    {
     "name": "stdout",
     "output_type": "stream",
     "text": [
      "len of before limit and question similarity:  [5, 7, 5, 7, 7]\n",
      "question:  Which drug can treat migraine by blocking CGRP binding and targets CALCRL, CALCB?\n",
      "number of tokens:  23045\n"
     ]
    },
    {
     "name": "stderr",
     "output_type": "stream",
     "text": [
      " 50%|████▉     | 54/109 [11:16<10:39, 11.63s/it]"
     ]
    },
    {
     "name": "stdout",
     "output_type": "stream",
     "text": [
      "len of before limit and question similarity:  [7, 5, 5]\n",
      "question:  GTF2F2 initiates transcription with what polymerase?\n",
      "number of tokens:  11710\n"
     ]
    },
    {
     "name": "stderr",
     "output_type": "stream",
     "text": [
      " 50%|█████     | 55/109 [11:26<09:55, 11.02s/it]"
     ]
    },
    {
     "name": "stdout",
     "output_type": "stream",
     "text": [
      "len of before limit and question similarity:  [7, 7, 7, 7, 7, 7, 7, 7, 7, 5]\n",
      "question:  RPS6KA4, TUBA1A, KIF4A, CLTC, SHTN1, ACTB, SH3GL2, RPS6KA6, and TUBB8 are part of which pathway?\n",
      "number of tokens:  62292\n"
     ]
    },
    {
     "name": "stderr",
     "output_type": "stream",
     "text": [
      " 51%|█████▏    | 56/109 [11:52<13:47, 15.61s/it]"
     ]
    },
    {
     "name": "stdout",
     "output_type": "stream",
     "text": [
      "len of before limit and question similarity:  [5, 5, 5, 5, 9, 5]\n",
      "question:  My mom got into ICU unfortunately and had ventilator on. The doctor said she got COPD and pneumonia, which drug should the doctor give my mom?\n",
      "number of tokens:  34136\n"
     ]
    },
    {
     "name": "stderr",
     "output_type": "stream",
     "text": [
      " 52%|█████▏    | 57/109 [12:07<13:29, 15.56s/it]"
     ]
    },
    {
     "name": "stdout",
     "output_type": "stream",
     "text": [
      "len of before limit and question similarity:  [7, 5, 5, 5, 7]\n",
      "question:  I'm on prednisolone for juvenile arthritis. What's a possible protein that my drug is targeting based on its relation to this disease?\n",
      "number of tokens:  31387\n"
     ]
    },
    {
     "name": "stderr",
     "output_type": "stream",
     "text": [
      " 53%|█████▎    | 58/109 [12:20<12:20, 14.52s/it]"
     ]
    },
    {
     "name": "stdout",
     "output_type": "stream",
     "text": [
      "len of before limit and question similarity:  [5, 5, 5]\n",
      "question:  Are there genes on chromosome 12 involved in gene transcription?\n",
      "number of tokens:  12851\n"
     ]
    },
    {
     "name": "stderr",
     "output_type": "stream",
     "text": [
      " 54%|█████▍    | 59/109 [12:31<11:22, 13.65s/it]"
     ]
    },
    {
     "name": "stdout",
     "output_type": "stream",
     "text": [
      "len of before limit and question similarity:  [5, 7, 5]\n",
      "question:  I have severe insomnia and I have pyoureter, what insomnia drugs that I CANNOT have?\n",
      "number of tokens:  9923\n"
     ]
    },
    {
     "name": "stderr",
     "output_type": "stream",
     "text": [
      " 55%|█████▌    | 60/109 [12:40<10:00, 12.25s/it]"
     ]
    },
    {
     "name": "stdout",
     "output_type": "stream",
     "text": [
      "len of before limit and question similarity:  [5, 7, 7, 7, 7, 7, 7]\n",
      "question:  Which gene is present in spinal cord, nasal cavity mucosa, intestine, biceps brachii, tendon and involved in cell migration?\n",
      "number of tokens:  61352\n"
     ]
    },
    {
     "name": "stderr",
     "output_type": "stream",
     "text": [
      " 56%|█████▌    | 61/109 [13:02<12:08, 15.17s/it]"
     ]
    },
    {
     "name": "stdout",
     "output_type": "stream",
     "text": [
      "len of before limit and question similarity:  [7, 5, 7]\n",
      "question:  BTNL8 is part of which pathway of the adaptive Immune System?\n",
      "number of tokens:  16474\n"
     ]
    },
    {
     "name": "stderr",
     "output_type": "stream",
     "text": [
      " 57%|█████▋    | 62/109 [13:11<10:27, 13.34s/it]"
     ]
    },
    {
     "name": "stdout",
     "output_type": "stream",
     "text": [
      "len of before limit and question similarity:  [7, 5, 5]\n",
      "question:  The protein encoded by HIF3A is associated with negative regulation of what?\n",
      "number of tokens:  18035\n"
     ]
    },
    {
     "name": "stderr",
     "output_type": "stream",
     "text": [
      " 58%|█████▊    | 63/109 [13:20<09:10, 11.97s/it]"
     ]
    },
    {
     "name": "stdout",
     "output_type": "stream",
     "text": [
      "len of before limit and question similarity:  [5, 5, 5, 5, 9, 7, 7, 7, 7, 5]\n",
      "question:  I have a patient with the following symptoms: young, tropical regions, resttrctive cardimyopathy, hypertesnion,  Prolonged QRS complex, Left atrial enlargement. What disease should I diagnose?\n",
      "number of tokens:  61560\n"
     ]
    },
    {
     "name": "stderr",
     "output_type": "stream",
     "text": [
      " 59%|█████▊    | 64/109 [13:46<12:15, 16.33s/it]"
     ]
    },
    {
     "name": "stdout",
     "output_type": "stream",
     "text": [
      "len of before limit and question similarity:  [7, 5, 5, 5, 5]\n",
      "question:  I have a cardiovascular disease and my WGS result tells me that I have a mutation in TBXAS1 gene. Which drug should I have?\n",
      "number of tokens:  24528\n"
     ]
    },
    {
     "name": "stderr",
     "output_type": "stream",
     "text": [
      " 60%|█████▉    | 65/109 [14:03<12:03, 16.45s/it]"
     ]
    },
    {
     "name": "stdout",
     "output_type": "stream",
     "text": [
      "len of before limit and question similarity:  [7, 5]\n",
      "question:  Are there any rare diseases related to ERF?\n",
      "number of tokens:  8201\n"
     ]
    },
    {
     "name": "stderr",
     "output_type": "stream",
     "text": [
      " 61%|██████    | 66/109 [14:12<10:07, 14.14s/it]"
     ]
    },
    {
     "name": "stdout",
     "output_type": "stream",
     "text": [
      "len of before limit and question similarity:  [5, 5, 7, 5]\n",
      "question:  Which gene is related to platelet function and is involved in rRNA catabolic process and if disrupted, can cause excessive blooding?\n",
      "number of tokens:  19469\n"
     ]
    },
    {
     "name": "stderr",
     "output_type": "stream",
     "text": [
      " 61%|██████▏   | 67/109 [14:22<09:08, 13.05s/it]"
     ]
    },
    {
     "name": "stdout",
     "output_type": "stream",
     "text": [
      "len of before limit and question similarity:  [7, 7]\n",
      "question:  bronchogenic carcinoma is a subtype of what disease?\n",
      "number of tokens:  9364\n"
     ]
    },
    {
     "name": "stderr",
     "output_type": "stream",
     "text": [
      " 62%|██████▏   | 68/109 [14:29<07:31, 11.02s/it]"
     ]
    },
    {
     "name": "stdout",
     "output_type": "stream",
     "text": [
      "len of before limit and question similarity:  [7, 7, 5]\n",
      "question:  My doctor told me that I have a disease whose cause is unknown but that can lead to heart failure. She also told me that I have unusual brain lactate levels, whatever that means. Can you guess what I'm sick with?\n",
      "number of tokens:  17234\n"
     ]
    },
    {
     "name": "stderr",
     "output_type": "stream",
     "text": [
      " 63%|██████▎   | 69/109 [14:39<07:09, 10.74s/it]"
     ]
    },
    {
     "name": "stdout",
     "output_type": "stream",
     "text": [
      "len of before limit and question similarity:  [7, 5]\n",
      "question:  Chlorhexidine can treat what gum disease?\n",
      "number of tokens:  5853\n"
     ]
    },
    {
     "name": "stderr",
     "output_type": "stream",
     "text": [
      " 64%|██████▍   | 70/109 [14:44<05:50,  8.98s/it]"
     ]
    },
    {
     "name": "stdout",
     "output_type": "stream",
     "text": [
      "len of before limit and question similarity:  [5, 5, 5, 7, 7, 5]\n",
      "question:  Which gene locates in chomorosme 4, and is part of the complex that initiates GPI in the brain and is associated with hypercoagulability syndrome?\n",
      "number of tokens:  42851\n"
     ]
    },
    {
     "name": "stderr",
     "output_type": "stream",
     "text": [
      " 65%|██████▌   | 71/109 [15:04<07:55, 12.51s/it]"
     ]
    },
    {
     "name": "stdout",
     "output_type": "stream",
     "text": [
      "len of before limit and question similarity:  [5, 5, 5, 7, 7, 7]\n",
      "question:  I have a patient with WGS result showing mutaiton in KRT85 gene, and has Atrichia, Photophobia, and Sparse hair, which does he got?\n",
      "number of tokens:  35798\n"
     ]
    },
    {
     "name": "stderr",
     "output_type": "stream",
     "text": [
      " 66%|██████▌   | 72/109 [15:25<09:13, 14.97s/it]"
     ]
    },
    {
     "name": "stdout",
     "output_type": "stream",
     "text": [
      "len of before limit and question similarity:  [5, 5, 7, 5]\n",
      "question:  I am interested in genes implicated in visual disorders such as myopia that relate to retinoid processing\n",
      "number of tokens:  18551\n"
     ]
    },
    {
     "name": "stderr",
     "output_type": "stream",
     "text": [
      " 67%|██████▋   | 73/109 [15:38<08:34, 14.28s/it]"
     ]
    },
    {
     "name": "stdout",
     "output_type": "stream",
     "text": [
      "len of before limit and question similarity:  [5, 5, 7, 7, 5]\n",
      "question:  Which gene encodes the GIP-GnT complex and is present in temporal lobe and prefrontal cortex and associated with hyperphosphatasia?\n",
      "number of tokens:  26892\n"
     ]
    },
    {
     "name": "stderr",
     "output_type": "stream",
     "text": [
      " 68%|██████▊   | 74/109 [15:51<08:04, 13.84s/it]"
     ]
    },
    {
     "name": "stdout",
     "output_type": "stream",
     "text": [
      "len of before limit and question similarity:  [5, 5]\n",
      "question:  Acute Lymphocytic Leukemia is associated with what gene?\n",
      "number of tokens:  7780\n"
     ]
    },
    {
     "name": "stderr",
     "output_type": "stream",
     "text": [
      " 69%|██████▉   | 75/109 [15:56<06:25, 11.35s/it]"
     ]
    },
    {
     "name": "stdout",
     "output_type": "stream",
     "text": [
      "len of before limit and question similarity:  [7, 7, 5]\n",
      "question:  My breast cancer is expressing too much MAP3K1. What drug can I take to help?\n",
      "number of tokens:  11254\n"
     ]
    },
    {
     "name": "stderr",
     "output_type": "stream",
     "text": [
      " 70%|██████▉   | 76/109 [16:03<05:27,  9.93s/it]"
     ]
    },
    {
     "name": "stdout",
     "output_type": "stream",
     "text": [
      "len of before limit and question similarity:  [9, 7]\n",
      "question:  Amoxicillin is often used to treat what disease?\n",
      "number of tokens:  9498\n"
     ]
    },
    {
     "name": "stderr",
     "output_type": "stream",
     "text": [
      " 71%|███████   | 77/109 [16:09<04:39,  8.75s/it]"
     ]
    },
    {
     "name": "stdout",
     "output_type": "stream",
     "text": [
      "len of before limit and question similarity:  [5, 5, 7]\n",
      "question:  Are there any investigational drugs targeting the same gene fumagillin?\n",
      "number of tokens:  13821\n"
     ]
    },
    {
     "name": "stderr",
     "output_type": "stream",
     "text": [
      " 72%|███████▏  | 78/109 [16:19<04:48,  9.29s/it]"
     ]
    },
    {
     "name": "stdout",
     "output_type": "stream",
     "text": [
      "len of before limit and question similarity:  [5, 5]\n",
      "question:  What environmental factors might impact microrna 222?\n",
      "number of tokens:  5161\n"
     ]
    },
    {
     "name": "stderr",
     "output_type": "stream",
     "text": [
      " 72%|███████▏  | 79/109 [16:27<04:20,  8.70s/it]"
     ]
    },
    {
     "name": "stdout",
     "output_type": "stream",
     "text": [
      "len of before limit and question similarity:  [5, 7]\n",
      "question:  What are the challenges of treating a FLT3 mutation in Acute Myeloid Leukemia\n",
      "number of tokens:  8356\n"
     ]
    },
    {
     "name": "stderr",
     "output_type": "stream",
     "text": [
      " 73%|███████▎  | 80/109 [16:34<03:58,  8.22s/it]"
     ]
    },
    {
     "name": "stdout",
     "output_type": "stream",
     "text": [
      "len of before limit and question similarity:  [5, 5, 5]\n",
      "question:  What is a gene involved in transcription by RNA polymerase II\n",
      "number of tokens:  10534\n"
     ]
    },
    {
     "name": "stderr",
     "output_type": "stream",
     "text": [
      " 74%|███████▍  | 81/109 [16:43<03:55,  8.40s/it]"
     ]
    },
    {
     "name": "stdout",
     "output_type": "stream",
     "text": [
      "len of before limit and question similarity:  [5, 5, 7, 5, 5]\n",
      "question:  If a patient can't metabolize vitamins and cofactors, what's an example of a more specific pathway that might be interrupted?\n",
      "number of tokens:  35856\n"
     ]
    },
    {
     "name": "stderr",
     "output_type": "stream",
     "text": [
      " 75%|███████▌  | 82/109 [16:58<04:40, 10.40s/it]"
     ]
    },
    {
     "name": "stdout",
     "output_type": "stream",
     "text": [
      "len of before limit and question similarity:  [5, 5, 5, 9, 5]\n",
      "question:  Complex machine learning methods like alpha fold could help scientists study protein repair and which other pathways?\n",
      "number of tokens:  33151\n"
     ]
    },
    {
     "name": "stderr",
     "output_type": "stream",
     "text": [
      " 76%|███████▌  | 83/109 [17:11<04:52, 11.24s/it]"
     ]
    },
    {
     "name": "stdout",
     "output_type": "stream",
     "text": [
      "len of before limit and question similarity:  [5, 5, 7, 7, 5]\n",
      "question:  Which gene in chromosme 11 and is iinvolved in heart left ventricle, liver and is a pseudogene?\n",
      "number of tokens:  36229\n"
     ]
    },
    {
     "name": "stderr",
     "output_type": "stream",
     "text": [
      " 77%|███████▋  | 84/109 [17:38<06:40, 16.00s/it]"
     ]
    },
    {
     "name": "stdout",
     "output_type": "stream",
     "text": [
      "len of before limit and question similarity:  [7, 9, 5]\n",
      "question:  What complex of antibiotics is Lactulose and Warfarin both examples of?\n",
      "number of tokens:  10795\n"
     ]
    },
    {
     "name": "stderr",
     "output_type": "stream",
     "text": [
      " 78%|███████▊  | 85/109 [17:49<05:51, 14.65s/it]"
     ]
    },
    {
     "name": "stdout",
     "output_type": "stream",
     "text": [
      "len of before limit and question similarity:  [5, 5, 7, 5]\n",
      "question:  What is the name of the drug that both (1) has synergistic interaction with Tenoxicam, and (2) has molecular weight 120.36?\n",
      "number of tokens:  18470\n"
     ]
    },
    {
     "name": "stderr",
     "output_type": "stream",
     "text": [
      " 79%|███████▉  | 86/109 [17:59<04:59, 13.03s/it]"
     ]
    },
    {
     "name": "stdout",
     "output_type": "stream",
     "text": [
      "len of before limit and question similarity:  [5, 5, 5, 5, 5, 5, 5, 5, 5]\n",
      "question:  Which biological pathway, identified with a stable identifier \"R-HSA-8853333\" in REACTOME, specifically focuses on the signaling mechanisms of FGFR2 fusions associated with various types of cancers and includes events like dimerization and autophosphorylation of these fusions?\n",
      "number of tokens:  61132\n"
     ]
    },
    {
     "name": "stderr",
     "output_type": "stream",
     "text": [
      " 80%|███████▉  | 87/109 [18:20<05:40, 15.47s/it]"
     ]
    },
    {
     "name": "stdout",
     "output_type": "stream",
     "text": [
      "len of before limit and question similarity:  [5, 5, 5, 7]\n",
      "question:  What is a human pathway that involves defective translocation of RB1 mutants, is associated with cancer, and has been externally reviewed?\n",
      "number of tokens:  26050\n"
     ]
    },
    {
     "name": "stderr",
     "output_type": "stream",
     "text": [
      " 81%|████████  | 88/109 [18:29<04:47, 13.69s/it]"
     ]
    },
    {
     "name": "stdout",
     "output_type": "stream",
     "text": [
      "len of before limit and question similarity:  [7, 7, 7, 7]\n",
      "question:  What is a rare type of cancer that can develop in the small intestine, causing symptoms like abdominal pain and weight loss?\n",
      "number of tokens:  28130\n"
     ]
    },
    {
     "name": "stderr",
     "output_type": "stream",
     "text": [
      " 82%|████████▏ | 89/109 [18:42<04:26, 13.30s/it]"
     ]
    },
    {
     "name": "stdout",
     "output_type": "stream",
     "text": [
      "len of before limit and question similarity:  [5, 5, 5, 5, 5, 5]\n",
      "question:  What signaling pathway is abnormally activated by FLT3 ITD mutations in cancer cells, leading to increased expression of genes that promote cell survival and proliferation?\n",
      "number of tokens:  31076\n"
     ]
    },
    {
     "name": "stderr",
     "output_type": "stream",
     "text": [
      " 83%|████████▎ | 90/109 [18:57<04:24, 13.90s/it]"
     ]
    },
    {
     "name": "stdout",
     "output_type": "stream",
     "text": [
      "len of before limit and question similarity:  [5, 5, 9]\n",
      "question:  Which drug targets a protein that is associated with acute promyelocytic leukemia\n",
      "number of tokens:  18011\n"
     ]
    },
    {
     "name": "stderr",
     "output_type": "stream",
     "text": [
      " 83%|████████▎ | 91/109 [19:04<03:33, 11.84s/it]"
     ]
    },
    {
     "name": "stdout",
     "output_type": "stream",
     "text": [
      "len of before limit and question similarity:  [5, 5, 5, 5, 5, 9, 5, 5]\n",
      "question:  What is a group of rare genetic disorders characterized by a distinctive \"molar tooth sign\" on brain imaging, along with neurological symptoms like developmental delay, intellectual disability, and abnormal eye movements, sometimes accompanied by additional organ system abnormalities?\n",
      "number of tokens:  61397\n"
     ]
    },
    {
     "name": "stderr",
     "output_type": "stream",
     "text": [
      " 84%|████████▍ | 92/109 [19:27<04:19, 15.26s/it]"
     ]
    },
    {
     "name": "stdout",
     "output_type": "stream",
     "text": [
      "len of before limit and question similarity:  [5, 5, 5, 5, 5, 7, 7]\n",
      "question:  What is the signaling pathway that regulates the development of the testes in the male embryo, and interacts with both protein WT1 and GATA4?\n",
      "number of tokens:  51659\n"
     ]
    },
    {
     "name": "stderr",
     "output_type": "stream",
     "text": [
      " 85%|████████▌ | 93/109 [19:45<04:16, 16.01s/it]"
     ]
    },
    {
     "name": "stdout",
     "output_type": "stream",
     "text": [
      "len of before limit and question similarity:  [5, 5, 7, 7]\n",
      "question:  What is the name of the gene whose expression is related to intestine, but is not CHD7?\n",
      "number of tokens:  17447\n"
     ]
    },
    {
     "name": "stderr",
     "output_type": "stream",
     "text": [
      " 86%|████████▌ | 94/109 [19:57<03:41, 14.74s/it]"
     ]
    },
    {
     "name": "stdout",
     "output_type": "stream",
     "text": [
      "len of before limit and question similarity:  [5, 7, 7, 7, 7]\n",
      "question:  Which biological process interacts with GCNT2, STK39, FOXC1 and CHMP4B?\n",
      "number of tokens:  24645\n"
     ]
    },
    {
     "name": "stderr",
     "output_type": "stream",
     "text": [
      " 87%|████████▋ | 95/109 [20:10<03:19, 14.24s/it]"
     ]
    },
    {
     "name": "stdout",
     "output_type": "stream",
     "text": [
      "len of before limit and question similarity:  [5, 7, 5, 5, 5, 7]\n",
      "question:  What is an investigational small molecule drug that aims to treat multiple sclerosis by blocking the interaction between VCAM-1 and alpha4-integrins to prevent immune cell migration into the central nervous system?\n",
      "number of tokens:  34374\n"
     ]
    },
    {
     "name": "stderr",
     "output_type": "stream",
     "text": [
      " 88%|████████▊ | 96/109 [20:24<03:05, 14.28s/it]"
     ]
    },
    {
     "name": "stdout",
     "output_type": "stream",
     "text": [
      "len of before limit and question similarity:  [5, 5, 5, 5, 5, 5]\n",
      "question:  What is a gene that hosts a cluster of at least six microRNAs involved in processes like cell survival and proliferation, and is often amplified in some cancers?\n",
      "number of tokens:  30981\n"
     ]
    },
    {
     "name": "stderr",
     "output_type": "stream",
     "text": [
      " 89%|████████▉ | 97/109 [20:44<03:08, 15.74s/it]"
     ]
    },
    {
     "name": "stdout",
     "output_type": "stream",
     "text": [
      "len of before limit and question similarity:  [5, 7, 5, 7, 5, 5, 5, 5, 5, 5, 5, 7, 7, 5]\n",
      "question:  What signaling pathway is triggered when the innate immune system detects viral RNA in the cytoplasm, leading to the activation of transcription factor IRF7 by the TRAF6 protein complex to induce the production of type I interferons? This pathway helps defend against RNA viruses like influenza, measles, and hepatitis C.\n",
      "number of tokens:  61602\n"
     ]
    },
    {
     "name": "stderr",
     "output_type": "stream",
     "text": [
      " 90%|████████▉ | 98/109 [21:20<04:02, 22.03s/it]"
     ]
    },
    {
     "name": "stdout",
     "output_type": "stream",
     "text": [
      "len of before limit and question similarity:  [5, 5, 5, 5, 5]\n",
      "question:  What are the initial steps in the assembly of the RNA polymerase II preinitiation complex at a gene promoter? This involves the sequential binding of general transcription factors and ultimately enables transcription to begin.\n",
      "number of tokens:  24220\n"
     ]
    },
    {
     "name": "stderr",
     "output_type": "stream",
     "text": [
      " 91%|█████████ | 99/109 [21:40<03:33, 21.30s/it]"
     ]
    },
    {
     "name": "stdout",
     "output_type": "stream",
     "text": [
      "len of before limit and question similarity:  [7, 5, 5, 5]\n",
      "question:  Which disease relates to the Neoplasm of the inner ear phenotype?\n",
      "number of tokens:  26453\n"
     ]
    },
    {
     "name": "stderr",
     "output_type": "stream",
     "text": [
      " 92%|█████████▏| 100/109 [21:53<02:49, 18.86s/it]"
     ]
    },
    {
     "name": "stdout",
     "output_type": "stream",
     "text": [
      "len of before limit and question similarity:  [5, 7, 5, 5, 5, 5, 5, 5, 5, 5, 5]\n",
      "question:  Let's study the genetics of limb development and wonder how mutations in certain genes can lead to limb abnormalities. What is an example of a gene belonging to the homeobox family of transcription factors that, when deleted along with other nearby HOXD genes, is associated with severe limb defects?\n",
      "number of tokens:  61512\n"
     ]
    },
    {
     "name": "stderr",
     "output_type": "stream",
     "text": [
      " 93%|█████████▎| 101/109 [22:32<03:20, 25.02s/it]"
     ]
    },
    {
     "name": "stdout",
     "output_type": "stream",
     "text": [
      "len of before limit and question similarity:  [5, 5, 5, 5, 5, 5, 5, 5, 5, 5, 5, 5, 5, 5]\n",
      "question:  I am wondering how connective tissues like skin, bone and tendons get their strength and structure. What biochemical pathway involves the synthesis of collagen and its modification by enzymes like hydroxylases to enable the formation of strong collagen fibrils?\n",
      "number of tokens:  61032\n"
     ]
    },
    {
     "name": "stderr",
     "output_type": "stream",
     "text": [
      " 94%|█████████▎| 102/109 [23:06<03:13, 27.58s/it]"
     ]
    },
    {
     "name": "stdout",
     "output_type": "stream",
     "text": [
      "len of before limit and question similarity:  [5, 5, 5, 5, 5, 5, 5]\n",
      "question:  Imagine you're a detective trying to diagnose a very rare genetic disorder based on a unique combination of symptoms. What syndrome is characterized by the triad of Klippel-Feil anomaly (cervical vertebral fusion), Duane syndrome (bilateral abducens nerve palsy with eye retraction), and congenital deafness?\n",
      "number of tokens:  6284\n"
     ]
    },
    {
     "name": "stderr",
     "output_type": "stream",
     "text": [
      " 94%|█████████▍| 103/109 [23:21<02:22, 23.75s/it]"
     ]
    },
    {
     "name": "stdout",
     "output_type": "stream",
     "text": [
      "len of before limit and question similarity:  [5, 5, 5, 5, 5, 7]\n",
      "question:  Imagine you're a pharmacologist on a quest to find an experimental drug to treat high blood pressure. What is an investigational adrenergic alpha-1 receptor antagonist that has been studied for the treatment of hypertension?\n",
      "number of tokens:  22124\n"
     ]
    },
    {
     "name": "stderr",
     "output_type": "stream",
     "text": [
      " 95%|█████████▌| 104/109 [23:32<01:40, 20.13s/it]"
     ]
    },
    {
     "name": "stdout",
     "output_type": "stream",
     "text": [
      "len of before limit and question similarity:  [5, 7, 5, 5, 5, 5]\n",
      "question:  What's the name of the cellular pathway that takes place in the nucleolus, where RNA polymerase I transcribes ribosomal DNA into the 45S precursor RNA that's processed into mature ribosomal RNAs?\n",
      "number of tokens:  42547\n"
     ]
    },
    {
     "name": "stderr",
     "output_type": "stream",
     "text": [
      " 96%|█████████▋| 105/109 [23:48<01:15, 18.77s/it]"
     ]
    },
    {
     "name": "stdout",
     "output_type": "stream",
     "text": [
      "len of before limit and question similarity:  [5, 5, 5, 7, 7, 7, 5, 7, 5, 5, 7, 5, 5, 9]\n",
      "question:  What cellular pathway involves the repression of E2F target genes like Cyclin A, CDK1, and E2F1 by RBL1 (p107) and RBL2 (p130) in complex with the histone deacetylase HDAC1 during G0 and early G1 phases of the cell cycle?\n",
      "number of tokens:  61705\n"
     ]
    },
    {
     "name": "stderr",
     "output_type": "stream",
     "text": [
      " 97%|█████████▋| 106/109 [24:19<01:07, 22.44s/it]"
     ]
    },
    {
     "name": "stdout",
     "output_type": "stream",
     "text": [
      "len of before limit and question similarity:  [5, 5, 5, 5, 5, 5, 5, 5, 5]\n",
      "question:  Help me. I am trying to diagnose a patient with persistent joint pain, and I suspect a condition where the bone is dying due to compromised blood supply, often linked to factors like steroid use, alcohol abuse, or underlying diseases - what's the name of this sneaky bone-killing culprit?\n",
      "number of tokens:  61371\n"
     ]
    },
    {
     "name": "stderr",
     "output_type": "stream",
     "text": [
      " 98%|█████████▊| 107/109 [24:42<00:45, 22.68s/it]"
     ]
    },
    {
     "name": "stdout",
     "output_type": "stream",
     "text": [
      "len of before limit and question similarity:  [5, 5]\n",
      "question:  Which drug targets PDEIVB?\n",
      "number of tokens:  5025\n"
     ]
    },
    {
     "name": "stderr",
     "output_type": "stream",
     "text": [
      " 99%|█████████▉| 108/109 [24:48<00:17, 17.48s/it]"
     ]
    },
    {
     "name": "stdout",
     "output_type": "stream",
     "text": [
      "len of before limit and question similarity:  [5, 5, 7, 5, 5, 5, 5, 9, 9, 9, 5]\n",
      "question:  What host defense pathway involves proteins like S100A7, S100A8/A9, lactoferrin, and lipocalin-2 sequestering metal ions such as zinc, manganese, and iron to limit their availability to invading microbes?\n",
      "number of tokens:  61494\n"
     ]
    },
    {
     "name": "stderr",
     "output_type": "stream",
     "text": [
      "100%|██████████| 109/109 [25:15<00:00, 13.90s/it]\n"
     ]
    }
   ],
   "source": [
    "more_results = collect_responses(qa_dataset, graph_rag)\n"
   ]
  },
  {
   "cell_type": "code",
   "execution_count": 7,
   "metadata": {},
   "outputs": [],
   "source": [
    "# # for item in np.arange(4):\n",
    "# #     more_results = collect_responses(qa_dataset, graph_rag, dict_=more_results)"
   ]
  },
  {
   "cell_type": "code",
   "execution_count": 8,
   "metadata": {},
   "outputs": [],
   "source": [
    "# results_dict = load_dict_from_file(data_path + name_dict)\n",
    "# more_results = collect_responses(qa_dataset, graph_rag, dict_=results_dict)"
   ]
  },
  {
   "cell_type": "code",
   "execution_count": 9,
   "metadata": {},
   "outputs": [
    {
     "name": "stdout",
     "output_type": "stream",
     "text": [
      "Dictionary saved to ../data/results/07_08_SP_SIM_entity_finder_exact_match_more_sim_60k.json\n"
     ]
    }
   ],
   "source": [
    "save_dict_to_file(more_results, data_path + name_dict)"
   ]
  },
  {
   "cell_type": "code",
   "execution_count": null,
   "metadata": {},
   "outputs": [],
   "source": []
  }
 ],
 "metadata": {
  "kernelspec": {
   "display_name": "stark-qa",
   "language": "python",
   "name": "python3"
  },
  "language_info": {
   "codemirror_mode": {
    "name": "ipython",
    "version": 3
   },
   "file_extension": ".py",
   "mimetype": "text/x-python",
   "name": "python",
   "nbconvert_exporter": "python",
   "pygments_lexer": "ipython3",
   "version": "3.11.9"
  }
 },
 "nbformat": 4,
 "nbformat_minor": 2
}
