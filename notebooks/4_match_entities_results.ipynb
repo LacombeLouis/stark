{
 "cells": [
  {
   "cell_type": "code",
   "execution_count": 1,
   "metadata": {},
   "outputs": [
    {
     "name": "stderr",
     "output_type": "stream",
     "text": [
      "/Users/louislacombe/miniconda3/envs/stark-qa/lib/python3.11/site-packages/tqdm/auto.py:21: TqdmWarning: IProgress not found. Please update jupyter and ipywidgets. See https://ipywidgets.readthedocs.io/en/stable/user_install.html\n",
      "  from .autonotebook import tqdm as notebook_tqdm\n"
     ]
    },
    {
     "name": "stdout",
     "output_type": "stream",
     "text": [
      "Loading from /Users/louislacombe/CODE/quantmetry/stark/prime/processed!\n"
     ]
    }
   ],
   "source": [
    "from tqdm import tqdm\n",
    "\n",
    "import numpy as np\n",
    "import os\n",
    "\n",
    "\n",
    "from utils_neo4j import Neo4jApp\n",
    "from utils_evaluation import collect_matching_entities\n",
    "from utils import save_dict_to_file, load_dict_from_file\n",
    "\n",
    "from dotenv import load_dotenv\n",
    "\n",
    "load_dotenv()\n",
    "\n",
    "dataset_name = os.getenv(\"dataset_name\")\n",
    "data_path = os.getenv(\"data_path\")\n",
    "\n",
    "# Load params for Graph\n",
    "scheme = os.getenv(\"scheme\")\n",
    "host_name = os.getenv(\"host_name\")\n",
    "port = os.getenv(\"port\")\n",
    "user = os.getenv(\"user\")\n",
    "password = os.getenv(\"password\")\n",
    "database = os.getenv(\"database\")\n"
   ]
  },
  {
   "cell_type": "code",
   "execution_count": 2,
   "metadata": {},
   "outputs": [],
   "source": [
    "uri = f\"{scheme}://{host_name}:{port}\"\n",
    "graph = Neo4jApp(uri, user, password, database)\n",
    "graph.verify_connection()"
   ]
  },
  {
   "cell_type": "code",
   "execution_count": 3,
   "metadata": {},
   "outputs": [],
   "source": [
    "name_dict = \"07_08_SP_SIM_entity_finder_exact_match_more_sim_60k.json\""
   ]
  },
  {
   "cell_type": "code",
   "execution_count": 4,
   "metadata": {},
   "outputs": [
    {
     "name": "stdout",
     "output_type": "stream",
     "text": [
      "Dictionary loaded from ../data/results/07_08_SP_SIM_entity_finder_exact_match_more_sim_60k.json\n"
     ]
    }
   ],
   "source": [
    "results_dict = load_dict_from_file(data_path + name_dict)"
   ]
  },
  {
   "cell_type": "code",
   "execution_count": 5,
   "metadata": {},
   "outputs": [
    {
     "name": "stderr",
     "output_type": "stream",
     "text": [
      "100%|██████████| 109/109 [07:40<00:00,  4.23s/it]\n"
     ]
    }
   ],
   "source": [
    "more_results = collect_matching_entities(results_dict, graph)"
   ]
  },
  {
   "cell_type": "code",
   "execution_count": 6,
   "metadata": {},
   "outputs": [
    {
     "name": "stdout",
     "output_type": "stream",
     "text": [
      "Dictionary saved to ../data/results/07_08_SP_SIM_entity_finder_exact_match_more_sim_60k.json\n"
     ]
    }
   ],
   "source": [
    "save_dict_to_file(more_results, data_path + name_dict)"
   ]
  },
  {
   "cell_type": "code",
   "execution_count": null,
   "metadata": {},
   "outputs": [],
   "source": []
  }
 ],
 "metadata": {
  "kernelspec": {
   "display_name": "stark-qa",
   "language": "python",
   "name": "python3"
  },
  "language_info": {
   "codemirror_mode": {
    "name": "ipython",
    "version": 3
   },
   "file_extension": ".py",
   "mimetype": "text/x-python",
   "name": "python",
   "nbconvert_exporter": "python",
   "pygments_lexer": "ipython3",
   "version": "3.11.9"
  }
 },
 "nbformat": 4,
 "nbformat_minor": 2
}
