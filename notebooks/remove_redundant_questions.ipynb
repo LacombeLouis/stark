{
 "cells": [
  {
   "cell_type": "code",
   "execution_count": 1,
   "metadata": {},
   "outputs": [
    {
     "name": "stderr",
     "output_type": "stream",
     "text": [
      "/Users/louislacombe/miniconda3/envs/stark-qa/lib/python3.12/site-packages/tqdm/auto.py:21: TqdmWarning: IProgress not found. Please update jupyter and ipywidgets. See https://ipywidgets.readthedocs.io/en/stable/user_install.html\n",
      "  from .autonotebook import tqdm as notebook_tqdm\n"
     ]
    }
   ],
   "source": [
    "from stark_qa import load_qa, load_skb\n",
    "from stark_qa.tools.process_text import normalize_answer"
   ]
  },
  {
   "cell_type": "code",
   "execution_count": 2,
   "metadata": {},
   "outputs": [
    {
     "name": "stdout",
     "output_type": "stream",
     "text": [
      "Use file from /Users/louislacombe/.cache/huggingface/hub/datasets--snap-stanford--stark/snapshots/7b0352c7dcefbf254478c203bcfdf284a08866ac/qa/prime/stark_qa/stark_qa_human_generated_eval.csv.\n",
      "Loading from /Users/louislacombe/CODE/quantmetry/stark/prime/processed!\n"
     ]
    }
   ],
   "source": [
    "dataset_name = 'prime'\n",
    "\n",
    "# Load the retrieval dataset\n",
    "qa_dataset = load_qa(dataset_name, human_generated_eval=True)\n",
    "idx_split = qa_dataset.get_idx_split()\n",
    "\n",
    "# Load the semi-structured knowledge base\n",
    "skb = load_skb(dataset_name, download_processed=False, root='.')"
   ]
  },
  {
   "cell_type": "code",
   "execution_count": 3,
   "metadata": {},
   "outputs": [],
   "source": [
    "def check_word_in_text(word, text):\n",
    "    return word in text\n",
    "\n",
    "def check_similarity_question_answer(question, list_answers, show=False):\n",
    "    question_ = normalize_answer(question)\n",
    "    for answer in list_answers:\n",
    "        answer_ = normalize_answer(answer)\n",
    "        if check_word_in_text(answer_, question_):\n",
    "            if show:\n",
    "                print('Answer:', answer)\n",
    "                print('Question:', question)\n",
    "                print(\"-\"*10)\n",
    "            return True\n",
    "    return False\n",
    "\n",
    "\n",
    "def check_questions(qa_dataset, max_number_answers=5, show=False):\n",
    "    exclude_questions = []\n",
    "    for item in qa_dataset:\n",
    "        question_ = item[0]\n",
    "        list_answer_ = item[2]\n",
    "\n",
    "        list_answer_names_ = []\n",
    "        for answer_ in list_answer_:\n",
    "            list_answer_names_.append(skb.__getitem__(int(answer_)).name)\n",
    "\n",
    "        if len(list_answer_) > max_number_answers:\n",
    "            exclude_questions.append(item[1])\n",
    "            if show:\n",
    "                print('Too many answers:', list_answer_names_)\n",
    "                print('Question:', question_)\n",
    "                print(\"-\"*10)\n",
    "\n",
    "        # Check if one of the answers is in the questions using regex\n",
    "        if check_similarity_question_answer(question_, list_answer_names_, show=show):\n",
    "            exclude_questions.append(item[1])\n",
    "\n",
    "    exclude_questions = list(set(exclude_questions))\n",
    "    if show:\n",
    "        print('Number of questions to exclude:', len(exclude_questions))\n",
    "\n",
    "    qa_dataset_filtered = []\n",
    "    for item in qa_dataset:\n",
    "        if item[1] not in exclude_questions:\n",
    "            qa_dataset_filtered.append(item)\n",
    "    return qa_dataset_filtered\n",
    "\n"
   ]
  },
  {
   "cell_type": "code",
   "execution_count": 4,
   "metadata": {},
   "outputs": [
    {
     "name": "stdout",
     "output_type": "stream",
     "text": [
      "Answer: mixed mucinous and nonmucinous bronchioloalveolar adenocarcinoma\n",
      "Question: mixed mucinous and nonmucinous bronchioloalveolar adenocarcinoma is a subtype of what disease?\n",
      "----------\n",
      "Too many answers: ['(1H-indol-3-yl)-(2-mercapto-ethoxyimino)-acetic acid', 'AICA ribonucleotide', 'Triptolide', 'Teriflunomide', 'R-348', 'Acteoside', 'Roquinimex']\n",
      "Question: What drug with ~300 Da weight that stimulates the immune system has synergy with a few different acids?\n",
      "----------\n",
      "Too many answers: ['scyllo-inositol', 'D-glucitol 6-phosphate', 'Human blood group H type 1 trisaccharide', 'Sucrose', '1-3 Sugar Ring of Pentamannosyl 6-Phosphate', 'Acarbose Derived Hexasaccharide']\n",
      "Question: What variant of sugar (yum!) hits a protein involved in carbohydrate binding?\n",
      "----------\n",
      "Too many answers: ['bestiality', 'pedophilia', 'exhibitionism', 'psychosexual disorder', 'fetishism', 'voyeurism']\n",
      "Question: What type of disease is a paraphilic disorder?\n",
      "----------\n",
      "Too many answers: ['migraine with aura', 'traumatic glaucoma', 'stroke, susceptibility to, 1', 'sporadic hemiplegic migraine', 'familial or sporadic hemiplegic migraine', 'sphenoorbital meningioma', 'migraine with brainstem aura', 'sphenocavernous meningioma', 'anterior optic tract meningioma', 'optic tract meningioma', 'persistent combined dystonia', 'Leber optic atrophy and dystonia', 'simple partial epilepsy', 'anterior spinal artery stroke', 'suprasellar meningioma', 'parapharyngeal meningioma', 'large artery stroke']\n",
      "Question: My dad said his head hurts and his muscles have been feeling really weak. He also told me he saw stars yesterday. What might be wrong with him?\n",
      "----------\n",
      "Too many answers: ['epulis', 'necrotizing ulcerative gingivitis', 'pericoronitis', 'herpes simplex virus gingivostomatitis', 'acute pericementitis', 'periapical periodontitis', 'Ehlers-Danlos syndrome, periodontitis type', 'periodontitis', 'gingival disease', 'chronic gingivitis', 'pyogenic granuloma', 'gingival hypertrophy', 'suppurative periapical periodontitis', 'stomatitis', 'apical periodontitis', 'periodontitis, aggressive', 'periodontitis, chronic, adult', 'gingival cancer', 'susceptibility to localized juvenile periodontitis', 'periodontal disease', 'gingivitis']\n",
      "Question: I have inflammation in my gums, and it turns sollwne and puffy. Which disease could potentially be the issue?\n",
      "----------\n",
      "Answer: MTND5P11\n",
      "Question: Is MTND5P11 expressed in any part of the brain?\n",
      "----------\n",
      "Answer: 2,3',4,4',5-pentachlorobiphenyl\n",
      "Question: What diseases is exposure to 2,3',4,4',5-pentachlorobiphenyl associated with?\n",
      "----------\n",
      "Answer: HIF3A\n",
      "Question: The protein encoded by HIF3A is associated with negative regulation of what?\n",
      "----------\n",
      "Too many answers: ['mitochondrial disease with hypertrophic cardiomyopathy', 'neonatal encephalomyopathy-cardiomyopathy-respiratory distress syndrome', 'restrictive cardiomyopathy', 'lysosomal disease with hypertrophic cardiomyopathy', 'hepatic encephalopathy', 'cardiovascular disease', 'heart disease', 'Leigh syndrome with cardiomyopathy', 'syndrome associated with dilated cardiomyopathy']\n",
      "Question: My doctor told me that I have a disease whose cause is unknown but that can lead to heart failure. She also told me that I have unusual brain lactate levels, whatever that means. Can you guess what I'm sick with?\n",
      "----------\n",
      "Too many answers: ['rhinoscleroma', 'bacterial pneumonia', 'staphylococcus aureus pneumonia', 'Klebsiella pneumonia', 'streptococcal infection', 'infectious otitis media', 'pharyngitis', 'staphylococcal infection']\n",
      "Question: Amoxicillin is often used to treat what disease?\n",
      "----------\n",
      "Too many answers: ['tandutinib-resistant FLT3 mutants', 'linifanib-resistant FLT3 mutants', 'FLT3 signaling by CBL mutants', 'KW2449-resistant FLT3 mutants', 'crenolanib-resistant FLT3 mutants', 'gilteritinib-resistant FLT3 mutants', 'lestaurtinib-resistant FLT3 mutants', 'pexidartinib-resistant FLT3 mutants', 'ponatinib-resistant FLT3 mutants', 'quizartinib-resistant FLT3 mutants', 'sorafenib-resistant FLT3 mutants']\n",
      "Question: What are the challenges of treating a FLT3 mutation in Acute Myeloid Leukemia\n",
      "----------\n",
      "Answer: Protein repair\n",
      "Question: Complex machine learning methods like alpha fold could help scientists study protein repair and which other pathways?\n",
      "----------\n",
      "Too many answers: ['small intestine neuroendocrine neoplasm', 'small intestinal fibrosarcoma', 'small intestinal sarcoma', 'mesenchymal tumor of small intestine', 'somatostatinoma', 'small intestine adenocarcinoma', 'hereditary neuroendocrine tumor of small intestine', 'jejunal cancer', 'small intestine carcinoma', 'ileum cancer', 'small intestine leiomyosarcoma', 'squamous cell carcinoma of the small intestine', 'small intestine lymphoma', 'enteropathy-associated T-cell lymphoma', 'small intestinal diffuse large B-cell lymphoma', 'intestinal cancer', 'small intestinal enteropathy-associated T-cell lymphoma', 'duodenum cancer', 'small intestine cancer']\n",
      "Question: What is a rare type of cancer that can develop in the small intestine, causing symptoms like abdominal pain and weight loss?\n",
      "----------\n",
      "Too many answers: ['Nebivolol', 'Doxazosin', 'Betaxolol', 'Prazosin', 'Terazosin', 'Endralazine', 'Bunazosin', 'Moxonidine', 'Rilmenidine', 'Hydralazine', 'Trimazosin', 'Guanadrel', 'Labetalol', 'Guanethidine']\n",
      "Question: Imagine you're a pharmacologist on a quest to find an experimental drug to treat high blood pressure. What is an investigational adrenergic alpha-1 receptor antagonist that has been studied for the treatment of hypertension?\n",
      "----------\n",
      "Too many answers: ['primary avascular', 'familial avascular necrosis of femoral head', 'osteomyelitis (disease)', 'avascular necrosis', 'idiopathic avascular necrosis', 'avascular necrosis of femoral head, primary', 'osteonecrosis']\n",
      "Question: Help me. I am trying to diagnose a patient with persistent joint pain, and I suspect a condition where the bone is dying due to compromised blood supply, often linked to factors like steroid use, alcohol abuse, or underlying diseases - what's the name of this sneaky bone-killing culprit?\n",
      "----------\n",
      "Number of questions to exclude: 16\n"
     ]
    }
   ],
   "source": [
    "filtered_questions = check_questions(qa_dataset, show=True)"
   ]
  },
  {
   "cell_type": "code",
   "execution_count": null,
   "metadata": {},
   "outputs": [],
   "source": []
  }
 ],
 "metadata": {
  "kernelspec": {
   "display_name": "env-ibkh",
   "language": "python",
   "name": "python3"
  },
  "language_info": {
   "codemirror_mode": {
    "name": "ipython",
    "version": 3
   },
   "file_extension": ".py",
   "mimetype": "text/x-python",
   "name": "python",
   "nbconvert_exporter": "python",
   "pygments_lexer": "ipython3",
   "version": "3.12.4"
  }
 },
 "nbformat": 4,
 "nbformat_minor": 2
}
