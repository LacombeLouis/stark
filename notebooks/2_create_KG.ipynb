{
 "cells": [
  {
   "cell_type": "code",
   "execution_count": 2,
   "metadata": {},
   "outputs": [],
   "source": [
    "from utils_neo4j import Neo4jApp\n",
    "\n",
    "from dotenv import load_dotenv\n",
    "import os\n",
    "\n",
    "load_dotenv()\n",
    "\n",
    "# Load params for Graph\n",
    "scheme = os.getenv(\"scheme\")\n",
    "host_name = os.getenv(\"host_name\")\n",
    "port = os.getenv(\"port\")\n",
    "user = os.getenv(\"user\")\n",
    "password = os.getenv(\"password\")\n",
    "database = os.getenv(\"database\")"
   ]
  },
  {
   "cell_type": "markdown",
   "metadata": {},
   "source": [
    "TO DO:\n",
    "\n",
    "- Create a database on the desktop Neo4j app\n",
    "- Fill in all the correct information according to the setup made on the desktop Neo4j app\n",
    "- Install plugins:\n",
    "  - APOC\n",
    "\n",
    "\n",
    "\n",
    "- Update the neo4j conf settings appropriately:\n",
    "  - `dbms.memory.heap.initial_size=2048m`\n",
    "  - `dbms.memory.heap.max_size=4G`\n",
    "  - `dbms.memory.pagecache.size=2048m`\n"
   ]
  },
  {
   "cell_type": "code",
   "execution_count": 3,
   "metadata": {},
   "outputs": [],
   "source": [
    "uri = f\"{scheme}://{host_name}:{port}\"\n",
    "app = Neo4jApp(uri, user, password, database)\n",
    "app.verify_connection()"
   ]
  },
  {
   "cell_type": "markdown",
   "metadata": {},
   "source": [
    "You need to do the following:\n",
    "\n",
    "- Import all the files you'll want to use to the import location on the desktop Neo4j app"
   ]
  },
  {
   "cell_type": "markdown",
   "metadata": {},
   "source": [
    "# Create constraints"
   ]
  },
  {
   "cell_type": "code",
   "execution_count": null,
   "metadata": {},
   "outputs": [],
   "source": [
    "query_constraint_node_id = \"\"\"\n",
    "CREATE CONSTRAINT id_unique IF NOT EXISTS FOR (x:Entity) REQUIRE x.id IS UNIQUE\n",
    "\"\"\"\n",
    "\n",
    "app.query(query_constraint_node_id)\n",
    "\n",
    "\n",
    "app.query(\"SHOW CONSTRAINTS\")"
   ]
  },
  {
   "cell_type": "markdown",
   "metadata": {},
   "source": [
    "# Load nodes"
   ]
  },
  {
   "cell_type": "code",
   "execution_count": null,
   "metadata": {},
   "outputs": [],
   "source": [
    "query_load_nodes_with_embeddings_i_template = \"\"\"\n",
    "CALL apoc.periodic.iterate(\n",
    "  'LOAD CSV WITH HEADERS FROM \"file:///kg_nodes_{i}.csv\" AS row RETURN row',\n",
    "  'MERGE (e:Entity {{id: row.ID}})\n",
    "   SET e.type = row.type,\n",
    "       e.name = row.name,\n",
    "       e.source = row.source,\n",
    "       e.embedding = apoc.convert.fromJsonList(row.embedding)', // Use apoc.convert.fromJsonList if embeddings are JSON arrays\n",
    "  {{batchSize: 1000, iterateList: true, parallel: true}}\n",
    ");\n",
    "\"\"\"\n",
    "\n",
    "\n",
    "for i in range(0, 10):\n",
    "    query_load_relations_i = query_load_nodes_with_embeddings_i_template.format(i=i)\n",
    "    app.query(query=query_load_relations_i)\n",
    "    print(\"done with\", i)"
   ]
  },
  {
   "cell_type": "code",
   "execution_count": null,
   "metadata": {},
   "outputs": [],
   "source": [
    "len_emb = 1536\n",
    "similarity_function = \"cosine\"\n",
    "\n",
    "vector_index_embedding = \"\"\"\n",
    "CREATE VECTOR INDEX entityEmbeddings IF NOT EXISTS\n",
    "FOR (e:Entity)\n",
    "ON e.embedding\n",
    "OPTIONS {{\n",
    "    indexConfig: {{\n",
    "        `vector.dimensions`: {len_emb},\n",
    "        `vector.similarity_function`: '{similarity_function}'\n",
    "    }}\n",
    "}}\n",
    "\"\"\"\n",
    "\n",
    "vector_index_embedding = vector_index_embedding.format(len_emb=len_emb, similarity_function=similarity_function)\n",
    "\n",
    "app.query(vector_index_embedding)"
   ]
  },
  {
   "cell_type": "markdown",
   "metadata": {},
   "source": [
    "# Load index (if needed)"
   ]
  },
  {
   "cell_type": "code",
   "execution_count": 10,
   "metadata": {},
   "outputs": [],
   "source": [
    "# query_index_nodes = \"\"\"\n",
    "# CREATE INDEX FOR (e:Entity) ON (e.id);\n",
    "# \"\"\"\n",
    "\n",
    "# app.query(query=query_index_nodes)"
   ]
  },
  {
   "cell_type": "markdown",
   "metadata": {},
   "source": [
    "# Load relations"
   ]
  },
  {
   "cell_type": "code",
   "execution_count": null,
   "metadata": {},
   "outputs": [],
   "source": [
    "query_match_relations_i_template_using_apoc = \"\"\"\n",
    "CALL apoc.periodic.iterate(\n",
    "  'LOAD CSV WITH HEADERS FROM \"file:///kg_relations_{i}.csv\" AS row RETURN row',\n",
    "  'MATCH (e1:Entity {{id: row.x_index}})\n",
    "   MATCH (e2:Entity {{id: row.y_index}})\n",
    "   CALL apoc.create.relationship(e1, row.display_relation, {{e2e: [row.relation]}}, e2)\n",
    "   YIELD rel\n",
    "   RETURN count(*)',\n",
    "  {{batchSize:1000, iterateList:true}}\n",
    ")\n",
    "\"\"\"\n",
    "\n",
    "for i in range(0, 10):\n",
    "    query_load_relations_i = query_match_relations_i_template_using_apoc.format(i=i)\n",
    "    app.query(query=query_load_relations_i)\n",
    "    print(\"done with\", i)"
   ]
  },
  {
   "cell_type": "code",
   "execution_count": null,
   "metadata": {},
   "outputs": [],
   "source": [
    "print(\"Done\")"
   ]
  },
  {
   "cell_type": "markdown",
   "metadata": {},
   "source": [
    "# Create FULLTEXT index"
   ]
  },
  {
   "cell_type": "code",
   "execution_count": null,
   "metadata": {},
   "outputs": [],
   "source": [
    "query_fulltext_index = \"\"\"\n",
    "CREATE FULLTEXT INDEX entityAndType FOR (e:Entity) ON EACH [e.name, e.type]\n",
    "\"\"\"\n",
    "\n",
    "app.query(query_fulltext_index)"
   ]
  },
  {
   "cell_type": "markdown",
   "metadata": {},
   "source": [
    "# Remove nodes (if needed)"
   ]
  },
  {
   "cell_type": "code",
   "execution_count": null,
   "metadata": {},
   "outputs": [],
   "source": [
    "query_remove_all = \"\"\"\n",
    "MATCH (n)\n",
    "DETACH DELETE n\n",
    "\"\"\"\n",
    "\n",
    "query_remove_all_in_iterations = \"\"\"\n",
    "//Delete all in iterations\n",
    "CALL apoc.periodic.iterate(\n",
    "  \"MATCH (n) RETURN n\",\n",
    "  \"DETACH DELETE n\",\n",
    "  {batchSize: 1000, parallel: false}\n",
    ")\n",
    "YIELD batches, total, errorMessages\n",
    "RETURN batches, total, errorMessages;\n",
    "\"\"\""
   ]
  },
  {
   "cell_type": "code",
   "execution_count": null,
   "metadata": {},
   "outputs": [],
   "source": [
    "app.query(query_remove_all_in_iterations)"
   ]
  },
  {
   "cell_type": "code",
   "execution_count": null,
   "metadata": {},
   "outputs": [],
   "source": [
    "app.query(query_remove_all)"
   ]
  }
 ],
 "metadata": {
  "kernelspec": {
   "display_name": "stark-qa",
   "language": "python",
   "name": "python3"
  },
  "language_info": {
   "codemirror_mode": {
    "name": "ipython",
    "version": 3
   },
   "file_extension": ".py",
   "mimetype": "text/x-python",
   "name": "python",
   "nbconvert_exporter": "python",
   "pygments_lexer": "ipython3",
   "version": "3.11.9"
  }
 },
 "nbformat": 4,
 "nbformat_minor": 2
}
