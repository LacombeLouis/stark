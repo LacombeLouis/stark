{
 "cells": [
  {
   "cell_type": "code",
   "execution_count": 2,
   "metadata": {},
   "outputs": [],
   "source": [
    "from utils_neo4j import Neo4jApp\n",
    "\n",
    "from dotenv import load_dotenv\n",
    "import os\n",
    "\n",
    "load_dotenv()\n",
    "\n",
    "# Load params for Graph\n",
    "scheme = os.getenv(\"scheme\")\n",
    "host_name = os.getenv(\"host_name\")\n",
    "port = os.getenv(\"port\")\n",
    "user = os.getenv(\"user\")\n",
    "password = os.getenv(\"password\")\n",
    "database = os.getenv(\"database\")"
   ]
  },
  {
   "cell_type": "markdown",
   "metadata": {},
   "source": [
    "TO DO:\n",
    "\n",
    "- Create a database on the desktop Neo4j app\n",
    "- Fill in all the correct information according to the setup made on the desktop Neo4j app\n",
    "- Install plugins:\n",
    "  - APOC\n",
    "\n",
    "\n",
    "\n",
    "- Update the neo4j conf settings appropriately:\n",
    "  - `dbms.memory.heap.initial_size=2048m`\n",
    "  - `dbms.memory.heap.max_size=4G`\n",
    "  - `dbms.memory.pagecache.size=2048m`\n"
   ]
  },
  {
   "cell_type": "code",
   "execution_count": 3,
   "metadata": {},
   "outputs": [],
   "source": [
    "uri = f\"{scheme}://{host_name}:{port}\"\n",
    "app = Neo4jApp(uri, user, password, database)\n",
    "app.verify_connection()"
   ]
  },
  {
   "cell_type": "markdown",
   "metadata": {},
   "source": [
    "You need to do the following:\n",
    "\n",
    "- Import all the files you'll want to use to the import location on the desktop Neo4j app"
   ]
  },
  {
   "cell_type": "markdown",
   "metadata": {},
   "source": [
    "# Remove nodes (if needed)"
   ]
  },
  {
   "cell_type": "code",
   "execution_count": 4,
   "metadata": {},
   "outputs": [],
   "source": [
    "query_remove_all = \"\"\"\n",
    "MATCH (n)\n",
    "DETACH DELETE n\n",
    "\"\"\"\n",
    "\n",
    "query_remove_all_in_iterations = \"\"\"\n",
    "//Delete all in iterations\n",
    "CALL apoc.periodic.iterate(\n",
    "  \"MATCH (n) RETURN n\",\n",
    "  \"DETACH DELETE n\",\n",
    "  {batchSize: 1000, parallel: false}\n",
    ")\n",
    "YIELD batches, total, errorMessages\n",
    "RETURN batches, total, errorMessages;\n",
    "\"\"\""
   ]
  },
  {
   "cell_type": "code",
   "execution_count": 5,
   "metadata": {},
   "outputs": [
    {
     "data": {
      "text/plain": [
       "EagerResult(records=[<Record batches=1 total=0 errorMessages={}>], summary=<neo4j._work.summary.ResultSummary object at 0x10730fa50>, keys=['batches', 'total', 'errorMessages'])"
      ]
     },
     "execution_count": 5,
     "metadata": {},
     "output_type": "execute_result"
    }
   ],
   "source": [
    "app.query(query_remove_all_in_iterations)"
   ]
  },
  {
   "cell_type": "code",
   "execution_count": 6,
   "metadata": {},
   "outputs": [
    {
     "data": {
      "text/plain": [
       "EagerResult(records=[], summary=<neo4j._work.summary.ResultSummary object at 0x173916bd0>, keys=[])"
      ]
     },
     "execution_count": 6,
     "metadata": {},
     "output_type": "execute_result"
    }
   ],
   "source": [
    "app.query(query_remove_all)"
   ]
  },
  {
   "cell_type": "markdown",
   "metadata": {},
   "source": [
    "# Create constraints"
   ]
  },
  {
   "cell_type": "code",
   "execution_count": 7,
   "metadata": {},
   "outputs": [
    {
     "data": {
      "text/plain": [
       "EagerResult(records=[<Record id=4 name='id_unique' type='UNIQUENESS' entityType='NODE' labelsOrTypes=['Entity'] properties=['id'] ownedIndex='id_unique' propertyType=None>], summary=<neo4j._work.summary.ResultSummary object at 0x17391d050>, keys=['id', 'name', 'type', 'entityType', 'labelsOrTypes', 'properties', 'ownedIndex', 'propertyType'])"
      ]
     },
     "execution_count": 7,
     "metadata": {},
     "output_type": "execute_result"
    }
   ],
   "source": [
    "query_constraint_node_id = \"\"\"\n",
    "CREATE CONSTRAINT id_unique IF NOT EXISTS FOR (x:Entity) REQUIRE x.id IS UNIQUE\n",
    "\"\"\"\n",
    "\n",
    "app.query(query_constraint_node_id)\n",
    "\n",
    "\n",
    "app.query(\"SHOW CONSTRAINTS\")"
   ]
  },
  {
   "cell_type": "markdown",
   "metadata": {},
   "source": [
    "# Load nodes"
   ]
  },
  {
   "cell_type": "code",
   "execution_count": 8,
   "metadata": {},
   "outputs": [
    {
     "name": "stdout",
     "output_type": "stream",
     "text": [
      "done with 0\n",
      "done with 1\n",
      "done with 2\n",
      "done with 3\n",
      "done with 4\n",
      "done with 5\n",
      "done with 6\n",
      "done with 7\n",
      "done with 8\n",
      "done with 9\n"
     ]
    }
   ],
   "source": [
    "# query_load_nodes = \"\"\"\n",
    "# LOAD CSV WITH HEADERS FROM 'file:///kg_nodes.csv' AS row\n",
    "# CREATE (e:Entity {\n",
    "#     id: row.ID,\n",
    "#     type: row.type,\n",
    "#     name: row.name,\n",
    "#     source: row.source\n",
    "# });\n",
    "# \"\"\"\n",
    "\n",
    "# query_load_nodes = \"\"\"\n",
    "# LOAD CSV WITH HEADERS FROM 'file:///kg_nodes.csv' AS row\n",
    "# MERGE (e:Entity {id: row.ID})\n",
    "# SET e.type = row.type,\n",
    "#     e.name = row.name,\n",
    "#     e.source = row.source;\n",
    "# \"\"\"\n",
    "\n",
    "# query_load_nodes_with_embeddings = \"\"\"\n",
    "# LOAD CSV WITH HEADERS FROM 'file:///kg_nodes.csv' AS row\n",
    "# MERGE (e:Entity {id: row.ID})\n",
    "# SET e.type = row.type,\n",
    "#     e.name = row.name,\n",
    "#     e.source = row.source,\n",
    "#     e.embedding = apoc.convert.fromJsonList(row.embedding) // Use apoc.convert.fromJsonList if embeddings are JSON arrays\n",
    "# \"\"\"\n",
    "\n",
    "query_load_nodes_with_embeddings_i_template = \"\"\"\n",
    "CALL apoc.periodic.iterate(\n",
    "  'LOAD CSV WITH HEADERS FROM \"file:///kg_nodes_{i}.csv\" AS row RETURN row',\n",
    "  'MERGE (e:Entity {{id: row.ID}})\n",
    "   SET e.type = row.type,\n",
    "       e.name = row.name,\n",
    "       e.source = row.source,\n",
    "       e.embedding = apoc.convert.fromJsonList(row.embedding)', // Use apoc.convert.fromJsonList if embeddings are JSON arrays\n",
    "  {{batchSize: 1000, iterateList: true, parallel: true}}\n",
    ");\n",
    "\"\"\"\n",
    "\n",
    "\n",
    "# query_load_nodes = \"\"\"\n",
    "# LOAD CSV WITH HEADERS FROM 'file:///kg_nodes.csv' AS row\n",
    "# CALL apoc.create.node(['Entity', row.type], {\n",
    "#     id: row.ID,\n",
    "#     name: row.name,\n",
    "#     source: row.source\n",
    "# }) YIELD node\n",
    "# RETURN node;\n",
    "# \"\"\"\n",
    "\n",
    "# app.query(query=query_load_nodes_with_embeddings_i_template)\n",
    "\n",
    "for i in range(0, 10):\n",
    "    query_load_relations_i = query_load_nodes_with_embeddings_i_template.format(i=i)\n",
    "    app.query(query=query_load_relations_i)\n",
    "    print(\"done with\", i)"
   ]
  },
  {
   "cell_type": "code",
   "execution_count": 9,
   "metadata": {},
   "outputs": [
    {
     "data": {
      "text/plain": [
       "EagerResult(records=[], summary=<neo4j._work.summary.ResultSummary object at 0x1066c6050>, keys=[])"
      ]
     },
     "execution_count": 9,
     "metadata": {},
     "output_type": "execute_result"
    }
   ],
   "source": [
    "len_emb = 1536\n",
    "similarity_function = \"cosine\"\n",
    "\n",
    "vector_index_embedding = \"\"\"\n",
    "CREATE VECTOR INDEX entityEmbeddings IF NOT EXISTS\n",
    "FOR (e:Entity)\n",
    "ON e.embedding\n",
    "OPTIONS {{\n",
    "    indexConfig: {{\n",
    "        `vector.dimensions`: {len_emb},\n",
    "        `vector.similarity_function`: '{similarity_function}'\n",
    "    }}\n",
    "}}\n",
    "\"\"\"\n",
    "\n",
    "vector_index_embedding = vector_index_embedding.format(len_emb=len_emb, similarity_function=similarity_function)\n",
    "\n",
    "app.query(vector_index_embedding)"
   ]
  },
  {
   "cell_type": "markdown",
   "metadata": {},
   "source": [
    "# Load index (if needed)"
   ]
  },
  {
   "cell_type": "code",
   "execution_count": 10,
   "metadata": {},
   "outputs": [],
   "source": [
    "# query_index_nodes = \"\"\"\n",
    "# CREATE INDEX FOR (e:Entity) ON (e.id);\n",
    "# \"\"\"\n",
    "\n",
    "# app.query(query=query_index_nodes)"
   ]
  },
  {
   "cell_type": "markdown",
   "metadata": {},
   "source": [
    "# Load relations"
   ]
  },
  {
   "cell_type": "code",
   "execution_count": 11,
   "metadata": {},
   "outputs": [
    {
     "name": "stdout",
     "output_type": "stream",
     "text": [
      "done with 0\n",
      "done with 1\n",
      "done with 2\n",
      "done with 3\n",
      "done with 4\n",
      "done with 5\n",
      "done with 6\n",
      "done with 7\n",
      "done with 8\n",
      "done with 9\n"
     ]
    }
   ],
   "source": [
    "# query_load_relations = \"\"\"\n",
    "# LOAD CSV WITH HEADERS FROM 'file:///kg_relations.csv' AS row\n",
    "# CREATE (r:Relationship {\n",
    "#     source: row.x_index,\n",
    "#     target: row.y_index,\n",
    "#     name: row.display_relation,\n",
    "#     relation: row.relation\n",
    "# });\n",
    "# \"\"\"\n",
    "\n",
    "\n",
    "# query_load_relations_i_template = \"\"\"\n",
    "# LOAD CSV WITH HEADERS FROM 'file:///kg_relations_{i}.csv' AS row\n",
    "# CREATE (r:Relationship {{\n",
    "#     source: row.x_index,\n",
    "#     target: row.y_index,\n",
    "#     name: row.display_relation,\n",
    "#     relation: row.relation\n",
    "# }});\n",
    "# \"\"\"\n",
    "\n",
    "# query_match_relations_template = \"\"\"\n",
    "# LOAD CSV WITH HEADERS FROM 'file:///kg_relations.csv' AS row\n",
    "# MATCH (x:Entity {{id: row.x_index}})\n",
    "# MATCH (y:Entity {{id: row.y_index}})\n",
    "# CREATE (x)-[r:RELATION {{name: row.display_relation, relation: row.relation}}]->(y);\n",
    "# \"\"\"\n",
    "\n",
    "query_match_relations_i_template_using_apoc = \"\"\"\n",
    "CALL apoc.periodic.iterate(\n",
    "  'LOAD CSV WITH HEADERS FROM \"file:///kg_relations_{i}.csv\" AS row RETURN row',\n",
    "  'MATCH (e1:Entity {{id: row.x_index}})\n",
    "   MATCH (e2:Entity {{id: row.y_index}})\n",
    "   CALL apoc.create.relationship(e1, row.display_relation, {{e2e: [row.relation]}}, e2)\n",
    "   YIELD rel\n",
    "   RETURN count(*)',\n",
    "  {{batchSize:1000, iterateList:true}}\n",
    ")\n",
    "\"\"\"\n",
    "\n",
    "\n",
    "# query_match_relations_i_template = \"\"\"\n",
    "# CALL apoc.periodic.iterate(\n",
    "#   'LOAD CSV WITH HEADERS FROM \"file:///kg_relations_{i}.csv\" AS row RETURN row',\n",
    "#   'MATCH (e1:Entity {{id: row.x_index}})\n",
    "#    MATCH (e2:Entity {{id: row.y_index}})\n",
    "#    CREATE (e1)-[:RELATION {{type: row.display_relation, e2e: [row.relation]}}]->(e2);\n",
    "#    RETURN rel',\n",
    "#   {{batchSize:1000, iterateList:true}}\n",
    "# )\n",
    "# \"\"\"\n",
    "\n",
    "for i in range(0, 10):\n",
    "    query_load_relations_i = query_match_relations_i_template_using_apoc.format(i=i)\n",
    "    app.query(query=query_load_relations_i)\n",
    "    print(\"done with\", i)"
   ]
  },
  {
   "cell_type": "code",
   "execution_count": 12,
   "metadata": {},
   "outputs": [
    {
     "name": "stdout",
     "output_type": "stream",
     "text": [
      "Done\n"
     ]
    }
   ],
   "source": [
    "print(\"Done\")"
   ]
  },
  {
   "cell_type": "code",
   "execution_count": null,
   "metadata": {},
   "outputs": [],
   "source": []
  }
 ],
 "metadata": {
  "kernelspec": {
   "display_name": "stark-qa",
   "language": "python",
   "name": "python3"
  },
  "language_info": {
   "codemirror_mode": {
    "name": "ipython",
    "version": 3
   },
   "file_extension": ".py",
   "mimetype": "text/x-python",
   "name": "python",
   "nbconvert_exporter": "python",
   "pygments_lexer": "ipython3",
   "version": "3.11.9"
  }
 },
 "nbformat": 4,
 "nbformat_minor": 2
}
