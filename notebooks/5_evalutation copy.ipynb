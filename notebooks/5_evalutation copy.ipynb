{
 "cells": [
  {
   "cell_type": "code",
   "execution_count": 2,
   "metadata": {},
   "outputs": [],
   "source": [
    "from utils import load_dict_from_file, all_int_in_set, flatten\n",
    "from utils_nlp import get_number_tokens\n",
    "import numpy as np\n",
    "import os\n",
    "import pandas as pd\n",
    "import re\n",
    "\n",
    "from dotenv import load_dotenv\n",
    "\n",
    "load_dotenv()\n",
    "\n",
    "dataset_name = os.getenv(\"dataset_name\")\n",
    "data_path = os.getenv(\"data_path\")"
   ]
  },
  {
   "cell_type": "code",
   "execution_count": 3,
   "metadata": {},
   "outputs": [
    {
     "name": "stdout",
     "output_type": "stream",
     "text": [
      "92\n"
     ]
    }
   ],
   "source": [
    "list_question_ids = [0, 2, 3, 5, 7, 8, 9, 10, 11, 12, 13, 14, 15, 17, 19, 20, 22, 23, 24, 25, 26, 28, 29, 30, 31, 32, 33, 34, 35, 36, 37, 38, 39, 40, 41, 42, 43, 44, 45, 46, 49, 50, 51, 52, 53, 54, 55, 56, 57, 58, 59, 60, 61, 63, 64, 65, 66, 67, 69, 70, 71, 72, 73, 74, 75, 77, 78, 80, 81, 83, 84, 85, 86, 87, 89, 90, 91, 92, 93, 94, 95, 96, 97, 98, 99, 100, 101, 102, 104, 105, 107, 108]\n",
    "print(len(list_question_ids))"
   ]
  },
  {
   "cell_type": "code",
   "execution_count": 4,
   "metadata": {},
   "outputs": [],
   "source": [
    "def get_dict_compiled_results(results_dict):\n",
    "    list_precision = []\n",
    "    list_recall = []\n",
    "    list_answer_in_context = []\n",
    "    list_len_context = []\n",
    "    list_smallest_context_needed = []\n",
    "    list_matching_reponse_id = []\n",
    "    for item in results_dict.keys():\n",
    "        item_as_int = int(item)\n",
    "        if item_as_int in list_question_ids:\n",
    "            list_precision_ = []\n",
    "            list_recall_ = []\n",
    "            list_answer_in_context_ = []\n",
    "            list_len_context_ = []\n",
    "            list_smallest_context_needed_ = []\n",
    "            list_matching_reponse_id_ = []\n",
    "            answer_id = set(results_dict[item][\"answer_id_\"])\n",
    "            answer_dicts = [answer_ for answer_ in results_dict[item].keys() if type(results_dict[item][answer_]) == dict]\n",
    "\n",
    "            for dict_name in answer_dicts:\n",
    "                response_id = set(flatten(results_dict[item][dict_name][\"matching_ids\"]))\n",
    "                response_name = set(flatten(results_dict[item][dict_name][\"matching_ids\"]))\n",
    "\n",
    "\n",
    "                context_ = str(results_dict[item][dict_name][\"context\"]).lower()\n",
    "                list_len_context_.append(get_number_tokens(context_))\n",
    "\n",
    "                list_precision_.append(len(response_id.intersection(answer_id)) / len(response_id) if len(response_id) > 0 else 0)\n",
    "                list_recall_.append(len(response_id.intersection(answer_id)) / len(answer_id) if len(answer_id) > 0 else 0)\n",
    "                list_matching_reponse_id_.append(len(response_id)/len(response_name) if len(response_name) > 0 else 0)\n",
    "\n",
    "                if item_as_int == 81:\n",
    "                    print(response_id)\n",
    "                    print(answer_id)\n",
    "                    print(list_precision_)\n",
    "\n",
    "                count_in_context = 0\n",
    "                indx = 0\n",
    "\n",
    "                for answer in results_dict[item][\"answer_name\"]:\n",
    "                    if answer.lower() in context_:\n",
    "                        count_in_context += 1\n",
    "                        # find where answer in in context_\n",
    "                        indx_ = context_.index(answer.lower())\n",
    "                        if indx_ > indx:\n",
    "                            indx = indx_\n",
    "                    else:\n",
    "                        indx = 999999\n",
    "\n",
    "                if indx == 999999:\n",
    "                    list_smallest_context_needed_.append(np.nan)\n",
    "                else:\n",
    "                    list_smallest_context_needed_.append(get_number_tokens(context_[:indx]))\n",
    "\n",
    "                is_in_context = count_in_context/len(results_dict[item][\"answer_name\"])\n",
    "\n",
    "                list_answer_in_context_.append(is_in_context)  \n",
    "\n",
    "            list_precision.append(list_precision_)\n",
    "            list_recall.append(list_recall_)\n",
    "            list_answer_in_context.append(list_answer_in_context_)\n",
    "            list_len_context.append(list_len_context_)\n",
    "            list_smallest_context_needed.append(list_smallest_context_needed_)\n",
    "            list_matching_reponse_id.append(list_matching_reponse_id_)\n",
    "\n",
    "        else:\n",
    "            pass\n",
    "            # print(f\"Question {item} not in list_question_ids\")\n",
    "\n",
    "    dict_ = {\n",
    "        \"precision\": list_precision,\n",
    "        \"recall\": list_recall,\n",
    "        \"answer_in_context\": list_answer_in_context,\n",
    "        \"len_context\": list_len_context,\n",
    "        \"smallest_context_needed\": list_smallest_context_needed,\n",
    "        \"matching_reponse_id\": list_matching_reponse_id\n",
    "    } \n",
    "    return dict_\n"
   ]
  },
  {
   "cell_type": "code",
   "execution_count": 23,
   "metadata": {},
   "outputs": [
    {
     "name": "stdout",
     "output_type": "stream",
     "text": [
      "Dictionary loaded from ../data/results/04_09_RAG_v2.json\n",
      "{62634}\n",
      "{62640, 62634}\n",
      "[1.0]\n",
      "precision\n",
      "0.328804347826087\n",
      "recall\n",
      "0.2748188405797101\n",
      "answer_in_context\n",
      "0.4298913043478261\n",
      "len_context\n",
      "7130.79347826087\n",
      "smallest_context_needed\n",
      "1064.4242424242425\n",
      "matching_reponse_id\n",
      "0.8152173913043478\n"
     ]
    }
   ],
   "source": [
    "results_dict = load_dict_from_file(data_path + \"04_09_RAG_v2.json\")\n",
    "results_rag = get_dict_compiled_results(results_dict)\n",
    "\n",
    "\n",
    "for item in results_rag.items():\n",
    "    print(item[0])\n",
    "    print(np.nanmean(item[1]))"
   ]
  },
  {
   "cell_type": "code",
   "execution_count": 20,
   "metadata": {},
   "outputs": [
    {
     "name": "stdout",
     "output_type": "stream",
     "text": [
      "Dictionary loaded from ../data/results/05_09_LINK_10k_max_score.json\n",
      "{128033}\n",
      "{62640, 62634}\n",
      "[0.0]\n",
      "precision\n",
      "0.3076379606454093\n",
      "recall\n",
      "0.36086956521739133\n",
      "answer_in_context\n",
      "0.6958333333333333\n",
      "len_context\n",
      "9587.869565217392\n",
      "smallest_context_needed\n",
      "2542.4754098360654\n",
      "matching_reponse_id\n",
      "1.0\n"
     ]
    }
   ],
   "source": [
    "results_dict = load_dict_from_file(data_path + \"05_09_LINK_10k_max_score.json\")\n",
    "results_sp_10k = get_dict_compiled_results(results_dict)\n",
    "\n",
    "\n",
    "for item in results_sp_10k.items():\n",
    "    print(item[0])\n",
    "    print(np.nanmean(item[1]))"
   ]
  },
  {
   "cell_type": "code",
   "execution_count": 27,
   "metadata": {},
   "outputs": [
    {
     "data": {
      "text/plain": [
       "{'question_': \"I'm currently taking tremelimumab for HIV. Do you know of any antibody-like molecules that would work well with my current treatment?\",\n",
       " 'answer_id_': [18040, 19560, 18039],\n",
       " 'answer_name': ['Leronlimab', 'PRO-542', 'CCR5 mAb'],\n",
       " 'answer_0': {'response': ['Ibalizumab',\n",
       "   'Emapalumab',\n",
       "   'Ofatumumab',\n",
       "   'Afelimomab',\n",
       "   'Urelumab',\n",
       "   'Alemtuzumab',\n",
       "   'Iratumumab',\n",
       "   'Adalimumab',\n",
       "   'Leronlimab',\n",
       "   'Tositumomab',\n",
       "   'Elotuzumab',\n",
       "   'Tafasitamab',\n",
       "   'Daratumumab',\n",
       "   'XmAb 2513',\n",
       "   'Sarilumab',\n",
       "   'Infliximab',\n",
       "   'Olaratumab',\n",
       "   'Ibritumomab tiuxetan',\n",
       "   'Belimumab',\n",
       "   'Utomilumab',\n",
       "   'Zalutumumab',\n",
       "   'Inebilizumab',\n",
       "   'Ligelizumab',\n",
       "   'Golimumab',\n",
       "   'Sifalimumab',\n",
       "   'Sulesomab',\n",
       "   'Epratuzumab'],\n",
       "  'context': 'Tremelimumab has a synergistic interaction with Ibalizumab is an indication for the treatment of AIDS.\\nTremelimumab has a synergistic interaction with Ibalizumab is an indication for the treatment of HIV infectious disease.\\nTremelimumab has a synergistic interaction with Emapalumab is a specific target that interacts with or inhibits IFNG is associated with mycobacterium tuberculosis, susceptibility to is a parent entity to hereditary predisposition to infections is a parent entity to susceptibility to HIV infection.\\nTremelimumab has a synergistic interaction with Ofatumumab is a side effect of Thrombocytopenia exhibits the phenotype of Good syndrome is a parent entity to acquired immunodeficiency.\\nTremelimumab has a synergistic interaction with Ibalizumab is an indication for the treatment of HIV infectious disease is a parent entity to congenital human immunodeficiency virus.\\nIpilimumab has a synergistic interaction with Lamivudine is an indication for the treatment of AIDS.\\nIpilimumab has a synergistic interaction with Tenofovir is an indication for the treatment of HIV infectious disease.\\nIpilimumab has a synergistic interaction with Oseltamivir is an indication for the treatment of influenza, severe, susceptibility to is a parent entity to hereditary predisposition to infections is a parent entity to susceptibility to HIV infection.\\nIpilimumab has a synergistic interaction with Methotrexate is a contraindication for immune system disease is a parent entity to acquired immunodeficiency.\\nIpilimumab has a synergistic interaction with Tenofovir is an indication for the treatment of HIV infectious disease is a parent entity to congenital human immunodeficiency virus.\\nUtomilumab has a synergistic interaction with Ibalizumab is an indication for the treatment of AIDS.\\nUtomilumab has a synergistic interaction with Ibalizumab is an indication for the treatment of HIV infectious disease.\\nUtomilumab has a synergistic interaction with Afelimomab has a synergistic interaction with Acyclovir is an indication for the treatment of herpes simplex encephalitis is a parent entity to hereditary predisposition to infections is a parent entity to susceptibility to HIV infection.\\nUtomilumab has a synergistic interaction with Ofatumumab is a side effect of Thrombocytopenia exhibits the phenotype of Good syndrome is a parent entity to acquired immunodeficiency.\\nUtomilumab has a synergistic interaction with Ibalizumab is an indication for the treatment of HIV infectious disease is a parent entity to congenital human immunodeficiency virus.\\nFresolimumab has a synergistic interaction with Ibalizumab is an indication for the treatment of AIDS.\\nFresolimumab has a synergistic interaction with Ibalizumab is an indication for the treatment of HIV infectious disease.\\nFresolimumab has a synergistic interaction with Emapalumab is a specific target that interacts with or inhibits IFNG is associated with mycobacterium tuberculosis, susceptibility to is a parent entity to hereditary predisposition to infections is a parent entity to susceptibility to HIV infection.\\nFresolimumab has a synergistic interaction with Ofatumumab is a side effect of Thrombocytopenia exhibits the phenotype of Good syndrome is a parent entity to acquired immunodeficiency.\\nFresolimumab has a synergistic interaction with Ibalizumab is an indication for the treatment of HIV infectious disease is a parent entity to congenital human immunodeficiency virus.\\nUrelumab has a synergistic interaction with Ibalizumab is an indication for the treatment of AIDS.\\nUrelumab has a synergistic interaction with Ibalizumab is an indication for the treatment of HIV infectious disease.\\nUrelumab has a synergistic interaction with Afelimomab has a synergistic interaction with Acyclovir is an indication for the treatment of herpes simplex encephalitis is a parent entity to hereditary predisposition to infections is a parent entity to susceptibility to HIV infection.\\nUrelumab has a synergistic interaction with Ofatumumab is a side effect of Thrombocytopenia exhibits the phenotype of Good syndrome is a parent entity to acquired immunodeficiency.\\nUrelumab has a synergistic interaction with Ibalizumab is an indication for the treatment of HIV infectious disease is a parent entity to congenital human immunodeficiency virus.\\nTremelimumab has a synergistic interaction with Alemtuzumab.\\nTremelimumab has a synergistic interaction with Ibalizumab.\\nTremelimumab has a synergistic interaction with Iratumumab.\\nTremelimumab has a synergistic interaction with Adalimumab.\\nTremelimumab has a synergistic interaction with Leronlimab is a specific target that interacts with or inhibits CCR5 is a specific target that interacts with or inhibits CCR5 mAb.\\nTremelimumab has a synergistic interaction with Tositumomab.\\nTremelimumab has a synergistic interaction with Elotuzumab.\\nTremelimumab has a synergistic interaction with Tafasitamab.\\nTremelimumab has a synergistic interaction with Daratumumab.\\nTremelimumab has a synergistic interaction with Ofatumumab.\\nTremelimumab has a synergistic interaction with Urelumab.\\nTremelimumab has a synergistic interaction with Ipilimumab.\\nTremelimumab has a synergistic interaction with XmAb 2513.\\nTremelimumab has a synergistic interaction with Afelimomab.\\nTremelimumab has a synergistic interaction with Sarilumab.\\nTremelimumab has a synergistic interaction with Infliximab.\\nTremelimumab has a synergistic interaction with Olaratumab.\\nTremelimumab has a synergistic interaction with Ibritumomab tiuxetan.\\nTremelimumab has a synergistic interaction with Belimumab.\\nTremelimumab has a synergistic interaction with Utomilumab.\\nTremelimumab has a synergistic interaction with Zalutumumab.\\nTremelimumab has a synergistic interaction with Inebilizumab.\\nTremelimumab has a synergistic interaction with Ligelizumab.\\nTremelimumab has a synergistic interaction with Golimumab.\\nTremelimumab has a synergistic interaction with Sifalimumab.\\nTremelimumab has a synergistic interaction with Leronlimab is a specific target that interacts with or inhibits CCR5 is a specific target that interacts with or inhibits INCB-9471.\\nTremelimumab has a synergistic interaction with Leronlimab.\\nTremelimumab has a synergistic interaction with Sulesomab.\\nTremelimumab has a synergistic interaction with Epratuzumab.\\nIpilimumab has a synergistic interaction with Tremelimumab.\\nIpilimumab has a synergistic interaction with Alemtuzumab.\\nIpilimumab has a synergistic interaction with Ibalizumab.\\nIpilimumab has a synergistic interaction with Iratumumab.\\nIpilimumab has a synergistic interaction with Adalimumab.\\nIpilimumab has a synergistic interaction with Leronlimab is a specific target that interacts with or inhibits CCR5 is a specific target that interacts with or inhibits CCR5 mAb.\\nIpilimumab has a synergistic interaction with Tositumomab.\\nIpilimumab has a synergistic interaction with Elotuzumab.\\nIpilimumab has a synergistic interaction with Tafasitamab.\\nIpilimumab has a synergistic interaction with Daratumumab.\\nIpilimumab has a synergistic interaction with Ofatumumab.\\nIpilimumab has a synergistic interaction with Urelumab.\\nIpilimumab has a synergistic interaction with XmAb 2513.\\nIpilimumab has a synergistic interaction with Afelimomab.\\nIpilimumab has a synergistic interaction with Sarilumab.\\nIpilimumab has a synergistic interaction with Infliximab.\\nIpilimumab has a synergistic interaction with Olaratumab.\\nIpilimumab has a synergistic interaction with Ibritumomab tiuxetan.\\nIpilimumab has a synergistic interaction with Belimumab.\\nIpilimumab has a synergistic interaction with Utomilumab.\\nIpilimumab has a synergistic interaction with Zalutumumab.\\nIpilimumab has a synergistic interaction with Inebilizumab.\\nIpilimumab has a synergistic interaction with Ligelizumab.\\nIpilimumab has a synergistic interaction with Golimumab.\\nIpilimumab has a synergistic interaction with Sifalimumab.\\nIpilimumab has a synergistic interaction with Leronlimab is a specific target that interacts with or inhibits CCR5 is a specific target that interacts with or inhibits INCB-9471.\\nIpilimumab has a synergistic interaction with Leronlimab.\\nIpilimumab has a synergistic interaction with Sulesomab.\\nIpilimumab has a synergistic interaction with Epratuzumab.\\nUtomilumab has a synergistic interaction with Tremelimumab.\\nUtomilumab has a synergistic interaction with Alemtuzumab.\\nUtomilumab has a synergistic interaction with Ibalizumab.\\nUtomilumab has a synergistic interaction with Iratumumab.\\nUtomilumab has a synergistic interaction with Adalimumab.\\nUtomilumab has a synergistic interaction with Leronlimab is a specific target that interacts with or inhibits CCR5 is a specific target that interacts with or inhibits CCR5 mAb.\\nUtomilumab has a synergistic interaction with Tositumomab.\\nUtomilumab has a synergistic interaction with Elotuzumab.\\nUtomilumab has a synergistic interaction with Tafasitamab.\\nUtomilumab has a synergistic interaction with Daratumumab.\\nUtomilumab has a synergistic interaction with Ofatumumab.\\nUtomilumab has a synergistic interaction with Urelumab.\\nUtomilumab has a synergistic interaction with Ipilimumab.\\nUtomilumab has a synergistic interaction with XmAb 2513.\\nUtomilumab has a synergistic interaction with Afelimomab.\\nUtomilumab has a synergistic interaction with Sarilumab.\\nUtomilumab has a synergistic interaction with Infliximab.\\nUtomilumab has a synergistic interaction with Olaratumab.\\nUtomilumab has a synergistic interaction with Ibritumomab tiuxetan.\\nUtomilumab has a synergistic interaction with Belimumab.\\nUtomilumab has a synergistic interaction with Zalutumumab.\\nUtomilumab has a synergistic interaction with Inebilizumab.\\nUtomilumab has a synergistic interaction with Ligelizumab.\\nUtomilumab has a synergistic interaction with Golimumab.\\nUtomilumab has a synergistic interaction with Sifalimumab.\\nUtomilumab has a synergistic interaction with Leronlimab is a specific target that interacts with or inhibits CCR5 is a specific target that interacts with or inhibits INCB-9471.\\nUtomilumab has a synergistic interaction with Leronlimab.\\nUtomilumab has a synergistic interaction with Sulesomab.\\nUtomilumab has a synergistic interaction with Epratuzumab.\\nFresolimumab has a synergistic interaction with Tremelimumab.\\nFresolimumab has a synergistic interaction with Alemtuzumab.\\nFresolimumab has a synergistic interaction with Ibalizumab.\\nFresolimumab has a synergistic interaction with Iratumumab.\\nFresolimumab has a synergistic interaction with Adalimumab.\\nFresolimumab has a synergistic interaction with Leronlimab is a specific target that interacts with or inhibits CCR5 is a specific target that interacts with or inhibits CCR5 mAb.\\nFresolimumab has a synergistic interaction with Tositumomab.\\nFresolimumab has a synergistic interaction with Elotuzumab.\\nFresolimumab has a synergistic interaction with Tafasitamab.\\nFresolimumab has a synergistic interaction with Daratumumab.\\nFresolimumab has a synergistic interaction with Ofatumumab.\\nFresolimumab has a synergistic interaction with Urelumab.\\nFresolimumab has a synergistic interaction with Ipilimumab.\\nFresolimumab has a synergistic interaction with XmAb 2513.\\nFresolimumab has a synergistic interaction with Afelimomab.\\nFresolimumab has a synergistic interaction with Sarilumab.\\nFresolimumab has a synergistic interaction with Infliximab.\\nFresolimumab has a synergistic interaction with Olaratumab.\\nFresolimumab has a synergistic interaction with Ibritumomab tiuxetan.\\nFresolimumab has a synergistic interaction with Belimumab.\\nFresolimumab has a synergistic interaction with Utomilumab.\\nFresolimumab has a synergistic interaction with Zalutumumab.\\nFresolimumab has a synergistic interaction with Inebilizumab.\\nFresolimumab has a synergistic interaction with Ligelizumab.\\nFresolimumab has a synergistic interaction with Golimumab.\\nFresolimumab has a synergistic interaction with Sifalimumab.\\nFresolimumab has a synergistic interaction with Leronlimab is a specific target that interacts with or inhibits CCR5 is a specific target that interacts with or inhibits INCB-9471.\\nFresolimumab has a synergistic interaction with Leronlimab.\\nFresolimumab has a synergistic interaction with Sulesomab.\\nFresolimumab has a synergistic interaction with Epratuzumab.\\nUrelumab has a synergistic interaction with Tremelimumab.\\nUrelumab has a synergistic interaction with Alemtuzumab.\\nUrelumab has a synergistic interaction with Ibalizumab.\\nUrelumab has a synergistic interaction with Iratumumab.\\nUrelumab has a synergistic interaction with Adalimumab.\\nUrelumab has a synergistic interaction with Leronlimab is a specific target that interacts with or inhibits CCR5 is a specific target that interacts with or inhibits CCR5 mAb.\\nUrelumab has a synergistic interaction with Tositumomab.\\nUrelumab has a synergistic interaction with Elotuzumab.\\nUrelumab has a synergistic interaction with Tafasitamab.\\nUrelumab has a synergistic interaction with Daratumumab.\\nUrelumab has a synergistic interaction with Ofatumumab.\\nUrelumab has a synergistic interaction with Ipilimumab.\\nUrelumab has a synergistic interaction with XmAb 2513.\\nUrelumab has a synergistic interaction with Afelimomab.\\nUrelumab has a synergistic interaction with Sarilumab.\\nUrelumab has a synergistic interaction with Infliximab.\\nUrelumab has a synergistic interaction with Olaratumab.\\nUrelumab has a synergistic interaction with Ibritumomab tiuxetan.\\nUrelumab has a synergistic interaction with Belimumab.\\nUrelumab has a synergistic interaction with Utomilumab.\\nUrelumab has a synergistic interaction with Zalutumumab.\\nUrelumab has a synergistic interaction with Inebilizumab.\\nUrelumab has a synergistic interaction with Ligelizumab.\\nUrelumab has a synergistic interaction with Golimumab.\\nUrelumab has a synergistic interaction with Sifalimumab.\\nUrelumab has a synergistic interaction with Leronlimab is a specific target that interacts with or inhibits CCR5 is a specific target that interacts with or inhibits INCB-9471.\\nUrelumab has a synergistic interaction with Leronlimab.\\nUrelumab has a synergistic interaction with Sulesomab.\\nUrelumab has a synergistic interaction with Epratuzumab.\\nAIDS is an indication for the treatment of Ibalizumab has a synergistic interaction with Tremelimumab.\\nAIDS is an indication for the treatment of Ibalizumab has a synergistic interaction with Alemtuzumab.\\nAIDS is an indication for the treatment of Ibalizumab.\\nAIDS is an indication for the treatment of Ibalizumab has a synergistic interaction with Iratumumab.\\nAIDS is an indication for the treatment of Cobicistat has a synergistic interaction with Adalimumab.\\nAIDS is an indication for the treatment of Ibalizumab is a specific target that interacts with or inhibits CCR5 is a specific target that interacts with or inhibits CCR5 mAb.\\nAIDS is an indication for the treatment of Tenofovir has a synergistic interaction with Tositumomab.\\nAIDS is an indication for the treatment of Ibalizumab has a synergistic interaction with Elotuzumab.\\nAIDS is an indication for the treatment of Ibalizumab has a synergistic interaction with Tafasitamab.\\nAIDS is an indication for the treatment of Ibalizumab has a synergistic interaction with Daratumumab.\\nAIDS is an indication for the treatment of Ibalizumab has a synergistic interaction with Ofatumumab.\\nAIDS is an indication for the treatment of Ibalizumab has a synergistic interaction with Urelumab.\\nAIDS is an indication for the treatment of Tenofovir has a synergistic interaction with Ipilimumab.\\nAIDS is an indication for the treatment of Ibalizumab has a synergistic interaction with XmAb 2513.\\nAIDS is an indication for the treatment of Lopinavir has a synergistic interaction with Afelimomab.\\nAIDS is an indication for the treatment of Tenofovir alafenamide has a synergistic interaction with Sarilumab.\\nAIDS is an indication for the treatment of Ibalizumab has a synergistic interaction with Infliximab.\\nAIDS is an indication for the treatment of Ibalizumab has a synergistic interaction with Olaratumab.\\nAIDS is an indication for the treatment of Lopinavir has a synergistic interaction with Ibritumomab tiuxetan.\\nAIDS is an indication for the treatment of Ibalizumab has a synergistic interaction with Belimumab.\\nAIDS is an indication for the treatment of Ibalizumab has a synergistic interaction with Utomilumab.\\nAIDS is an indication for the treatment of Ibalizumab has a synergistic interaction with Zalutumumab.\\nAIDS is an indication for the treatment of Ibalizumab has a synergistic interaction with Inebilizumab.\\nAIDS is an indication for the treatment of Ibalizumab has a synergistic interaction with Ligelizumab.\\nAIDS is an indication for the treatment of Tenofovir has a synergistic interaction with Golimumab.\\nAIDS is an indication for the treatment of Ibalizumab has a synergistic interaction with Sifalimumab.\\nAIDS is an indication for the treatment of Ibalizumab is a specific target that interacts with or inhibits CCR5 is a specific target that interacts with or inhibits INCB-9471.\\nAIDS is an indication for the treatment of Ibalizumab has a synergistic interaction with Leronlimab.\\nAIDS is an indication for the treatment of Ibalizumab has a synergistic interaction with Sulesomab.\\nAIDS is an indication for the treatment of Ibalizumab has a synergistic interaction with Epratuzumab.\\nHIV infectious disease is an indication for the treatment of Ibalizumab has a synergistic interaction with Tremelimumab.\\nHIV infectious disease is an indication for the treatment of Ibalizumab has a synergistic interaction with Alemtuzumab.\\nHIV infectious disease is an indication for the treatment of Ibalizumab.\\nHIV infectious disease is an indication for the treatment of Ibalizumab has a synergistic interaction with Iratumumab.\\nHIV infectious disease is an indication for the treatment of Cobicistat has a synergistic interaction with Adalimumab.\\nHIV infectious disease is associated with CCL11 has a physical interaction with CCR5 is a specific target that interacts with or inhibits CCR5 mAb.\\nHIV infectious disease is an indication for the treatment of Tenofovir has a synergistic interaction with Tositumomab.\\nHIV infectious disease is an indication for the treatment of Ibalizumab has a synergistic interaction with Elotuzumab.\\nHIV infectious disease is an indication for the treatment of Ibalizumab has a synergistic interaction with Tafasitamab.\\nHIV infectious disease is an indication for the treatment of Ibalizumab has a synergistic interaction with Daratumumab.\\nHIV infectious disease is an indication for the treatment of Ibalizumab has a synergistic interaction with Ofatumumab.\\nHIV infectious disease is an indication for the treatment of Ibalizumab has a synergistic interaction with Urelumab.\\nHIV infectious disease is an indication for the treatment of Tenofovir has a synergistic interaction with Ipilimumab.\\nHIV infectious disease is an indication for the treatment of Ibalizumab has a synergistic interaction with XmAb 2513.\\nHIV infectious disease is an indication for the treatment of Lopinavir has a synergistic interaction with Afelimomab.\\nHIV infectious disease is an indication for the treatment of Tenofovir alafenamide has a synergistic interaction with Sarilumab.\\nHIV infectious disease is an indication for the treatment of Ibalizumab has a synergistic interaction with Infliximab.\\nHIV infectious disease is an indication for the treatment of Ibalizumab has a synergistic interaction with Olaratumab.\\nHIV infectious disease is an indication for the treatment of Lopinavir has a synergistic interaction with Ibritumomab tiuxetan.\\nHIV infectious disease is an indication for the treatment of Ibalizumab has a synergistic interaction with Belimumab.\\nHIV infectious disease is an indication for the treatment of Ibalizumab has a synergistic interaction with Utomilumab.\\nHIV infectious disease is an indication for the treatment of Ibalizumab has a synergistic interaction with Zalutumumab.\\nHIV infectious disease is an indication for the treatment of Ibalizumab has a synergistic interaction with Inebilizumab.\\nHIV infectious disease is an indication for the treatment of Ibalizumab has a synergistic interaction with Ligelizumab.\\nHIV infectious disease is an indication for the treatment of Tenofovir has a synergistic interaction with Golimumab.\\nHIV infectious disease is an indication for the treatment of Ibalizumab has a synergistic interaction with Sifalimumab.\\nHIV infectious disease is associated with CCL11 has a physical interaction with CCR5 is a specific target that interacts with or inhibits INCB-9471.\\nHIV infectious disease is an indication for the treatment of Ibalizumab has a synergistic interaction with Leronlimab.\\nHIV infectious disease is an indication for the treatment of Ibalizumab has a synergistic interaction with Sulesomab.\\nHIV infectious disease is an indication for the treatment of Ibalizumab has a synergistic interaction with Epratuzumab.\\nSusceptibility to HIV infection is a parent entity to hereditary predisposition to infections is a parent entity to mycobacterium tuberculosis, susceptibility to is associated with IFNG is a specific target that interacts with or inhibits Emapalumab has a synergistic interaction with Tremelimumab.\\nSusceptibility to HIV infection is a parent entity to hereditary predisposition to infections is a parent entity to immunodeficiency is a parent entity to mycobacterial infectious disease is a contraindication for Beclomethasone dipropionate has a synergistic interaction with Alemtuzumab.\\nSusceptibility to HIV infection is a parent entity to hereditary predisposition to infections is a parent entity to mycobacterium tuberculosis, susceptibility to is associated with IFNG is a specific target that interacts with or inhibits Emapalumab has a synergistic interaction with Ibalizumab.\\nSusceptibility to HIV infection is a parent entity to hereditary predisposition to infections is a parent entity to mycobacterium tuberculosis, susceptibility to is associated with IFNG is a specific target that interacts with or inhibits Emapalumab has a synergistic interaction with Iratumumab.\\nSusceptibility to HIV infection is a parent entity to hereditary predisposition to infections is a parent entity to inherited disease susceptibility is a parent entity to spondyloarthropathy, susceptibility to is an indication for the treatment of Adalimumab.\\nSusceptibility to HIV infection is a parent entity to hereditary predisposition to infections is a parent entity to mycobacterium tuberculosis, susceptibility to is associated with CCL2 has a physical interaction with CCR5 is a specific target that interacts with or inhibits CCR5 mAb.\\nSusceptibility to HIV infection is a parent entity to hereditary predisposition to infections is a parent entity to influenza, severe, susceptibility to is an indication for the treatment of Oseltamivir has a synergistic interaction with Tositumomab.\\nSusceptibility to HIV infection is a parent entity to hereditary predisposition to infections is a parent entity to herpes simplex encephalitis is an indication for the treatment of Acyclovir has a synergistic interaction with Afelimomab has a synergistic interaction with Elotuzumab.\\nSusceptibility to HIV infection is a parent entity to hereditary predisposition to infections is a parent entity to mycobacterium tuberculosis, susceptibility to is associated with IFNG is a specific target that interacts with or inhibits Emapalumab has a synergistic interaction with Tafasitamab.\\nSusceptibility to HIV infection is a parent entity to hereditary predisposition to infections is a parent entity to herpes simplex encephalitis is an indication for the treatment of Acyclovir has a synergistic interaction with Afelimomab has a synergistic interaction with Daratumumab.\\nSusceptibility to HIV infection is a parent entity to hereditary predisposition to infections is a parent entity to pyogenic bacterial infections due to MyD88 deficiency exhibits the phenotype of Fever is a side effect of Ofatumumab.\\nSusceptibility to HIV infection is a parent entity to hereditary predisposition to infections is a parent entity to herpes simplex encephalitis is an indication for the treatment of Acyclovir has a synergistic interaction with Afelimomab has a synergistic interaction with Urelumab.\\nSusceptibility to HIV infection is a parent entity to hereditary predisposition to infections is a parent entity to influenza, severe, susceptibility to is an indication for the treatment of Oseltamivir has a synergistic interaction with Ipilimumab.\\nSusceptibility to HIV infection is a parent entity to hereditary predisposition to infections is a parent entity to mycobacterium tuberculosis, susceptibility to is associated with IFNG is a specific target that interacts with or inhibits Emapalumab has a synergistic interaction with XmAb 2513.\\nSusceptibility to HIV infection is a parent entity to hereditary predisposition to infections is a parent entity to herpes simplex encephalitis is an indication for the treatment of Acyclovir has a synergistic interaction with Afelimomab.\\nSusceptibility to HIV infection is a parent entity to hereditary predisposition to infections is a parent entity to immunodeficiency is a parent entity to mycobacterial infectious disease is a parent entity to infectious disease is a contraindication for Sarilumab.\\nSusceptibility to HIV infection is a parent entity to hereditary predisposition to infections is a parent entity to inherited disease susceptibility is a parent entity to spondyloarthropathy, susceptibility to is an indication for the treatment of Infliximab.\\nSusceptibility to HIV infection is a parent entity to hereditary predisposition to infections is a parent entity to mycobacterium tuberculosis, susceptibility to is associated with IFNG is a specific target that interacts with or inhibits Emapalumab has a synergistic interaction with Olaratumab.\\nSusceptibility to HIV infection is a parent entity to hereditary predisposition to infections is a parent entity to immunodeficiency is a parent entity to mycobacterial infectious disease is a contraindication for Beclomethasone dipropionate has a synergistic interaction with Ibritumomab tiuxetan.\\nSusceptibility to HIV infection is a parent entity to hereditary predisposition to infections is a parent entity to immunodeficiency is a parent entity to mycobacterial infectious disease is a contraindication for Beclomethasone dipropionate has a synergistic interaction with Belimumab.\\nSusceptibility to HIV infection is a parent entity to hereditary predisposition to infections is a parent entity to herpes simplex encephalitis is an indication for the treatment of Acyclovir has a synergistic interaction with Afelimomab has a synergistic interaction with Utomilumab.\\nSusceptibility to HIV infection is a parent entity to hereditary predisposition to infections is a parent entity to influenza, severe, susceptibility to is associated with PLSCR1 has a physical interaction with EGFR is a specific target that interacts with or inhibits Zalutumumab.\\nSusceptibility to HIV infection is a parent entity to hereditary predisposition to infections is a parent entity to immunodeficiency is a parent entity to mycobacterial infectious disease is a contraindication for Beclomethasone dipropionate has a synergistic interaction with Inebilizumab.\\nSusceptibility to HIV infection is a parent entity to hereditary predisposition to infections is a parent entity to herpes simplex encephalitis is an indication for the treatment of Acyclovir has a synergistic interaction with Afelimomab has a synergistic interaction with Ligelizumab.\\nSusceptibility to HIV infection is a parent entity to hereditary predisposition to infections is a parent entity to inherited disease susceptibility is a parent entity to spondyloarthropathy, susceptibility to is an indication for the treatment of Golimumab.\\nSusceptibility to HIV infection is a parent entity to hereditary predisposition to infections is a parent entity to herpes simplex encephalitis is an indication for the treatment of Acyclovir has a synergistic interaction with Afelimomab has a synergistic interaction with Sifalimumab.\\nSusceptibility to HIV infection is a parent entity to hereditary predisposition to infections is a parent entity to mycobacterium tuberculosis, susceptibility to is associated with CCL2 has a physical interaction with CCR5 is a specific target that interacts with or inhibits INCB-9471.\\nSusceptibility to HIV infection is a parent entity to hereditary predisposition to infections is a parent entity to herpes simplex encephalitis is an indication for the treatment of Acyclovir has a synergistic interaction with Afelimomab has a synergistic interaction with Leronlimab.\\nSusceptibility to HIV infection is a parent entity to hereditary predisposition to infections is a parent entity to herpes simplex encephalitis is an indication for the treatment of Acyclovir has a synergistic interaction with Afelimomab has a synergistic interaction with Sulesomab.\\nSusceptibility to HIV infection is a parent entity to hereditary predisposition to infections is a parent entity to mycobacterium tuberculosis, susceptibility to is associated with IFNG is a specific target that interacts with or inhibits Emapalumab has a synergistic interaction with Epratuzumab.\\nAcquired immunodeficiency is a parent entity to Good syndrome exhibits the phenotype of Thrombocytopenia is a side effect of Ofatumumab has a synergistic interaction with Tremelimumab.\\nAcquired immunodeficiency is a parent entity to immune system disease is a contraindication for Methotrexate has a synergistic interaction with Alemtuzumab.\\nAcquired immunodeficiency is a parent entity to Good syndrome exhibits the phenotype of Thrombocytopenia is a side effect of Ofatumumab has a synergistic interaction with Ibalizumab.\\nAcquired immunodeficiency is a parent entity to Good syndrome exhibits the phenotype of Thrombocytopenia is a side effect of Ofatumumab has a synergistic interaction with Iratumumab.\\nAcquired immunodeficiency is a parent entity to immune system disease is a contraindication for Methotrexate has a synergistic interaction with Adalimumab.\\nAcquired immunodeficiency is a parent entity to Good syndrome exhibits the phenotype of Recurrent skin infections exhibits the phenotype of dermatitis, atopic is associated with CCR5 is a specific target that interacts with or inhibits CCR5 mAb.\\nAcquired immunodeficiency is a parent entity to immune system disease is a contraindication for Methotrexate has a synergistic interaction with Tositumomab.\\nAcquired immunodeficiency is a parent entity to Good syndrome exhibits the phenotype of Thrombocytopenia is a side effect of Ofatumumab has a synergistic interaction with Elotuzumab.\\nAcquired immunodeficiency is a parent entity to Good syndrome exhibits the phenotype of Thrombocytopenia is a side effect of Ofatumumab has a synergistic interaction with Tafasitamab.\\nAcquired immunodeficiency is a parent entity to Good syndrome exhibits the phenotype of Thrombocytopenia is a side effect of Ofatumumab has a synergistic interaction with Daratumumab.\\nAcquired immunodeficiency is a parent entity to Good syndrome exhibits the phenotype of Sinusitis is a side effect of Ofatumumab.\\nAcquired immunodeficiency is a parent entity to Good syndrome exhibits the phenotype of Thrombocytopenia is a side effect of Ofatumumab has a synergistic interaction with Urelumab.\\nAcquired immunodeficiency is a parent entity to immune system disease is a contraindication for Methotrexate has a synergistic interaction with Ipilimumab.\\nAcquired immunodeficiency is a parent entity to Good syndrome exhibits the phenotype of Thrombocytopenia is a side effect of Ofatumumab has a synergistic interaction with XmAb 2513.\\nAcquired immunodeficiency is a parent entity to immune system disease is a contraindication for Methotrexate has a synergistic interaction with Afelimomab.\\nAcquired immunodeficiency is a parent entity to immune system disease is a contraindication for Methotrexate has a synergistic interaction with Sarilumab.\\nAcquired immunodeficiency is a parent entity to immune system disease is a contraindication for Methotrexate has a synergistic interaction with Infliximab.\\nAcquired immunodeficiency is a parent entity to Good syndrome exhibits the phenotype of Thrombocytopenia is a side effect of Ofatumumab has a synergistic interaction with Olaratumab.\\nAcquired immunodeficiency is a parent entity to immune system disease is a contraindication for Methotrexate has a synergistic interaction with Ibritumomab tiuxetan.\\nAcquired immunodeficiency is a parent entity to immune system disease is a contraindication for Methotrexate has a synergistic interaction with Belimumab.\\nAcquired immunodeficiency is a parent entity to Good syndrome exhibits the phenotype of Thrombocytopenia is a side effect of Ofatumumab has a synergistic interaction with Utomilumab.\\nAcquired immunodeficiency is a parent entity to Good syndrome exhibits the phenotype of Thrombocytopenia is a side effect of Ofatumumab has a synergistic interaction with Zalutumumab.\\nAcquired immunodeficiency is a parent entity to immune system disease is a contraindication for Methotrexate has a synergistic interaction with Inebilizumab.\\nAcquired immunodeficiency is a parent entity to Good syndrome exhibits the phenotype of Thrombocytopenia is a side effect of Ofatumumab has a synergistic interaction with Ligelizumab.\\nAcquired immunodeficiency is a parent entity to immune system disease is a contraindication for Methotrexate has a synergistic interaction with Golimumab.\\nAcquired immunodeficiency is a parent entity to Good syndrome exhibits the phenotype of Thrombocytopenia is associated with IFNA2 is a specific target that interacts with or inhibits Sifalimumab.\\nAcquired immunodeficiency is a parent entity to Good syndrome exhibits the phenotype of Recurrent skin infections exhibits the phenotype of dermatitis, atopic is associated with CCR5 is a specific target that interacts with or inhibits INCB-9471.\\nAcquired immunodeficiency is a parent entity to Good syndrome exhibits the phenotype of Thrombocytopenia is a side effect of Ofatumumab has a synergistic interaction with Leronlimab.\\nAcquired immunodeficiency is a parent entity to Good syndrome exhibits the phenotype of Thrombocytopenia is a side effect of Ofatumumab has a synergistic interaction with Sulesomab.\\nAcquired immunodeficiency is a parent entity to Good syndrome exhibits the phenotype of Thrombocytopenia is a side effect of Ofatumumab has a synergistic interaction with Epratuzumab.\\nCongenital human immunodeficiency virus is a parent entity to HIV infectious disease is an indication for the treatment of Ibalizumab has a synergistic interaction with Tremelimumab.\\nCongenital human immunodeficiency virus is a parent entity to HIV infectious disease is an indication for the treatment of Ibalizumab has a synergistic interaction with Alemtuzumab.\\nCongenital human immunodeficiency virus is a parent entity to HIV infectious disease is an indication for the treatment of Ibalizumab.\\nCongenital human immunodeficiency virus is a parent entity to HIV infectious disease is an indication for the treatment of Ibalizumab has a synergistic interaction with Iratumumab.\\nCongenital human immunodeficiency virus is a parent entity to HIV infectious disease is an indication for the treatment of Cobicistat has a synergistic interaction with Adalimumab.\\nCongenital human immunodeficiency virus is a parent entity to HIV infectious disease is associated with CCL11 has a physical interaction with CCR5 is a specific target that interacts with or inhibits CCR5 mAb.\\nCongenital human immunodeficiency virus is a parent entity to HIV infectious disease is an indication for the treatment of Tenofovir has a synergistic interaction with Tositumomab.\\nCongenital human immunodeficiency virus is a parent entity to HIV infectious disease is an indication for the treatment of Ibalizumab has a synergistic interaction with Elotuzumab.\\nCongenital human immunodeficiency virus is a parent entity to HIV infectious disease is an indication for the treatment of Ibalizumab has a synergistic interaction with Tafasitamab.\\nCongenital human immunodeficiency virus is a parent entity to HIV infectious disease is an indication for the treatment of Ibalizumab has a synergistic interaction with Daratumumab.\\nCongenital human immunodeficiency virus is a parent entity to HIV infectious disease is an indication for the treatment of Ibalizumab has a synergistic interaction with Ofatumumab.\\nCongenital human immunodeficiency virus is a parent entity to HIV infectious disease is an indication for the treatment of Ibalizumab has a synergistic interaction with Urelumab.\\nCongenital human immunodeficiency virus is a parent entity to HIV infectious disease is an indication for the treatment of Tenofovir has a synergistic interaction with Ipilimumab.\\nCongenital human immunodeficiency virus is a parent entity to HIV infectious disease is an indication for the treatment of Ibalizumab has a synergistic interaction with XmAb 2513.\\nCongenital human immunodeficiency virus is a parent entity to HIV infectious disease is an indication for the treatment of Lopinavir has a synergistic interaction with Afelimomab.\\nCongenital human immunodeficiency virus is a parent entity to HIV infectious disease is an indication for the treatment of Tenofovir alafenamide has a synergistic interaction with Sarilumab.\\nCongenital human immunodeficiency virus is a parent entity to HIV infectious disease is an indication for the treatment of Ibalizumab has a synergistic interaction with Infliximab.\\nCongenital human immunodeficiency virus is a parent entity to HIV infectious disease is an indication for the treatment of Ibalizumab has a synergistic interaction with Olaratumab.\\nCongenital human immunodeficiency virus is a parent entity to HIV infectious disease is an indication for the treatment of Lopinavir has a synergistic interaction with Ibritumomab tiuxetan.\\nCongenital human immunodeficiency virus is a parent entity to HIV infectious disease is an indication for the treatment of Ibalizumab has a synergistic interaction with Belimumab.\\nCongenital human immunodeficiency virus is a parent entity to HIV infectious disease is an indication for the treatment of Ibalizumab has a synergistic interaction with Utomilumab.\\nCongenital human immunodeficiency virus is a parent entity to HIV infectious disease is an indication for the treatment of Ibalizumab has a synergistic interaction with Zalutumumab.\\nCongenital human immunodeficiency virus is a parent entity to HIV infectious disease is an indication for the treatment of Ibalizumab has a synergistic interaction with Inebilizumab.\\nCongenital human immunodeficiency virus is a parent entity to HIV infectious disease is an indication for the treatment of Ibalizumab has a synergistic interaction with Ligelizumab.\\nCongenital human immunodeficiency virus is a parent entity to HIV infectious disease is an indication for the treatment of Tenofovir has a synergistic interaction with Golimumab.\\nCongenital human immunodeficiency virus is a parent entity to HIV infectious disease is an indication for the treatment of Ibalizumab has a synergistic interaction with Sifalimumab.\\nCongenital human immunodeficiency virus is a parent entity to HIV infectious disease is associated with CCL11 has a physical interaction with CCR5 is a specific target that interacts with or inhibits INCB-9471.\\nCongenital human immunodeficiency virus is a parent entity to HIV infectious disease is an indication for the treatment of Ibalizumab has a synergistic interaction with Leronlimab.\\nCongenital human immunodeficiency virus is a parent entity to HIV infectious disease is an indication for the treatment of Ibalizumab has a synergistic interaction with Sulesomab.\\nCongenital human immunodeficiency virus is a parent entity to HIV infectious disease is an indication for the treatment of Ibalizumab has a synergistic interaction with Epratuzumab.\\n',\n",
       "  'matching_ids': [[18042],\n",
       "   [18160],\n",
       "   [16229],\n",
       "   [17586],\n",
       "   [19623],\n",
       "   [16285],\n",
       "   [21049],\n",
       "   [17584],\n",
       "   [18040],\n",
       "   [16228],\n",
       "   [19641],\n",
       "   [19648],\n",
       "   [20158],\n",
       "   [19633],\n",
       "   [15662],\n",
       "   [17585],\n",
       "   [17893],\n",
       "   [16227],\n",
       "   [18283],\n",
       "   [21181],\n",
       "   [17719],\n",
       "   [19645],\n",
       "   [21076],\n",
       "   [17601],\n",
       "   [19618],\n",
       "   [21147],\n",
       "   [16557]]}}"
      ]
     },
     "execution_count": 27,
     "metadata": {},
     "output_type": "execute_result"
    }
   ],
   "source": [
    "results_dict[\"42\"]"
   ]
  },
  {
   "cell_type": "code",
   "execution_count": 24,
   "metadata": {},
   "outputs": [
    {
     "name": "stdout",
     "output_type": "stream",
     "text": [
      "Dictionary loaded from ../data/results/06_09_BOTH_10k_max_text.json\n",
      "{128040}\n",
      "{62640, 62634}\n",
      "[0.0]\n",
      "precision\n",
      "0.2783724930464061\n",
      "recall\n",
      "0.3056159420289855\n",
      "answer_in_context\n",
      "0.6300724637681159\n",
      "len_context\n",
      "8356.326086956522\n",
      "smallest_context_needed\n",
      "2056.6792452830186\n",
      "matching_reponse_id\n",
      "0.9347826086956522\n"
     ]
    }
   ],
   "source": [
    "results_dict = load_dict_from_file(data_path + \"06_09_BOTH_10k_max_text.json\")\n",
    "results_sp_10k_important = get_dict_compiled_results(results_dict)\n",
    "\n",
    "for item in results_sp_10k_important.items():\n",
    "    print(item[0])\n",
    "    print(np.nanmean(item[1]))"
   ]
  },
  {
   "cell_type": "code",
   "execution_count": 26,
   "metadata": {},
   "outputs": [
    {
     "data": {
      "text/plain": [
       "{'question_': \"I'm currently taking tremelimumab for HIV. Do you know of any antibody-like molecules that would work well with my current treatment?\",\n",
       " 'answer_id_': [18040, 19560, 18039],\n",
       " 'answer_name': ['Leronlimab', 'PRO-542', 'CCR5 mAb'],\n",
       " 'answer_0': {'response': ['Ibalizumab',\n",
       "   'Emapalumab',\n",
       "   'Ofatumumab',\n",
       "   'Afelimomab',\n",
       "   'Urelumab',\n",
       "   'Alemtuzumab',\n",
       "   'Iratumumab',\n",
       "   'Adalimumab',\n",
       "   'Leronlimab',\n",
       "   'Tositumomab',\n",
       "   'Elotuzumab',\n",
       "   'Tafasitamab',\n",
       "   'Daratumumab',\n",
       "   'XmAb 2513',\n",
       "   'Sarilumab',\n",
       "   'Infliximab',\n",
       "   'Olaratumab',\n",
       "   'Ibritumomab tiuxetan',\n",
       "   'Belimumab',\n",
       "   'Utomilumab',\n",
       "   'Zalutumumab',\n",
       "   'Inebilizumab',\n",
       "   'Ligelizumab',\n",
       "   'Golimumab',\n",
       "   'Sifalimumab',\n",
       "   'Sulesomab',\n",
       "   'Epratuzumab'],\n",
       "  'context': 'Tremelimumab has a synergistic interaction with Ibalizumab is an indication for the treatment of AIDS.\\nTremelimumab has a synergistic interaction with Ibalizumab is an indication for the treatment of HIV infectious disease.\\nTremelimumab has a synergistic interaction with Emapalumab is a specific target that interacts with or inhibits IFNG is associated with mycobacterium tuberculosis, susceptibility to is a parent entity to hereditary predisposition to infections is a parent entity to susceptibility to HIV infection.\\nTremelimumab has a synergistic interaction with Ofatumumab is a side effect of Thrombocytopenia exhibits the phenotype of Good syndrome is a parent entity to acquired immunodeficiency.\\nTremelimumab has a synergistic interaction with Ibalizumab is an indication for the treatment of HIV infectious disease is a parent entity to congenital human immunodeficiency virus.\\nIpilimumab has a synergistic interaction with Lamivudine is an indication for the treatment of AIDS.\\nIpilimumab has a synergistic interaction with Tenofovir is an indication for the treatment of HIV infectious disease.\\nIpilimumab has a synergistic interaction with Oseltamivir is an indication for the treatment of influenza, severe, susceptibility to is a parent entity to hereditary predisposition to infections is a parent entity to susceptibility to HIV infection.\\nIpilimumab has a synergistic interaction with Methotrexate is a contraindication for immune system disease is a parent entity to acquired immunodeficiency.\\nIpilimumab has a synergistic interaction with Tenofovir is an indication for the treatment of HIV infectious disease is a parent entity to congenital human immunodeficiency virus.\\nUtomilumab has a synergistic interaction with Ibalizumab is an indication for the treatment of AIDS.\\nUtomilumab has a synergistic interaction with Ibalizumab is an indication for the treatment of HIV infectious disease.\\nUtomilumab has a synergistic interaction with Afelimomab has a synergistic interaction with Acyclovir is an indication for the treatment of herpes simplex encephalitis is a parent entity to hereditary predisposition to infections is a parent entity to susceptibility to HIV infection.\\nUtomilumab has a synergistic interaction with Ofatumumab is a side effect of Thrombocytopenia exhibits the phenotype of Good syndrome is a parent entity to acquired immunodeficiency.\\nUtomilumab has a synergistic interaction with Ibalizumab is an indication for the treatment of HIV infectious disease is a parent entity to congenital human immunodeficiency virus.\\nFresolimumab has a synergistic interaction with Ibalizumab is an indication for the treatment of AIDS.\\nFresolimumab has a synergistic interaction with Ibalizumab is an indication for the treatment of HIV infectious disease.\\nFresolimumab has a synergistic interaction with Emapalumab is a specific target that interacts with or inhibits IFNG is associated with mycobacterium tuberculosis, susceptibility to is a parent entity to hereditary predisposition to infections is a parent entity to susceptibility to HIV infection.\\nFresolimumab has a synergistic interaction with Ofatumumab is a side effect of Thrombocytopenia exhibits the phenotype of Good syndrome is a parent entity to acquired immunodeficiency.\\nFresolimumab has a synergistic interaction with Ibalizumab is an indication for the treatment of HIV infectious disease is a parent entity to congenital human immunodeficiency virus.\\nUrelumab has a synergistic interaction with Ibalizumab is an indication for the treatment of AIDS.\\nUrelumab has a synergistic interaction with Ibalizumab is an indication for the treatment of HIV infectious disease.\\nUrelumab has a synergistic interaction with Afelimomab has a synergistic interaction with Acyclovir is an indication for the treatment of herpes simplex encephalitis is a parent entity to hereditary predisposition to infections is a parent entity to susceptibility to HIV infection.\\nUrelumab has a synergistic interaction with Ofatumumab is a side effect of Thrombocytopenia exhibits the phenotype of Good syndrome is a parent entity to acquired immunodeficiency.\\nUrelumab has a synergistic interaction with Ibalizumab is an indication for the treatment of HIV infectious disease is a parent entity to congenital human immunodeficiency virus.\\nTremelimumab has a synergistic interaction with Alemtuzumab.\\nTremelimumab has a synergistic interaction with Ibalizumab.\\nTremelimumab has a synergistic interaction with Iratumumab.\\nTremelimumab has a synergistic interaction with Adalimumab.\\nTremelimumab has a synergistic interaction with Leronlimab is a specific target that interacts with or inhibits CCR5 is a specific target that interacts with or inhibits CCR5 mAb.\\nTremelimumab has a synergistic interaction with Tositumomab.\\nTremelimumab has a synergistic interaction with Elotuzumab.\\nTremelimumab has a synergistic interaction with Tafasitamab.\\nTremelimumab has a synergistic interaction with Daratumumab.\\nTremelimumab has a synergistic interaction with Ofatumumab.\\nTremelimumab has a synergistic interaction with Urelumab.\\nTremelimumab has a synergistic interaction with Ipilimumab.\\nTremelimumab has a synergistic interaction with XmAb 2513.\\nTremelimumab has a synergistic interaction with Afelimomab.\\nTremelimumab has a synergistic interaction with Sarilumab.\\nTremelimumab has a synergistic interaction with Infliximab.\\nTremelimumab has a synergistic interaction with Olaratumab.\\nTremelimumab has a synergistic interaction with Ibritumomab tiuxetan.\\nTremelimumab has a synergistic interaction with Belimumab.\\nTremelimumab has a synergistic interaction with Utomilumab.\\nTremelimumab has a synergistic interaction with Zalutumumab.\\nTremelimumab has a synergistic interaction with Inebilizumab.\\nTremelimumab has a synergistic interaction with Ligelizumab.\\nTremelimumab has a synergistic interaction with Golimumab.\\nTremelimumab has a synergistic interaction with Sifalimumab.\\nTremelimumab has a synergistic interaction with Leronlimab is a specific target that interacts with or inhibits CCR5 is a specific target that interacts with or inhibits INCB-9471.\\nTremelimumab has a synergistic interaction with Leronlimab.\\nTremelimumab has a synergistic interaction with Sulesomab.\\nTremelimumab has a synergistic interaction with Epratuzumab.\\nIpilimumab has a synergistic interaction with Tremelimumab.\\nIpilimumab has a synergistic interaction with Alemtuzumab.\\nIpilimumab has a synergistic interaction with Ibalizumab.\\nIpilimumab has a synergistic interaction with Iratumumab.\\nIpilimumab has a synergistic interaction with Adalimumab.\\nIpilimumab has a synergistic interaction with Leronlimab is a specific target that interacts with or inhibits CCR5 is a specific target that interacts with or inhibits CCR5 mAb.\\nIpilimumab has a synergistic interaction with Tositumomab.\\nIpilimumab has a synergistic interaction with Elotuzumab.\\nIpilimumab has a synergistic interaction with Tafasitamab.\\nIpilimumab has a synergistic interaction with Daratumumab.\\nIpilimumab has a synergistic interaction with Ofatumumab.\\nIpilimumab has a synergistic interaction with Urelumab.\\nIpilimumab has a synergistic interaction with XmAb 2513.\\nIpilimumab has a synergistic interaction with Afelimomab.\\nIpilimumab has a synergistic interaction with Sarilumab.\\nIpilimumab has a synergistic interaction with Infliximab.\\nIpilimumab has a synergistic interaction with Olaratumab.\\nIpilimumab has a synergistic interaction with Ibritumomab tiuxetan.\\nIpilimumab has a synergistic interaction with Belimumab.\\nIpilimumab has a synergistic interaction with Utomilumab.\\nIpilimumab has a synergistic interaction with Zalutumumab.\\nIpilimumab has a synergistic interaction with Inebilizumab.\\nIpilimumab has a synergistic interaction with Ligelizumab.\\nIpilimumab has a synergistic interaction with Golimumab.\\nIpilimumab has a synergistic interaction with Sifalimumab.\\nIpilimumab has a synergistic interaction with Leronlimab is a specific target that interacts with or inhibits CCR5 is a specific target that interacts with or inhibits INCB-9471.\\nIpilimumab has a synergistic interaction with Leronlimab.\\nIpilimumab has a synergistic interaction with Sulesomab.\\nIpilimumab has a synergistic interaction with Epratuzumab.\\nUtomilumab has a synergistic interaction with Tremelimumab.\\nUtomilumab has a synergistic interaction with Alemtuzumab.\\nUtomilumab has a synergistic interaction with Ibalizumab.\\nUtomilumab has a synergistic interaction with Iratumumab.\\nUtomilumab has a synergistic interaction with Adalimumab.\\nUtomilumab has a synergistic interaction with Leronlimab is a specific target that interacts with or inhibits CCR5 is a specific target that interacts with or inhibits CCR5 mAb.\\nUtomilumab has a synergistic interaction with Tositumomab.\\nUtomilumab has a synergistic interaction with Elotuzumab.\\nUtomilumab has a synergistic interaction with Tafasitamab.\\nUtomilumab has a synergistic interaction with Daratumumab.\\nUtomilumab has a synergistic interaction with Ofatumumab.\\nUtomilumab has a synergistic interaction with Urelumab.\\nUtomilumab has a synergistic interaction with Ipilimumab.\\nUtomilumab has a synergistic interaction with XmAb 2513.\\nUtomilumab has a synergistic interaction with Afelimomab.\\nUtomilumab has a synergistic interaction with Sarilumab.\\nUtomilumab has a synergistic interaction with Infliximab.\\nUtomilumab has a synergistic interaction with Olaratumab.\\nUtomilumab has a synergistic interaction with Ibritumomab tiuxetan.\\nUtomilumab has a synergistic interaction with Belimumab.\\nUtomilumab has a synergistic interaction with Zalutumumab.\\nUtomilumab has a synergistic interaction with Inebilizumab.\\nUtomilumab has a synergistic interaction with Ligelizumab.\\nUtomilumab has a synergistic interaction with Golimumab.\\nUtomilumab has a synergistic interaction with Sifalimumab.\\nUtomilumab has a synergistic interaction with Leronlimab is a specific target that interacts with or inhibits CCR5 is a specific target that interacts with or inhibits INCB-9471.\\nUtomilumab has a synergistic interaction with Leronlimab.\\nUtomilumab has a synergistic interaction with Sulesomab.\\nUtomilumab has a synergistic interaction with Epratuzumab.\\nFresolimumab has a synergistic interaction with Tremelimumab.\\nFresolimumab has a synergistic interaction with Alemtuzumab.\\nFresolimumab has a synergistic interaction with Ibalizumab.\\nFresolimumab has a synergistic interaction with Iratumumab.\\nFresolimumab has a synergistic interaction with Adalimumab.\\nFresolimumab has a synergistic interaction with Leronlimab is a specific target that interacts with or inhibits CCR5 is a specific target that interacts with or inhibits CCR5 mAb.\\nFresolimumab has a synergistic interaction with Tositumomab.\\nFresolimumab has a synergistic interaction with Elotuzumab.\\nFresolimumab has a synergistic interaction with Tafasitamab.\\nFresolimumab has a synergistic interaction with Daratumumab.\\nFresolimumab has a synergistic interaction with Ofatumumab.\\nFresolimumab has a synergistic interaction with Urelumab.\\nFresolimumab has a synergistic interaction with Ipilimumab.\\nFresolimumab has a synergistic interaction with XmAb 2513.\\nFresolimumab has a synergistic interaction with Afelimomab.\\nFresolimumab has a synergistic interaction with Sarilumab.\\nFresolimumab has a synergistic interaction with Infliximab.\\nFresolimumab has a synergistic interaction with Olaratumab.\\nFresolimumab has a synergistic interaction with Ibritumomab tiuxetan.\\nFresolimumab has a synergistic interaction with Belimumab.\\nFresolimumab has a synergistic interaction with Utomilumab.\\nFresolimumab has a synergistic interaction with Zalutumumab.\\nFresolimumab has a synergistic interaction with Inebilizumab.\\nFresolimumab has a synergistic interaction with Ligelizumab.\\nFresolimumab has a synergistic interaction with Golimumab.\\nFresolimumab has a synergistic interaction with Sifalimumab.\\nFresolimumab has a synergistic interaction with Leronlimab is a specific target that interacts with or inhibits CCR5 is a specific target that interacts with or inhibits INCB-9471.\\nFresolimumab has a synergistic interaction with Leronlimab.\\nFresolimumab has a synergistic interaction with Sulesomab.\\nFresolimumab has a synergistic interaction with Epratuzumab.\\nUrelumab has a synergistic interaction with Tremelimumab.\\nUrelumab has a synergistic interaction with Alemtuzumab.\\nUrelumab has a synergistic interaction with Ibalizumab.\\nUrelumab has a synergistic interaction with Iratumumab.\\nUrelumab has a synergistic interaction with Adalimumab.\\nUrelumab has a synergistic interaction with Leronlimab is a specific target that interacts with or inhibits CCR5 is a specific target that interacts with or inhibits CCR5 mAb.\\nUrelumab has a synergistic interaction with Tositumomab.\\nUrelumab has a synergistic interaction with Elotuzumab.\\nUrelumab has a synergistic interaction with Tafasitamab.\\nUrelumab has a synergistic interaction with Daratumumab.\\nUrelumab has a synergistic interaction with Ofatumumab.\\nUrelumab has a synergistic interaction with Ipilimumab.\\nUrelumab has a synergistic interaction with XmAb 2513.\\nUrelumab has a synergistic interaction with Afelimomab.\\nUrelumab has a synergistic interaction with Sarilumab.\\nUrelumab has a synergistic interaction with Infliximab.\\nUrelumab has a synergistic interaction with Olaratumab.\\nUrelumab has a synergistic interaction with Ibritumomab tiuxetan.\\nUrelumab has a synergistic interaction with Belimumab.\\nUrelumab has a synergistic interaction with Utomilumab.\\nUrelumab has a synergistic interaction with Zalutumumab.\\nUrelumab has a synergistic interaction with Inebilizumab.\\nUrelumab has a synergistic interaction with Ligelizumab.\\nUrelumab has a synergistic interaction with Golimumab.\\nUrelumab has a synergistic interaction with Sifalimumab.\\nUrelumab has a synergistic interaction with Leronlimab is a specific target that interacts with or inhibits CCR5 is a specific target that interacts with or inhibits INCB-9471.\\nUrelumab has a synergistic interaction with Leronlimab.\\nUrelumab has a synergistic interaction with Sulesomab.\\nUrelumab has a synergistic interaction with Epratuzumab.\\nAIDS is an indication for the treatment of Ibalizumab has a synergistic interaction with Tremelimumab.\\nAIDS is an indication for the treatment of Ibalizumab has a synergistic interaction with Alemtuzumab.\\nAIDS is an indication for the treatment of Ibalizumab.\\nAIDS is an indication for the treatment of Ibalizumab has a synergistic interaction with Iratumumab.\\nAIDS is an indication for the treatment of Cobicistat has a synergistic interaction with Adalimumab.\\nAIDS is an indication for the treatment of Ibalizumab is a specific target that interacts with or inhibits CCR5 is a specific target that interacts with or inhibits CCR5 mAb.\\nAIDS is an indication for the treatment of Tenofovir has a synergistic interaction with Tositumomab.\\nAIDS is an indication for the treatment of Ibalizumab has a synergistic interaction with Elotuzumab.\\nAIDS is an indication for the treatment of Ibalizumab has a synergistic interaction with Tafasitamab.\\nAIDS is an indication for the treatment of Ibalizumab has a synergistic interaction with Daratumumab.\\nAIDS is an indication for the treatment of Ibalizumab has a synergistic interaction with Ofatumumab.\\nAIDS is an indication for the treatment of Ibalizumab has a synergistic interaction with Urelumab.\\nAIDS is an indication for the treatment of Tenofovir has a synergistic interaction with Ipilimumab.\\nAIDS is an indication for the treatment of Ibalizumab has a synergistic interaction with XmAb 2513.\\nAIDS is an indication for the treatment of Lopinavir has a synergistic interaction with Afelimomab.\\nAIDS is an indication for the treatment of Tenofovir alafenamide has a synergistic interaction with Sarilumab.\\nAIDS is an indication for the treatment of Ibalizumab has a synergistic interaction with Infliximab.\\nAIDS is an indication for the treatment of Ibalizumab has a synergistic interaction with Olaratumab.\\nAIDS is an indication for the treatment of Lopinavir has a synergistic interaction with Ibritumomab tiuxetan.\\nAIDS is an indication for the treatment of Ibalizumab has a synergistic interaction with Belimumab.\\nAIDS is an indication for the treatment of Ibalizumab has a synergistic interaction with Utomilumab.\\nAIDS is an indication for the treatment of Ibalizumab has a synergistic interaction with Zalutumumab.\\nAIDS is an indication for the treatment of Ibalizumab has a synergistic interaction with Inebilizumab.\\nAIDS is an indication for the treatment of Ibalizumab has a synergistic interaction with Ligelizumab.\\nAIDS is an indication for the treatment of Tenofovir has a synergistic interaction with Golimumab.\\nAIDS is an indication for the treatment of Ibalizumab has a synergistic interaction with Sifalimumab.\\nAIDS is an indication for the treatment of Ibalizumab is a specific target that interacts with or inhibits CCR5 is a specific target that interacts with or inhibits INCB-9471.\\nAIDS is an indication for the treatment of Ibalizumab has a synergistic interaction with Leronlimab.\\nAIDS is an indication for the treatment of Ibalizumab has a synergistic interaction with Sulesomab.\\nAIDS is an indication for the treatment of Ibalizumab has a synergistic interaction with Epratuzumab.\\nHIV infectious disease is an indication for the treatment of Ibalizumab has a synergistic interaction with Tremelimumab.\\nHIV infectious disease is an indication for the treatment of Ibalizumab has a synergistic interaction with Alemtuzumab.\\nHIV infectious disease is an indication for the treatment of Ibalizumab.\\nHIV infectious disease is an indication for the treatment of Ibalizumab has a synergistic interaction with Iratumumab.\\nHIV infectious disease is an indication for the treatment of Cobicistat has a synergistic interaction with Adalimumab.\\nHIV infectious disease is associated with CCL11 has a physical interaction with CCR5 is a specific target that interacts with or inhibits CCR5 mAb.\\nHIV infectious disease is an indication for the treatment of Tenofovir has a synergistic interaction with Tositumomab.\\nHIV infectious disease is an indication for the treatment of Ibalizumab has a synergistic interaction with Elotuzumab.\\nHIV infectious disease is an indication for the treatment of Ibalizumab has a synergistic interaction with Tafasitamab.\\nHIV infectious disease is an indication for the treatment of Ibalizumab has a synergistic interaction with Daratumumab.\\nHIV infectious disease is an indication for the treatment of Ibalizumab has a synergistic interaction with Ofatumumab.\\nHIV infectious disease is an indication for the treatment of Ibalizumab has a synergistic interaction with Urelumab.\\nHIV infectious disease is an indication for the treatment of Tenofovir has a synergistic interaction with Ipilimumab.\\nHIV infectious disease is an indication for the treatment of Ibalizumab has a synergistic interaction with XmAb 2513.\\nHIV infectious disease is an indication for the treatment of Lopinavir has a synergistic interaction with Afelimomab.\\nHIV infectious disease is an indication for the treatment of Tenofovir alafenamide has a synergistic interaction with Sarilumab.\\nHIV infectious disease is an indication for the treatment of Ibalizumab has a synergistic interaction with Infliximab.\\nHIV infectious disease is an indication for the treatment of Ibalizumab has a synergistic interaction with Olaratumab.\\nHIV infectious disease is an indication for the treatment of Lopinavir has a synergistic interaction with Ibritumomab tiuxetan.\\nHIV infectious disease is an indication for the treatment of Ibalizumab has a synergistic interaction with Belimumab.\\nHIV infectious disease is an indication for the treatment of Ibalizumab has a synergistic interaction with Utomilumab.\\nHIV infectious disease is an indication for the treatment of Ibalizumab has a synergistic interaction with Zalutumumab.\\nHIV infectious disease is an indication for the treatment of Ibalizumab has a synergistic interaction with Inebilizumab.\\nHIV infectious disease is an indication for the treatment of Ibalizumab has a synergistic interaction with Ligelizumab.\\nHIV infectious disease is an indication for the treatment of Tenofovir has a synergistic interaction with Golimumab.\\nHIV infectious disease is an indication for the treatment of Ibalizumab has a synergistic interaction with Sifalimumab.\\nHIV infectious disease is associated with CCL11 has a physical interaction with CCR5 is a specific target that interacts with or inhibits INCB-9471.\\nHIV infectious disease is an indication for the treatment of Ibalizumab has a synergistic interaction with Leronlimab.\\nHIV infectious disease is an indication for the treatment of Ibalizumab has a synergistic interaction with Sulesomab.\\nHIV infectious disease is an indication for the treatment of Ibalizumab has a synergistic interaction with Epratuzumab.\\nSusceptibility to HIV infection is a parent entity to hereditary predisposition to infections is a parent entity to mycobacterium tuberculosis, susceptibility to is associated with IFNG is a specific target that interacts with or inhibits Emapalumab has a synergistic interaction with Tremelimumab.\\nSusceptibility to HIV infection is a parent entity to hereditary predisposition to infections is a parent entity to immunodeficiency is a parent entity to mycobacterial infectious disease is a contraindication for Beclomethasone dipropionate has a synergistic interaction with Alemtuzumab.\\nSusceptibility to HIV infection is a parent entity to hereditary predisposition to infections is a parent entity to mycobacterium tuberculosis, susceptibility to is associated with IFNG is a specific target that interacts with or inhibits Emapalumab has a synergistic interaction with Ibalizumab.\\nSusceptibility to HIV infection is a parent entity to hereditary predisposition to infections is a parent entity to mycobacterium tuberculosis, susceptibility to is associated with IFNG is a specific target that interacts with or inhibits Emapalumab has a synergistic interaction with Iratumumab.\\nSusceptibility to HIV infection is a parent entity to hereditary predisposition to infections is a parent entity to inherited disease susceptibility is a parent entity to spondyloarthropathy, susceptibility to is an indication for the treatment of Adalimumab.\\nSusceptibility to HIV infection is a parent entity to hereditary predisposition to infections is a parent entity to mycobacterium tuberculosis, susceptibility to is associated with CCL2 has a physical interaction with CCR5 is a specific target that interacts with or inhibits CCR5 mAb.\\nSusceptibility to HIV infection is a parent entity to hereditary predisposition to infections is a parent entity to influenza, severe, susceptibility to is an indication for the treatment of Oseltamivir has a synergistic interaction with Tositumomab.\\nSusceptibility to HIV infection is a parent entity to hereditary predisposition to infections is a parent entity to herpes simplex encephalitis is an indication for the treatment of Acyclovir has a synergistic interaction with Afelimomab has a synergistic interaction with Elotuzumab.\\nSusceptibility to HIV infection is a parent entity to hereditary predisposition to infections is a parent entity to mycobacterium tuberculosis, susceptibility to is associated with IFNG is a specific target that interacts with or inhibits Emapalumab has a synergistic interaction with Tafasitamab.\\nSusceptibility to HIV infection is a parent entity to hereditary predisposition to infections is a parent entity to herpes simplex encephalitis is an indication for the treatment of Acyclovir has a synergistic interaction with Afelimomab has a synergistic interaction with Daratumumab.\\nSusceptibility to HIV infection is a parent entity to hereditary predisposition to infections is a parent entity to pyogenic bacterial infections due to MyD88 deficiency exhibits the phenotype of Fever is a side effect of Ofatumumab.\\nSusceptibility to HIV infection is a parent entity to hereditary predisposition to infections is a parent entity to herpes simplex encephalitis is an indication for the treatment of Acyclovir has a synergistic interaction with Afelimomab has a synergistic interaction with Urelumab.\\nSusceptibility to HIV infection is a parent entity to hereditary predisposition to infections is a parent entity to influenza, severe, susceptibility to is an indication for the treatment of Oseltamivir has a synergistic interaction with Ipilimumab.\\nSusceptibility to HIV infection is a parent entity to hereditary predisposition to infections is a parent entity to mycobacterium tuberculosis, susceptibility to is associated with IFNG is a specific target that interacts with or inhibits Emapalumab has a synergistic interaction with XmAb 2513.\\nSusceptibility to HIV infection is a parent entity to hereditary predisposition to infections is a parent entity to herpes simplex encephalitis is an indication for the treatment of Acyclovir has a synergistic interaction with Afelimomab.\\nSusceptibility to HIV infection is a parent entity to hereditary predisposition to infections is a parent entity to immunodeficiency is a parent entity to mycobacterial infectious disease is a parent entity to infectious disease is a contraindication for Sarilumab.\\nSusceptibility to HIV infection is a parent entity to hereditary predisposition to infections is a parent entity to inherited disease susceptibility is a parent entity to spondyloarthropathy, susceptibility to is an indication for the treatment of Infliximab.\\nSusceptibility to HIV infection is a parent entity to hereditary predisposition to infections is a parent entity to mycobacterium tuberculosis, susceptibility to is associated with IFNG is a specific target that interacts with or inhibits Emapalumab has a synergistic interaction with Olaratumab.\\nSusceptibility to HIV infection is a parent entity to hereditary predisposition to infections is a parent entity to immunodeficiency is a parent entity to mycobacterial infectious disease is a contraindication for Beclomethasone dipropionate has a synergistic interaction with Ibritumomab tiuxetan.\\nSusceptibility to HIV infection is a parent entity to hereditary predisposition to infections is a parent entity to immunodeficiency is a parent entity to mycobacterial infectious disease is a contraindication for Beclomethasone dipropionate has a synergistic interaction with Belimumab.\\nSusceptibility to HIV infection is a parent entity to hereditary predisposition to infections is a parent entity to herpes simplex encephalitis is an indication for the treatment of Acyclovir has a synergistic interaction with Afelimomab has a synergistic interaction with Utomilumab.\\nSusceptibility to HIV infection is a parent entity to hereditary predisposition to infections is a parent entity to influenza, severe, susceptibility to is associated with PLSCR1 has a physical interaction with EGFR is a specific target that interacts with or inhibits Zalutumumab.\\nSusceptibility to HIV infection is a parent entity to hereditary predisposition to infections is a parent entity to immunodeficiency is a parent entity to mycobacterial infectious disease is a contraindication for Beclomethasone dipropionate has a synergistic interaction with Inebilizumab.\\nSusceptibility to HIV infection is a parent entity to hereditary predisposition to infections is a parent entity to herpes simplex encephalitis is an indication for the treatment of Acyclovir has a synergistic interaction with Afelimomab has a synergistic interaction with Ligelizumab.\\nSusceptibility to HIV infection is a parent entity to hereditary predisposition to infections is a parent entity to inherited disease susceptibility is a parent entity to spondyloarthropathy, susceptibility to is an indication for the treatment of Golimumab.\\nSusceptibility to HIV infection is a parent entity to hereditary predisposition to infections is a parent entity to herpes simplex encephalitis is an indication for the treatment of Acyclovir has a synergistic interaction with Afelimomab has a synergistic interaction with Sifalimumab.\\nSusceptibility to HIV infection is a parent entity to hereditary predisposition to infections is a parent entity to mycobacterium tuberculosis, susceptibility to is associated with CCL2 has a physical interaction with CCR5 is a specific target that interacts with or inhibits INCB-9471.\\nSusceptibility to HIV infection is a parent entity to hereditary predisposition to infections is a parent entity to herpes simplex encephalitis is an indication for the treatment of Acyclovir has a synergistic interaction with Afelimomab has a synergistic interaction with Leronlimab.\\nSusceptibility to HIV infection is a parent entity to hereditary predisposition to infections is a parent entity to herpes simplex encephalitis is an indication for the treatment of Acyclovir has a synergistic interaction with Afelimomab has a synergistic interaction with Sulesomab.\\nSusceptibility to HIV infection is a parent entity to hereditary predisposition to infections is a parent entity to mycobacterium tuberculosis, susceptibility to is associated with IFNG is a specific target that interacts with or inhibits Emapalumab has a synergistic interaction with Epratuzumab.\\nAcquired immunodeficiency is a parent entity to Good syndrome exhibits the phenotype of Thrombocytopenia is a side effect of Ofatumumab has a synergistic interaction with Tremelimumab.\\nAcquired immunodeficiency is a parent entity to immune system disease is a contraindication for Methotrexate has a synergistic interaction with Alemtuzumab.\\nAcquired immunodeficiency is a parent entity to Good syndrome exhibits the phenotype of Thrombocytopenia is a side effect of Ofatumumab has a synergistic interaction with Ibalizumab.\\nAcquired immunodeficiency is a parent entity to Good syndrome exhibits the phenotype of Thrombocytopenia is a side effect of Ofatumumab has a synergistic interaction with Iratumumab.\\nAcquired immunodeficiency is a parent entity to immune system disease is a contraindication for Methotrexate has a synergistic interaction with Adalimumab.\\nAcquired immunodeficiency is a parent entity to Good syndrome exhibits the phenotype of Recurrent skin infections exhibits the phenotype of dermatitis, atopic is associated with CCR5 is a specific target that interacts with or inhibits CCR5 mAb.\\nAcquired immunodeficiency is a parent entity to immune system disease is a contraindication for Methotrexate has a synergistic interaction with Tositumomab.\\nAcquired immunodeficiency is a parent entity to Good syndrome exhibits the phenotype of Thrombocytopenia is a side effect of Ofatumumab has a synergistic interaction with Elotuzumab.\\nAcquired immunodeficiency is a parent entity to Good syndrome exhibits the phenotype of Thrombocytopenia is a side effect of Ofatumumab has a synergistic interaction with Tafasitamab.\\nAcquired immunodeficiency is a parent entity to Good syndrome exhibits the phenotype of Thrombocytopenia is a side effect of Ofatumumab has a synergistic interaction with Daratumumab.\\nAcquired immunodeficiency is a parent entity to Good syndrome exhibits the phenotype of Sinusitis is a side effect of Ofatumumab.\\nAcquired immunodeficiency is a parent entity to Good syndrome exhibits the phenotype of Thrombocytopenia is a side effect of Ofatumumab has a synergistic interaction with Urelumab.\\nAcquired immunodeficiency is a parent entity to immune system disease is a contraindication for Methotrexate has a synergistic interaction with Ipilimumab.\\nAcquired immunodeficiency is a parent entity to Good syndrome exhibits the phenotype of Thrombocytopenia is a side effect of Ofatumumab has a synergistic interaction with XmAb 2513.\\nAcquired immunodeficiency is a parent entity to immune system disease is a contraindication for Methotrexate has a synergistic interaction with Afelimomab.\\nAcquired immunodeficiency is a parent entity to immune system disease is a contraindication for Methotrexate has a synergistic interaction with Sarilumab.\\nAcquired immunodeficiency is a parent entity to immune system disease is a contraindication for Methotrexate has a synergistic interaction with Infliximab.\\nAcquired immunodeficiency is a parent entity to Good syndrome exhibits the phenotype of Thrombocytopenia is a side effect of Ofatumumab has a synergistic interaction with Olaratumab.\\nAcquired immunodeficiency is a parent entity to immune system disease is a contraindication for Methotrexate has a synergistic interaction with Ibritumomab tiuxetan.\\nAcquired immunodeficiency is a parent entity to immune system disease is a contraindication for Methotrexate has a synergistic interaction with Belimumab.\\nAcquired immunodeficiency is a parent entity to Good syndrome exhibits the phenotype of Thrombocytopenia is a side effect of Ofatumumab has a synergistic interaction with Utomilumab.\\nAcquired immunodeficiency is a parent entity to Good syndrome exhibits the phenotype of Thrombocytopenia is a side effect of Ofatumumab has a synergistic interaction with Zalutumumab.\\nAcquired immunodeficiency is a parent entity to immune system disease is a contraindication for Methotrexate has a synergistic interaction with Inebilizumab.\\nAcquired immunodeficiency is a parent entity to Good syndrome exhibits the phenotype of Thrombocytopenia is a side effect of Ofatumumab has a synergistic interaction with Ligelizumab.\\nAcquired immunodeficiency is a parent entity to immune system disease is a contraindication for Methotrexate has a synergistic interaction with Golimumab.\\nAcquired immunodeficiency is a parent entity to Good syndrome exhibits the phenotype of Thrombocytopenia is associated with IFNA2 is a specific target that interacts with or inhibits Sifalimumab.\\nAcquired immunodeficiency is a parent entity to Good syndrome exhibits the phenotype of Recurrent skin infections exhibits the phenotype of dermatitis, atopic is associated with CCR5 is a specific target that interacts with or inhibits INCB-9471.\\nAcquired immunodeficiency is a parent entity to Good syndrome exhibits the phenotype of Thrombocytopenia is a side effect of Ofatumumab has a synergistic interaction with Leronlimab.\\nAcquired immunodeficiency is a parent entity to Good syndrome exhibits the phenotype of Thrombocytopenia is a side effect of Ofatumumab has a synergistic interaction with Sulesomab.\\nAcquired immunodeficiency is a parent entity to Good syndrome exhibits the phenotype of Thrombocytopenia is a side effect of Ofatumumab has a synergistic interaction with Epratuzumab.\\nCongenital human immunodeficiency virus is a parent entity to HIV infectious disease is an indication for the treatment of Ibalizumab has a synergistic interaction with Tremelimumab.\\nCongenital human immunodeficiency virus is a parent entity to HIV infectious disease is an indication for the treatment of Ibalizumab has a synergistic interaction with Alemtuzumab.\\nCongenital human immunodeficiency virus is a parent entity to HIV infectious disease is an indication for the treatment of Ibalizumab.\\nCongenital human immunodeficiency virus is a parent entity to HIV infectious disease is an indication for the treatment of Ibalizumab has a synergistic interaction with Iratumumab.\\nCongenital human immunodeficiency virus is a parent entity to HIV infectious disease is an indication for the treatment of Cobicistat has a synergistic interaction with Adalimumab.\\nCongenital human immunodeficiency virus is a parent entity to HIV infectious disease is associated with CCL11 has a physical interaction with CCR5 is a specific target that interacts with or inhibits CCR5 mAb.\\nCongenital human immunodeficiency virus is a parent entity to HIV infectious disease is an indication for the treatment of Tenofovir has a synergistic interaction with Tositumomab.\\nCongenital human immunodeficiency virus is a parent entity to HIV infectious disease is an indication for the treatment of Ibalizumab has a synergistic interaction with Elotuzumab.\\nCongenital human immunodeficiency virus is a parent entity to HIV infectious disease is an indication for the treatment of Ibalizumab has a synergistic interaction with Tafasitamab.\\nCongenital human immunodeficiency virus is a parent entity to HIV infectious disease is an indication for the treatment of Ibalizumab has a synergistic interaction with Daratumumab.\\nCongenital human immunodeficiency virus is a parent entity to HIV infectious disease is an indication for the treatment of Ibalizumab has a synergistic interaction with Ofatumumab.\\nCongenital human immunodeficiency virus is a parent entity to HIV infectious disease is an indication for the treatment of Ibalizumab has a synergistic interaction with Urelumab.\\nCongenital human immunodeficiency virus is a parent entity to HIV infectious disease is an indication for the treatment of Tenofovir has a synergistic interaction with Ipilimumab.\\nCongenital human immunodeficiency virus is a parent entity to HIV infectious disease is an indication for the treatment of Ibalizumab has a synergistic interaction with XmAb 2513.\\nCongenital human immunodeficiency virus is a parent entity to HIV infectious disease is an indication for the treatment of Lopinavir has a synergistic interaction with Afelimomab.\\nCongenital human immunodeficiency virus is a parent entity to HIV infectious disease is an indication for the treatment of Tenofovir alafenamide has a synergistic interaction with Sarilumab.\\nCongenital human immunodeficiency virus is a parent entity to HIV infectious disease is an indication for the treatment of Ibalizumab has a synergistic interaction with Infliximab.\\nCongenital human immunodeficiency virus is a parent entity to HIV infectious disease is an indication for the treatment of Ibalizumab has a synergistic interaction with Olaratumab.\\nCongenital human immunodeficiency virus is a parent entity to HIV infectious disease is an indication for the treatment of Lopinavir has a synergistic interaction with Ibritumomab tiuxetan.\\nCongenital human immunodeficiency virus is a parent entity to HIV infectious disease is an indication for the treatment of Ibalizumab has a synergistic interaction with Belimumab.\\nCongenital human immunodeficiency virus is a parent entity to HIV infectious disease is an indication for the treatment of Ibalizumab has a synergistic interaction with Utomilumab.\\nCongenital human immunodeficiency virus is a parent entity to HIV infectious disease is an indication for the treatment of Ibalizumab has a synergistic interaction with Zalutumumab.\\nCongenital human immunodeficiency virus is a parent entity to HIV infectious disease is an indication for the treatment of Ibalizumab has a synergistic interaction with Inebilizumab.\\nCongenital human immunodeficiency virus is a parent entity to HIV infectious disease is an indication for the treatment of Ibalizumab has a synergistic interaction with Ligelizumab.\\nCongenital human immunodeficiency virus is a parent entity to HIV infectious disease is an indication for the treatment of Tenofovir has a synergistic interaction with Golimumab.\\nCongenital human immunodeficiency virus is a parent entity to HIV infectious disease is an indication for the treatment of Ibalizumab has a synergistic interaction with Sifalimumab.\\nCongenital human immunodeficiency virus is a parent entity to HIV infectious disease is associated with CCL11 has a physical interaction with CCR5 is a specific target that interacts with or inhibits INCB-9471.\\nCongenital human immunodeficiency virus is a parent entity to HIV infectious disease is an indication for the treatment of Ibalizumab has a synergistic interaction with Leronlimab.\\nCongenital human immunodeficiency virus is a parent entity to HIV infectious disease is an indication for the treatment of Ibalizumab has a synergistic interaction with Sulesomab.\\nCongenital human immunodeficiency virus is a parent entity to HIV infectious disease is an indication for the treatment of Ibalizumab has a synergistic interaction with Epratuzumab.\\n',\n",
       "  'matching_ids': [[18042],\n",
       "   [18160],\n",
       "   [16229],\n",
       "   [17586],\n",
       "   [19623],\n",
       "   [16285],\n",
       "   [21049],\n",
       "   [17584],\n",
       "   [18040],\n",
       "   [16228],\n",
       "   [19641],\n",
       "   [19648],\n",
       "   [20158],\n",
       "   [19633],\n",
       "   [15662],\n",
       "   [17585],\n",
       "   [17893],\n",
       "   [16227],\n",
       "   [18283],\n",
       "   [21181],\n",
       "   [17719],\n",
       "   [19645],\n",
       "   [21076],\n",
       "   [17601],\n",
       "   [19618],\n",
       "   [21147],\n",
       "   [16557]]}}"
      ]
     },
     "execution_count": 26,
     "metadata": {},
     "output_type": "execute_result"
    }
   ],
   "source": [
    "results_dict[\"42\"]"
   ]
  },
  {
   "cell_type": "code",
   "execution_count": 18,
   "metadata": {},
   "outputs": [
    {
     "name": "stdout",
     "output_type": "stream",
     "text": [
      "Dictionary loaded from ../data/results/05_09_BOTH_10k_tfidf_rank.json\n",
      "{49977}\n",
      "{62640, 62634}\n",
      "[0.0]\n",
      "precision\n",
      "0.30738048183700356\n",
      "recall\n",
      "0.29347826086956524\n",
      "answer_in_context\n",
      "0.6096014492753623\n",
      "len_context\n",
      "8597.184782608696\n",
      "smallest_context_needed\n",
      "2463.72\n",
      "matching_reponse_id\n",
      "0.9891304347826086\n"
     ]
    }
   ],
   "source": [
    "results_dict = load_dict_from_file(data_path + \"05_09_BOTH_10k_tfidf_rank.json\")\n",
    "results_sp_10k_tfidf = get_dict_compiled_results(results_dict)\n",
    "\n",
    "for item in results_sp_10k_tfidf.items():\n",
    "    print(item[0])\n",
    "    print(np.nanmean(item[1]))"
   ]
  },
  {
   "cell_type": "markdown",
   "metadata": {},
   "source": [
    "# By question"
   ]
  },
  {
   "cell_type": "code",
   "execution_count": null,
   "metadata": {},
   "outputs": [],
   "source": [
    "import matplotlib.pyplot as plt\n",
    "import numpy as np\n",
    "\n",
    "def get_variable_name(variable):\n",
    "    names = [name for name in globals() if globals()[name] is variable]\n",
    "    if names:\n",
    "        return names[0]\n",
    "    return None\n",
    "\n",
    "def plot_by_question(data, name_of_metric=\"metric\", data2=None):\n",
    "    if name_of_metric == \"metric\":\n",
    "        name_of_metric = get_variable_name(data)\n",
    "\n",
    "\n",
    "    # Plotting\n",
    "    questions = np.array(list_question_ids)\n",
    "\n",
    "    plt.figure(figsize=(14, 3))\n",
    "\n",
    "    def plot_(data_, colors=[\"blue\", \"green\"], marker='o'):\n",
    "        # Calculate mean, min, and max for each question\n",
    "        means = [np.nanmean(d) for d in data_]\n",
    "        mins = [np.nanmin(d) if len(d) > 0 else np.nan for d in data_]\n",
    "        maxs = [np.nanmax(d) if len(d) > 0 else np.nan for d in data_]\n",
    "        lower_errors = np.clip([m_ - min_ for m_, min_ in zip(means, mins)], 0, 1)\n",
    "        upper_errors = np.clip([max_ - m_ for m_, max_ in zip(means, maxs)], 0, 1)\n",
    "\n",
    "        # Plot non-NaN points\n",
    "        is_nan = np.isnan(means)\n",
    "        plt.errorbar(questions[~is_nan], np.array(means)[~is_nan], yerr=[np.array(lower_errors)[~is_nan], np.array(upper_errors)[~is_nan]], \n",
    "                    fmt='o', capsize=5, marker=marker, markersize=5, color=colors[0])    \n",
    "\n",
    "        if np.sum(is_nan) > 0:\n",
    "            # Explicitly plot NaN points as green dots\n",
    "            plt.scatter(questions[is_nan], np.zeros_like(questions[is_nan]), color=colors[1], marker=marker, s=50, label=\"NaN Points\")\n",
    "\n",
    "    plot_(data, colors=[\"blue\", \"green\"], marker='o')\n",
    "    if data2 is not None:\n",
    "        plot_(data2, colors=[\"purple\", \"darkgreen\"], marker='x')\n",
    "\n",
    "    plt.xlabel('Question', fontsize=14)\n",
    "    plt.ylabel(f\"{name_of_metric}\", fontsize=14)\n",
    "    plt.title(f\"Mean {name_of_metric} with Error Bars for Each Question\", fontsize=16)\n",
    "    plt.xticks(questions, rotation=90)\n",
    "    plt.grid(True, linestyle='--', alpha=0.7)\n",
    "    plt.legend()\n",
    "\n",
    "    plt.tight_layout()\n",
    "    plt.show()"
   ]
  },
  {
   "cell_type": "code",
   "execution_count": null,
   "metadata": {},
   "outputs": [],
   "source": [
    "plot_by_question(results_rag[\"precision\"], \"precision\", results_sp_10k[\"precision\"])"
   ]
  },
  {
   "cell_type": "code",
   "execution_count": null,
   "metadata": {},
   "outputs": [],
   "source": [
    "plot_by_question(results_rag[\"answer_in_context\"], \"answer_in_context\", results_sp_10k[\"answer_in_context\"])"
   ]
  },
  {
   "cell_type": "code",
   "execution_count": null,
   "metadata": {},
   "outputs": [],
   "source": [
    "plot_by_question(results_rag[\"smallest_context_needed\"], \"smallest_context_needed\", results_sp_10k[\"smallest_context_needed\"])"
   ]
  },
  {
   "cell_type": "code",
   "execution_count": null,
   "metadata": {},
   "outputs": [],
   "source": [
    "plot_by_question(results_rag[\"len_context\"], \"len_context\", results_sp_10k[\"len_context\"])"
   ]
  },
  {
   "cell_type": "code",
   "execution_count": null,
   "metadata": {},
   "outputs": [],
   "source": []
  },
  {
   "cell_type": "code",
   "execution_count": null,
   "metadata": {},
   "outputs": [],
   "source": []
  },
  {
   "cell_type": "code",
   "execution_count": null,
   "metadata": {},
   "outputs": [],
   "source": []
  },
  {
   "cell_type": "code",
   "execution_count": null,
   "metadata": {},
   "outputs": [],
   "source": []
  },
  {
   "cell_type": "code",
   "execution_count": null,
   "metadata": {},
   "outputs": [],
   "source": []
  }
 ],
 "metadata": {
  "kernelspec": {
   "display_name": "stark-qa",
   "language": "python",
   "name": "python3"
  },
  "language_info": {
   "codemirror_mode": {
    "name": "ipython",
    "version": 3
   },
   "file_extension": ".py",
   "mimetype": "text/x-python",
   "name": "python",
   "nbconvert_exporter": "python",
   "pygments_lexer": "ipython3",
   "version": "3.11.9"
  }
 },
 "nbformat": 4,
 "nbformat_minor": 2
}
